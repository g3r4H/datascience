{
 "cells": [
  {
   "cell_type": "markdown",
   "metadata": {},
   "source": [
    "# Taller de problemas"
   ]
  },
  {
   "cell_type": "markdown",
   "metadata": {},
   "source": [
    "## Práctica de filtrado\n",
    "1.  Hagan un código que regrese la primera letra de cada palabra en una lista. (Output es una lista de las primeras letras).\n",
    "2.  Hagan un código que regrese solamente las palábras con 5 letras o menos de una lista.\n",
    "3.  Hagan un código que reciba una lista de precios en pesos y los convierta en dólares (Asumir que 20 pesos = 1 dólar).\n",
    "4.  Si hicieron lo anterior con una función map, reduce o filter; hagan una comprensión.\n",
    "\n",
    "## Trabajo del fin de Semana\n",
    "1. Utilizando BeautifulSoup4; scrappea una página de mercado libre con las propiedades: (Nombre del producto, Precio, Precio original, numero de ventas). \n",
    "2. Ahora transforma los datos númericos para que sean de type(int) o type(float) en lugar de string \n",
    "3. Con esos datos, genera un dataframe.\n",
    "4. Crea una nueva columna en donde conviertas el precio en pesos a dólares (1 dólar=20 pesos).\n",
    "5. Guarda el dataframe en un archivo csv.\n",
    "6. Usando BS4, crea una manera de acceder a las siguientes 2 páginas del departamento en donde te encuentres. (Mercadolibre con las mismas variables).\n",
    "7. Scrappea las 3 páginas para tener una lista más grande.\n",
    "8. Nuevamente transforma los datos numéricos para que sean int o float en lugar de string.\n",
    "9. Genera un dataframe.\n",
    "10. Crea una nueva columna en donde conviertas el precio de pesos a dólares (1 dólar=20 pesos).\n",
    "11. Muestra un histograma de la distribución de los precios de celulares.\n",
    "\n",
    "\n",
    "# Reto\n",
    "1. Ahora repite el reto usando Scrapy: (Nombre del producto, Precio, Precio de descuento, número de ventas)\n",
    "2. Usa los selectores que gustes\n",
    "3. Exporta el archivo a csv\n",
    "4. Importa el archivo csv a tu libreta de jupyter."
   ]
  },
  {
   "cell_type": "markdown",
   "metadata": {},
   "source": [
    "# PRÁCTICA DE FILTRADO RESUELTA"
   ]
  },
  {
   "cell_type": "markdown",
   "metadata": {},
   "source": [
    "#### Hagan un código que regrese la primera letra de cada palabra en una lista. (Output es una lista de las primeras letras)"
   ]
  },
  {
   "cell_type": "code",
   "execution_count": 8,
   "metadata": {},
   "outputs": [
    {
     "name": "stdout",
     "output_type": "stream",
     "text": [
      "['u', 'd', 't', 'c', 'c', 's', 's', 'o', 'n', 'd']\n",
      "['u', 'd', 't', 'c', 'c', 's', 's', 'o', 'n', 'd']\n"
     ]
    }
   ],
   "source": [
    "word_list = [\"uno\", \"dos\", \"tres\", \"cuatro\", \"cinco\", \"seis\", \"siete\", \"ocho\", \"nueve\", \"diez\"]\n",
    "mapped_list = map(lambda word: word[0], word_list)\n",
    "mapped_list_comprehension = [word[0] for word in word_list]\n",
    "\n",
    "print(list(mapped_list))\n",
    "print(mapped_list_comprehension)"
   ]
  },
  {
   "cell_type": "markdown",
   "metadata": {},
   "source": [
    "#### Hagan un código que regrese solamente las palábras con 5 letras o menos de una lista"
   ]
  },
  {
   "cell_type": "code",
   "execution_count": 9,
   "metadata": {},
   "outputs": [
    {
     "name": "stdout",
     "output_type": "stream",
     "text": [
      "['cuatro']\n",
      "['cuatro']\n"
     ]
    }
   ],
   "source": [
    "filtered_list = filter(lambda word: len(word) > 5, word_list)\n",
    "filtered_list_comprehension = [word for word in word_list if len(word) > 5]\n",
    "\n",
    "print(list(filtered_list))\n",
    "print(filtered_list_comprehension)"
   ]
  },
  {
   "cell_type": "markdown",
   "metadata": {},
   "source": [
    "#### Hagan un código que reciba una lista de precios en pesos y los convierta en dólares (Asumir que 20 pesos = 1 dólar)"
   ]
  },
  {
   "cell_type": "code",
   "execution_count": 10,
   "metadata": {},
   "outputs": [
    {
     "name": "stdout",
     "output_type": "stream",
     "text": [
      "[2000, 2400, 2600, 2800, 5000, 5800, 6200, 6600, 7100, 8000]\n",
      "[2000, 2400, 2600, 2800, 5000, 5800, 6200, 6600, 7100, 8000]\n"
     ]
    }
   ],
   "source": [
    "pesos_list = [100, 120, 130, 140, 250, 290, 310, 330, 355, 400]\n",
    "dollar_price = 20\n",
    "dollars_list = map(lambda num: num*dollar_price, pesos_list)\n",
    "dollars_list_comprehension = [num*dollar_price for num in pesos_list]\n",
    "\n",
    "print(list(dollars_list))\n",
    "print(dollars_list_comprehension)"
   ]
  },
  {
   "cell_type": "markdown",
   "metadata": {},
   "source": [
    "#### Si hicieron lo anterior con una función map, reduce o filter; hagan una comprensión"
   ]
  },
  {
   "cell_type": "markdown",
   "metadata": {},
   "source": [
    "# Trabajo del fin de semana resuelto"
   ]
  },
  {
   "cell_type": "code",
   "execution_count": null,
   "metadata": {},
   "outputs": [],
   "source": [
    "#%pip install matplotlib"
   ]
  },
  {
   "cell_type": "code",
   "execution_count": 1,
   "metadata": {},
   "outputs": [],
   "source": [
    "from bs4 import BeautifulSoup\n",
    "from matplotlib import pyplot as plt\n",
    "import requests\n",
    "import pandas as pd"
   ]
  },
  {
   "cell_type": "code",
   "execution_count": 2,
   "metadata": {},
   "outputs": [],
   "source": [
    "def get_products_from_page(url):\n",
    "    products = []\n",
    "    products_request = requests.get(url)\n",
    "    soup = BeautifulSoup(products_request.text, 'html.parser')\n",
    "\n",
    "    all_li_tags = soup.select('ol#searchResults>li')\n",
    "    for li_tag in all_li_tags:\n",
    "        span_title_tag = li_tag.select('span.main-title')[0]\n",
    "        title = span_title_tag.text\n",
    "\n",
    "        div_price_container_tag = li_tag.select('div.price__container')[0]\n",
    "        span_old_price_tag = div_price_container_tag.select('span.price-old del')\n",
    "        if len(span_old_price_tag) > 0:\n",
    "            dirty_old_price = span_old_price_tag[0].text\n",
    "            clean_old_price = dirty_old_price[3:].strip()\n",
    "            old_price = float(clean_old_price.replace(',', ''))\n",
    "        else:\n",
    "            old_price = None\n",
    "\n",
    "        span_price_selector = 'div.item__price span.price__fraction'\n",
    "        span_price_tag = div_price_container_tag.select(span_price_selector)[0]\n",
    "        price_clean = span_price_tag.text.replace(',', '')\n",
    "        price_float = float(price_clean)\n",
    "\n",
    "        new_product_entry = {\n",
    "            'name': title,\n",
    "            'old_price': old_price,\n",
    "            'price': price_float\n",
    "        }\n",
    "\n",
    "        products.append(new_product_entry)\n",
    "\n",
    "    return products"
   ]
  },
  {
   "cell_type": "code",
   "execution_count": 6,
   "metadata": {},
   "outputs": [],
   "source": [
    "def makeChart(products):\n",
    "    max_price = products['price'].max()\n",
    "    top_price = int(round(max_price, -3))\n",
    "    step = 2000\n",
    "    bins = [num for num in range(0, top_price + step, step)]\n",
    "    plt.figure(figsize=(12,7))\n",
    "    plt.style.use('fivethirtyeight')\n",
    "    plt.hist(products['price'], bins=bins, edgecolor='black')\n",
    "    plt.title('Precio de Laptops')\n",
    "    plt.xlabel('Precios')\n",
    "    plt.ylabel('Total de Laptops')\n",
    "    plt.show()"
   ]
  },
  {
   "cell_type": "code",
   "execution_count": 4,
   "metadata": {},
   "outputs": [],
   "source": [
    "def scrapeMercadoLibrePages(total_pages):\n",
    "    try:\n",
    "        assert total_pages < 11, 'Quieres scrapear demasiadas páginas, te aviso que no puedo scrapear más de 10'\n",
    "\n",
    "        url_laptops = 'https://laptops.mercadolibre.com.mx/laptops-accesorios/'\n",
    "        current_index = 1\n",
    "        all_products = []\n",
    "        last_page = total_pages + 1\n",
    "        money_convertion = 20\n",
    "\n",
    "        for page in range(1, last_page):\n",
    "            if page == 1:\n",
    "                url = 'https://laptops.mercadolibre.com.mx/laptops-accesorios/'\n",
    "            else:\n",
    "                quantity = current_index + 50\n",
    "                paginator = '_Desde_{}'.format(quantity)\n",
    "                url = '{}{}'.format(url_laptops, paginator)\n",
    "                current_index = quantity\n",
    "\n",
    "            products = get_products_from_page(url)\n",
    "            all_products = all_products + products\n",
    "\n",
    "        laptops_df = pd.DataFrame(all_products)\n",
    "        laptops_df['dollars'] = laptops_df['price'] * money_convertion\n",
    "        laptops_df.to_csv('mercado_libre.csv', header=True)\n",
    "\n",
    "        makeChart(laptops_df)\n",
    "    except AssertionError as error:\n",
    "        print(error)\n",
    "    except IndexError as error:\n",
    "        print('Hay un producto que tiene etiquetas raras, chécalo: {}'.format(error))"
   ]
  },
  {
   "cell_type": "code",
   "execution_count": 7,
   "metadata": {},
   "outputs": [
    {
     "data": {
      "image/png": "[encoded data removed]",
      "text/plain": [
       "<Figure size 864x504 with 1 Axes>"
      ]
     },
     "metadata": {},
     "output_type": "display_data"
    }
   ],
   "source": [
    "scrapeMercadoLibrePages(2)"
   ]
  },
  {
   "cell_type": "markdown",
   "metadata": {},
   "source": [
    "# Otros sitios Scrapping\n",
    "Aeropuerto Ciudad de México\n",
    "\n",
    "http://www.ift.org.mx  (Para descargar datos ya hecho)\n",
    "\n",
    "Despegar.com.mx\n",
    "\n",
    "Trivago.com.mx\n",
    "\n",
    "Coneval (Datos procesados)\n",
    "\n",
    "http://premio.ceneval.edu.mx/premio_egel/index.jsf (Scrappear texto limpio y filtrado)\n",
    "\n",
    "VivaAerobus.com\n"
   ]
  },
  {
   "cell_type": "code",
   "execution_count": null,
   "metadata": {},
   "outputs": [],
   "source": []
  }
 ],
 "metadata": {
  "kernelspec": {
   "display_name": "Python 3",
   "language": "python",
   "name": "python3"
  },
  "language_info": {
   "codemirror_mode": {
    "name": "ipython",
    "version": 3
   },
   "file_extension": ".py",
   "mimetype": "text/x-python",
   "name": "python",
   "nbconvert_exporter": "python",
   "pygments_lexer": "ipython3",
   "version": "3.6.9"
  }
 },
 "nbformat": 4,
 "nbformat_minor": 4
}
