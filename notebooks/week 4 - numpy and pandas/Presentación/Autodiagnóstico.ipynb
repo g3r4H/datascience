{
 "cells": [
  {
   "cell_type": "markdown",
   "metadata": {
    "colab_type": "text",
    "id": "6UuF0oENDpYa"
   },
   "source": [
    "# Autodiagnóstico"
   ]
  },
  {
   "cell_type": "markdown",
   "metadata": {},
   "source": [
    "# Objetivos Particulares: \n",
    "\n",
    "* Refrescar conceptos aprendidos con Introducción a Python\n",
    "* Medir el conocimiento obtenido en la semana actual"
   ]
  },
  {
   "cell_type": "markdown",
   "metadata": {},
   "source": [
    "# Agenda"
   ]
  },
  {
   "cell_type": "markdown",
   "metadata": {},
   "source": [
    "Lunes 17 de febrero 2020:\n",
    "* 18:05 - 18:30 (25 min) Autodiagnóstico Introducción a Python\n",
    "* 18:30 - 18:45 (15 min) Revisión de resultados\n",
    "\n",
    "Miércoles 19 de febrero 2020\n",
    "* 20:20 - 20:45 (25 min) Autodiagnóstico semana actual\n",
    "* 20:45 - 21:00 (15 min) Revisión de resultados"
   ]
  },
  {
   "cell_type": "markdown",
   "metadata": {
    "colab_type": "text",
    "id": "BavbEpheCrO8"
   },
   "source": [
    "# 1. Autodiagnóstico Introducción a Python"
   ]
  },
  {
   "cell_type": "markdown",
   "metadata": {},
   "source": [
    "## 1.1 Objetivos:\n",
    "* Autoevaluar los conceptos aprendidos en las primeras semanas del curso.\n",
    "* Observar la velocidad de procesamiento de los diferentes ejercicios.\n",
    "* Contar con un punto de comparación de Python y NumPy en el análisis de datos."
   ]
  },
  {
   "cell_type": "markdown",
   "metadata": {},
   "source": [
    "### Conceptos de apoyo:\n",
    "- [Declaración de variables](https://www.pythonforbeginners.com/basics/python-variables)\n",
    "- [Tipo de datos](https://pythonista.io/cursos/py101/tipos-de-datos-basicos-y-operadores)\n",
    "- [Ciclos en Python](https://realpython.com/python-for-loop/) , [Video: For loops](https://www.youtube.com/watch?v=OnDr4J2UXSA)\n",
    "- [Importar una librería](https://www.digitalocean.com/community/tutorials/how-to-import-modules-in-python-3)\n",
    "- [Uso de librería random](https://pynative.com/python-random-module/)"
   ]
  },
  {
   "cell_type": "markdown",
   "metadata": {
    "colab_type": "text",
    "id": "pCq2oJ3UYeJn"
   },
   "source": [
    "## 1.1 Ejercicios"
   ]
  },
  {
   "cell_type": "markdown",
   "metadata": {},
   "source": [
    "#### Importar libreria generadora de numeros aleatorios"
   ]
  },
  {
   "cell_type": "code",
   "execution_count": null,
   "metadata": {},
   "outputs": [],
   "source": [
    "import random"
   ]
  },
  {
   "cell_type": "markdown",
   "metadata": {},
   "source": [
    "#### Definir variable *rnd_number* de tipo *float* y asignar a *rnd_number* el valor de un número aleatorio uniformemente distribuido entre [-1,1]"
   ]
  },
  {
   "cell_type": "code",
   "execution_count": 4,
   "metadata": {},
   "outputs": [],
   "source": [
    "rnd_number = random.uniform(-1,1)"
   ]
  },
  {
   "cell_type": "markdown",
   "metadata": {},
   "source": [
    "#### Declarar *rnd_vector* de tipo *list* con 100 numeros aleatorios distribuidos uniformemente entre [-1,1]"
   ]
  },
  {
   "cell_type": "code",
   "execution_count": 5,
   "metadata": {},
   "outputs": [
    {
     "name": "stdout",
     "output_type": "stream",
     "text": [
      "[-0.6368400217532171, 0.18164151177090693, 0.2331987358912324, -0.16723171845913498, -0.6444051694808297, -0.41326736764535266, -0.5792336705245975, -0.22007160599962283, 0.9201534765630432, -0.34176089144011823, 0.128003728960828, 0.6533032531143164, -0.3629841788388235, 0.18658527209872378, -0.13079916371874978, -0.45809226945106496, -0.5685208355316143, -0.7007753567985462, 0.13311554497820532, -0.5361689255805488, -0.37182409241017833, 0.7331475964720917, -0.4152379509613029, 0.33249530245273684, -0.7310741187189258, -0.33440026697140524, -0.44577710414800165, 0.40268274379431035, -0.004383888428196592, -0.6136350150426495, 0.9207715537404397, -0.33941850308598553, -0.44621155353954145, 0.855579189787216, -0.5194840104588971, 0.7023673370112478, 0.803668922476408, -0.4183508971228349, 0.6970080493759696, 0.03359895200409757, 0.20201839242019481, -0.1656016370771456, 0.6864956444881536, 0.06024416211697714, 0.8398566892274826, -0.12106566238484473, 0.2006442016277843, -0.41078420423434703, -0.9946765186655357, -0.6707849035771367, 0.38357110329500577, -0.6901478100144585, -0.9168926975402758, -0.036623197570250676, 0.3668661362036867, -0.5305801901001159, 0.3955817899610232, -0.2880079526944568, 0.08457735175321401, 0.5776287316740061, -0.5859679794665924, 0.8610552012690986, 0.966098932408, 0.27360313735954356, -0.18265320725461343, 0.6880159062842179, 0.6346915394570738, 0.9660202878372772, -0.6048182422805075, 0.6151476133798373, 0.9741917121162065, -0.5790498177661696, -0.598594295368303, 0.034802001560298335, -0.9037565121303779, 0.43565909525311763, 0.9759237097850468, 0.6902673419732335, 0.5594928182341148, 0.23058221304116433, -0.8939461613369102, 0.27062007750717765, 0.5031594601257872, -0.8796896065650861, -0.024469842955336496, -0.8017853142740934, 0.470875537066632, 0.4022035746946575, 0.03132315591267787, 0.26087310387320595, -0.21700441389576386, -0.20772539248404653, -0.46951766529668637, 0.23019460389247426, 0.07106002091356656, 0.5389610295406375, 0.2551359892544207, 0.5652681102034234, -0.38224051684881366, -0.1911290965638035]\n",
      "100\n"
     ]
    }
   ],
   "source": [
    "rnd_vector = [random.uniform(-1,1) for i in range(100)]\n",
    "print(rnd_vector)\n",
    "print(len(rnd_vector))"
   ]
  },
  {
   "cell_type": "markdown",
   "metadata": {},
   "source": [
    "#### Declarar la variable *rnd_mult* y asignar el valor de multiplicar *rnd_number* por *r_vector*\n",
    "* Pregunta: ¿Qué tipo de dato será *rnd_mult*? Una lista de lista cada elemento será de tipo *float*"
   ]
  },
  {
   "cell_type": "code",
   "execution_count": 6,
   "metadata": {},
   "outputs": [],
   "source": [
    "rnd_multp = [rnd_number * i for i in rnd_vector]"
   ]
  },
  {
   "cell_type": "markdown",
   "metadata": {},
   "source": [
    "#### Declarar *rnd_matrix*, asignar los valores de *rnd_mult* distribuidos en 10 filas y 10 columnas\n",
    "* Pregunta: ¿Cómo se verá la variable *rnd_matrix*? (Ejemplo) [[0.1,0.2,0.6],[1.2,9.1,0.3],[0.0,1.2,43.2]]\n",
    "* Pregunta: ¿A qué puede ser equivalente una lista de listas desde un punto de álgebra lineal? Matriz\n",
    "* Pregunta: ¿Qué tipo de dato será la variable *rnd_matrix*? Lista de listas"
   ]
  },
  {
   "cell_type": "code",
   "execution_count": 7,
   "metadata": {},
   "outputs": [
    {
     "name": "stdout",
     "output_type": "stream",
     "text": [
      "[[-0.13913549603653388, 0.039684663302873485, 0.05094877941872279, -0.036536441344872474, -0.1407883139275535, -0.09028980313572495, -0.1265497790915101, -0.04808079112242052, 0.2010332360062505, -0.07466721552062797], [0.027965991010521593, 0.1427323489093868, -0.07930403563066978, 0.040764765874949406, -0.028576731837724086, -0.10008305534113283, -0.12420926097111494, -0.15310395632787066, 0.02908281004345119, -0.11714108233124443], [-0.08123536173716117, 0.16017657656362858, -0.0907203321191127, 0.07264288872615159, -0.15972356741556462, -0.07305908144988658, -0.09739246339545639, 0.0879772963215009, -0.0009577829128055619, -0.13406571397365805], [0.20116827223470418, -0.07415545533843146, -0.09748738100353674, 0.1869251788571008, -0.1134957964470635, 0.15345176888519832, 0.1755839305922781, -0.09140044218368969, 0.15228088276299123, 0.007340629818660097], [0.044136562209934595, -0.03618030452256877, 0.1499841541990789, 0.013162020433915412, 0.183490159323795, -0.026450176517697512, 0.043836331836497155, -0.08974728670910513, -0.2173148767243331, -0.14655170388959934], [0.08380182447596245, -0.15078207179965783, -0.20032082772269247, -0.008001360759885487, 0.08015215767875647, -0.11592006691649975, 0.08642589455625539, -0.06292338419669587, 0.018478285578289184, 0.1261991353576716], [-0.12802107703620935, 0.1881215665648582, 0.21107130454976605, 0.05977624981682412, -0.039905696448020216, 0.15031629786448247, 0.13866610005043262, 0.21105412244596553, -0.13213944362349248, 0.13439618334235331], [0.21283939838896265, -0.12650961131959287, -0.1307796485236955, 0.007603469607368272, -0.1974508609954093, 0.09518190165560819, 0.2132178016716659, 0.15080818689577036, 0.12223683835003671, 0.050377126896582435], [-0.19530751576377045, 0.05912451704550273, 0.10992924231951719, -0.19219277304629967, -0.005346120880019314, -0.1751724037525452, 0.10287591731573548, 0.0878726084437164, 0.006843418576838382, 0.05699501832511107], [-0.04741067731010875, -0.0453834158272348, -0.10257925228870833, 0.050292442848267095, 0.015525046982689276, 0.11775109545259792, 0.05574158534188619, 0.12349861224215705, -0.08351112069026011, -0.04175749128361851]]\n"
     ]
    }
   ],
   "source": [
    "rnd_matrix = [ rnd_multp[i: i+10] for i in range(0,99,10)]\n",
    "print(rnd_matrix)"
   ]
  },
  {
   "cell_type": "markdown",
   "metadata": {},
   "source": [
    "#### Completar la función get_column_matrix(column=0) para obtener la columna *n* de *matrix*"
   ]
  },
  {
   "cell_type": "code",
   "execution_count": 8,
   "metadata": {},
   "outputs": [],
   "source": [
    "def get_column_matrix(matrix=[], n=0):\n",
    "    #return [matrix[i][n] for i in matrix]\n",
    "    column = []\n",
    "    # Operation\n",
    "    for row in matrix:\n",
    "        column.append(row[n])\n",
    "        # column.append(row[¿QUE VALOR VA AQUI?])\n",
    "    return column"
   ]
  },
  {
   "cell_type": "markdown",
   "metadata": {},
   "source": [
    "#### Definir la variable *n_column* y asignar el valor de la columna *n_column* de *rnd_matrix*\n",
    "\n",
    "- Donde *n_column* será generado por la librería random y deberá ser un valor entero entre [0,9]\n",
    "- Tip: Puede utilizar la función get_column_matrix creada previamente"
   ]
  },
  {
   "cell_type": "code",
   "execution_count": 9,
   "metadata": {},
   "outputs": [],
   "source": [
    "n_column = random.randint(0,9)"
   ]
  },
  {
   "cell_type": "code",
   "execution_count": 10,
   "metadata": {},
   "outputs": [
    {
     "name": "stdout",
     "output_type": "stream",
     "text": [
      "[-0.036536441344872474, 0.040764765874949406, 0.07264288872615159, 0.1869251788571008, 0.013162020433915412, -0.008001360759885487, 0.05977624981682412, 0.007603469607368272, -0.19219277304629967, 0.050292442848267095]\n"
     ]
    }
   ],
   "source": [
    "column = get_column_matrix(rnd_matrix, n_column)\n",
    "print(column)"
   ]
  },
  {
   "cell_type": "markdown",
   "metadata": {},
   "source": [
    "#### Calcular la media de la variable *column*"
   ]
  },
  {
   "cell_type": "code",
   "execution_count": 11,
   "metadata": {
    "colab": {
     "base_uri": "https://localhost:8080/",
     "height": 68
    },
    "colab_type": "code",
    "executionInfo": {
     "elapsed": 287,
     "status": "ok",
     "timestamp": 1555993746055,
     "user": {
      "displayName": "Manuel Ferrer",
      "photoUrl": "",
      "userId": "01378850988778114649"
     },
     "user_tz": 300
    },
    "id": "jDfCI-2Yb6b3",
    "outputId": "d813c9f3-0ca6-4c19-93b5-e2155a2dfbd9"
   },
   "outputs": [
    {
     "name": "stdout",
     "output_type": "stream",
     "text": [
      "La media es igual a 0.019443644101351906\n",
      "\n",
      "La media es igual a 0.019443644101351906\n"
     ]
    }
   ],
   "source": [
    "# Usando las funciones basicas\n",
    "media=sum(column)/len(column)\n",
    "\n",
    "print('La media es igual a ' +str(media))\n",
    "\n",
    "print()\n",
    "\n",
    "# Importando el paquete statistics de \n",
    "import statistics as st\n",
    "print('La media es igual a ' +str(st.mean(column)))"
   ]
  },
  {
   "cell_type": "markdown",
   "metadata": {},
   "source": [
    "#### Mostrar el valor máximo y mínimo de la 8va columna de *rnd_matrix*"
   ]
  },
  {
   "cell_type": "code",
   "execution_count": 12,
   "metadata": {},
   "outputs": [],
   "source": [
    "oct_col= get_column_matrix(rnd_matrix, 8)"
   ]
  },
  {
   "cell_type": "code",
   "execution_count": 13,
   "metadata": {
    "colab": {
     "base_uri": "https://localhost:8080/",
     "height": 34
    },
    "colab_type": "code",
    "executionInfo": {
     "elapsed": 270,
     "status": "ok",
     "timestamp": 1555994068333,
     "user": {
      "displayName": "Manuel Ferrer",
      "photoUrl": "",
      "userId": "01378850988778114649"
     },
     "user_tz": 300
    },
    "id": "dJ0491OJb6DF",
    "outputId": "aa8dc429-29de-42b8-d399-6139805a42dc"
   },
   "outputs": [
    {
     "name": "stdout",
     "output_type": "stream",
     "text": [
      "El valor máximo de la octava columna es 0.2010332360062505 mientras que el mínimo es -0.2173148767243331\n"
     ]
    }
   ],
   "source": [
    "print('El valor máximo de la octava columna es '+str(max(oct_col))+' mientras que el mínimo es '+str(min(oct_col)))\n"
   ]
  },
  {
   "cell_type": "markdown",
   "metadata": {
    "colab_type": "text",
    "id": "jW58niF6eWXg"
   },
   "source": [
    "####  Crea un vector del 1 al 5 y eleva a la potencia 3 cada elemento."
   ]
  },
  {
   "cell_type": "code",
   "execution_count": 14,
   "metadata": {
    "colab": {
     "base_uri": "https://localhost:8080/",
     "height": 68
    },
    "colab_type": "code",
    "executionInfo": {
     "elapsed": 282,
     "status": "ok",
     "timestamp": 1555994140154,
     "user": {
      "displayName": "Manuel Ferrer",
      "photoUrl": "",
      "userId": "01378850988778114649"
     },
     "user_tz": 300
    },
    "id": "fckda3XSeWkL",
    "outputId": "99fcac2f-d37b-44ea-9f60-31ff85ea92aa"
   },
   "outputs": [
    {
     "name": "stdout",
     "output_type": "stream",
     "text": [
      "El vector es: [1, 2, 3, 4, 5]\n",
      "\n",
      "El vector es: [1, 8, 27, 64, 125]\n"
     ]
    }
   ],
   "source": [
    "# Creación del vector que contiene del 1 al 5 \n",
    "vector=list(range(1,6))\n",
    "print('El vector es: '+str(vector))\n",
    "print()\n",
    "\n",
    "# Elevación al cuadrado de cada uno de los elementos \n",
    "vector1=[vector[i]**3 for i in range(5) ]\n",
    "print('El vector es: '+str(vector1))"
   ]
  },
  {
   "cell_type": "markdown",
   "metadata": {
    "colab_type": "text",
    "id": "UMLihwiOeucZ"
   },
   "source": [
    "#### Calcula la raíz cuadrada de la lista anterior"
   ]
  },
  {
   "cell_type": "code",
   "execution_count": 15,
   "metadata": {
    "colab": {
     "base_uri": "https://localhost:8080/",
     "height": 34
    },
    "colab_type": "code",
    "executionInfo": {
     "elapsed": 284,
     "status": "ok",
     "timestamp": 1555994313759,
     "user": {
      "displayName": "Manuel Ferrer",
      "photoUrl": "",
      "userId": "01378850988778114649"
     },
     "user_tz": 300
    },
    "id": "LSy0U--8enuA",
    "outputId": "45539919-87ee-4c90-8b28-684116c1b91f"
   },
   "outputs": [
    {
     "name": "stdout",
     "output_type": "stream",
     "text": [
      "[1.0, 2.8284271247461903, 5.196152422706632, 8.0, 11.180339887498949]\n"
     ]
    }
   ],
   "source": [
    "sqrt_vector1=[vector1[i]**(1/2) for i in range(5)]\n",
    "print(sqrt_vector1)"
   ]
  },
  {
   "cell_type": "markdown",
   "metadata": {
    "colab_type": "text",
    "id": "S_svkzyGfSVt"
   },
   "source": [
    "#### Calcular el producto punto de los siguientes dos vectores:  [1,2,3] y  [3,2,1]"
   ]
  },
  {
   "cell_type": "code",
   "execution_count": 16,
   "metadata": {
    "colab": {
     "base_uri": "https://localhost:8080/",
     "height": 68
    },
    "colab_type": "code",
    "executionInfo": {
     "elapsed": 304,
     "status": "ok",
     "timestamp": 1555994527655,
     "user": {
      "displayName": "Manuel Ferrer",
      "photoUrl": "",
      "userId": "01378850988778114649"
     },
     "user_tz": 300
    },
    "id": "aFAxLIKYfPle",
    "outputId": "d81bbe53-e769-4863-e0e0-8b92c8eefecb"
   },
   "outputs": [
    {
     "name": "stdout",
     "output_type": "stream",
     "text": [
      "El producto punto es 10\n",
      "\n",
      "El producto punto es 10\n"
     ]
    }
   ],
   "source": [
    "# Definimos los vectores a usar \n",
    "a = [1,2,3]\n",
    "b = [3,2,1]\n",
    "\n",
    "# Usando tuplas y un ciclo\n",
    "punto = 0\n",
    "for e, f in zip(a,b):\n",
    "  punto += e*f\n",
    "print('El producto punto es '+str(punto))\n",
    "print()\n",
    "\n",
    "# Usando List comprehensions \n",
    "punto2=sum([a[i]*b[i] for i in range(len(a))])\n",
    "print('El producto punto es '+str(punto2))"
   ]
  },
  {
   "cell_type": "markdown",
   "metadata": {},
   "source": [
    "# 2. Autodiagnóstico"
   ]
  },
  {
   "cell_type": "markdown",
   "metadata": {},
   "source": [
    "#### ¿Cómo convertir un vector *float* de 32 bits en uno de *int* de 32 bits?"
   ]
  },
  {
   "cell_type": "code",
   "execution_count": 304,
   "metadata": {},
   "outputs": [
    {
     "name": "stdout",
     "output_type": "stream",
     "text": [
      "[  9.271619   -2.6839414 -17.378786   10.45445    25.230648    9.526986\n",
      "   7.3378334  -2.8073478 -19.425247    4.607221 ]\n",
      "float32\n",
      "[  9  -2 -17  10  25   9   7  -2 -19   4]\n",
      "int32\n"
     ]
    }
   ],
   "source": [
    "array_32 = 10 * np.random.randn(10).astype('f')\n",
    "print(array_32)\n",
    "print(array_32.dtype)\n",
    "\n",
    "array_32 = array_32.astype(np.int32, copy=False)\n",
    "print(array_32)\n",
    "print(array_32.dtype)"
   ]
  },
  {
   "cell_type": "markdown",
   "metadata": {},
   "source": [
    "#### ¿Cómo colocar aleatoriamente diez números *uno* en una matriz 2D llena de zeros? "
   ]
  },
  {
   "cell_type": "code",
   "execution_count": 311,
   "metadata": {},
   "outputs": [
    {
     "name": "stdout",
     "output_type": "stream",
     "text": [
      "[[1. 0. 1. 0. 1. 0. 0. 0. 1. 0.]\n",
      " [0. 0. 1. 0. 0. 0. 0. 1. 0. 0.]\n",
      " [0. 0. 0. 0. 0. 1. 0. 0. 0. 0.]\n",
      " [0. 1. 0. 0. 0. 0. 0. 0. 0. 0.]\n",
      " [0. 0. 0. 0. 0. 0. 0. 0. 0. 0.]\n",
      " [0. 0. 0. 0. 0. 0. 0. 0. 1. 0.]\n",
      " [0. 0. 0. 0. 0. 0. 0. 0. 0. 0.]\n",
      " [0. 0. 0. 0. 0. 0. 0. 0. 0. 0.]\n",
      " [0. 0. 0. 0. 0. 0. 0. 0. 1. 0.]\n",
      " [0. 0. 0. 0. 0. 0. 0. 0. 0. 0.]]\n"
     ]
    }
   ],
   "source": [
    "# Author: Divakar\n",
    "n = 10\n",
    "p = 10\n",
    "matrix_zero = np.zeros((n,n))\n",
    "np.put(matrix_zero, np.random.choice(range(n*n), p, replace=False),1)\n",
    "print(matrix_zero)"
   ]
  },
  {
   "cell_type": "markdown",
   "metadata": {},
   "source": [
    "#### ¿Cómo construir un vector con 3 ceros consecutivos intercalados en el vector `[1,2,3,4,5]`?"
   ]
  },
  {
   "cell_type": "code",
   "execution_count": 314,
   "metadata": {},
   "outputs": [
    {
     "name": "stdout",
     "output_type": "stream",
     "text": [
      "[1. 0. 0. 0. 2. 0. 0. 0. 3. 0. 0. 0. 4. 0. 0. 0. 5.]\n"
     ]
    }
   ],
   "source": [
    "# Author: Warren Weckesser\n",
    "Z = np.array([1,2,3,4,5])\n",
    "nz = 3\n",
    "Z0 = np.zeros(len(Z) + (len(Z)-1)*(nz))\n",
    "Z0[::nz+1] = Z\n",
    "print(Z0)"
   ]
  },
  {
   "cell_type": "markdown",
   "metadata": {
    "colab_type": "text",
    "id": "me_wrfBdfrEC"
   },
   "source": [
    "# 3. Conclusiones\n",
    "\n",
    "### Diferencias clave entre las listas de Python y los arreglos numéricos\n",
    "\n",
    "Mientras que las listas de Python y los arreglos numéricos tienen similitudes en que ambos son colecciones de valores que usan indexación para ayudarle a almacenar y acceder a los datos, hay algunas diferencias clave entre estas dos estructuras de datos:\n",
    "\n",
    "* A diferencia de una lista Python, todos los elementos de un arreglo numpy deben ser del mismo tipo de datos (es decir, todos los enteros, decimales, cadenas de texto, etc.).\n",
    "* Debido a este requisito, los arreglos numéricos soportan operaciones aritméticas y otras operaciones matemáticas que se ejecutan en cada elemento del arreglo (por ejemplo, multiplicación elemento por elemento). Las listas no soportan estos cálculos.\n",
    "* A diferencia de una lista Python, una matriz numpy no se edita añadiendo/eliminando/reemplazando elementos en la matriz. En su lugar, la matriz numpy se borra y se vuelve a crear cada vez que se manipula.\n",
    "* Los arreglos numéricos tienen dimensionalidad como resultado de la capacidad de almacenar datos usando tanto filas como columnas que son relativas entre sí."
   ]
  },
  {
   "cell_type": "markdown",
   "metadata": {
    "colab_type": "text",
    "id": "csU77Jz0Fwz_"
   },
   "source": [
    "# 4. Referencias y material de interés\n",
    "\n",
    "\n",
    "1.   [Python for Data Analysis](https://www.oreilly.com/library/view/python-for-data/9781491957653/) [Online Book](https://jakevdp.github.io/PythonDataScienceHandbook/02.00-introduction-to-numpy.html)\n",
    "2.   [Data Analysis with Python](https://www.coursera.org/learn/data-analysis-with-python)\n",
    "3.   [Deep Learning Prerequisites: The Numpy Stack in Python](https://www.udemy.com/deep-learning-prerequisites-the-numpy-stack-in-python/)\n",
    "4.   [Intro Numpy Arrays](https://www.earthdatascience.org/courses/earth-analytics-bootcamp/numpy-arrays/intro-numpy-arrays/)\n",
    "\n",
    "5. [Vídeo: Intro to Numerical Computing with NumPy (Beginner) | SciPy 2018 Tutorial | Alex Chabot-Leclerc](https://www.youtube.com/watch?v=V0D2mhVt7NE)"
   ]
  }
 ],
 "metadata": {
  "colab": {
   "collapsed_sections": [
    "6UuF0oENDpYa",
    "BavbEpheCrO8",
    "2f2LcPfpFRR0"
   ],
   "name": "Sesión 1 - Numpy.ipynb",
   "provenance": [],
   "version": "0.3.2"
  },
  "kernelspec": {
   "display_name": "Python 3",
   "language": "python",
   "name": "python3"
  },
  "language_info": {
   "codemirror_mode": {
    "name": "ipython",
    "version": 3
   },
   "file_extension": ".py",
   "mimetype": "text/x-python",
   "name": "python",
   "nbconvert_exporter": "python",
   "pygments_lexer": "ipython3",
   "version": "3.6.9"
  }
 },
 "nbformat": 4,
 "nbformat_minor": 1
}
