{
 "cells": [
  {
   "cell_type": "markdown",
   "metadata": {},
   "source": [
    "# Ejercicios de la primera semana\n",
    "\n",
    "A continuación se muestran algunos ejercicios sobre los temas de la semana: \n",
    "\n",
    "\n",
    "#### 1. Calcula el número $\\pi$ usando la fórmula\n",
    "\n",
    "$$\\pi=2\\prod_{i=1}^{\\infty}\\frac{4 i^2 }{4i^2-1 }$$\n",
    "\n",
    "\n",
    "\n"
   ]
  },
  {
   "cell_type": "code",
   "execution_count": null,
   "metadata": {},
   "outputs": [],
   "source": []
  },
  {
   "cell_type": "markdown",
   "metadata": {},
   "source": [
    "#### 2. Calcula las primeras 10 potencias de 2 ($2^n$). Guarda los valores para cada uno de los exponentes y regresa la suma como valor.\n"
   ]
  },
  {
   "cell_type": "code",
   "execution_count": null,
   "metadata": {},
   "outputs": [],
   "source": [
    "for num in range(1, 11):\n",
    "    message = '2^{} = {}'.format(num, 2**num)\n",
    "    print(message)"
   ]
  },
  {
   "cell_type": "markdown",
   "metadata": {},
   "source": [
    "#### 3. Obtener los primeros 10 numeros pares "
   ]
  },
  {
   "cell_type": "code",
   "execution_count": 21,
   "metadata": {},
   "outputs": [
    {
     "name": "stdout",
     "output_type": "stream",
     "text": [
      "First 10 even numbers: 2 4 6 8 10 12 14 16 18 20\n"
     ]
    }
   ],
   "source": [
    "count = 0\n",
    "acc = 1\n",
    "evens = []\n",
    "\n",
    "while(count < 10):\n",
    "    if acc % 2 == 0:\n",
    "        count += 1\n",
    "        evens.append(str(acc))\n",
    "    acc += 1\n",
    "\n",
    "numbers = ' '.join(evens)\n",
    "print('First 10 even numbers: {}'.format(numbers))"
   ]
  },
  {
   "cell_type": "markdown",
   "metadata": {},
   "source": [
    "\n",
    "#### 4. Escriba una función que nos permita calcular la suma de los cuadrados de dos números\n"
   ]
  },
  {
   "cell_type": "code",
   "execution_count": 23,
   "metadata": {},
   "outputs": [
    {
     "name": "stdout",
     "output_type": "stream",
     "text": [
      "4^2 + 5^2 = 41\n"
     ]
    }
   ],
   "source": [
    "def sumSquares(a, b):\n",
    "    result = (a*a) + (b*b)\n",
    "    message = '{}^2 + {}^2 = {}'.format(a, b, result)\n",
    "    print(message)\n",
    "\n",
    "sumSquares(4,5)"
   ]
  },
  {
   "cell_type": "markdown",
   "metadata": {},
   "source": [
    "#### 5. Escriba una función que calcule, guarde en una lista y muestre los elementos de la secuencia de Fibonacci"
   ]
  },
  {
   "cell_type": "code",
   "execution_count": 24,
   "metadata": {},
   "outputs": [
    {
     "name": "stdout",
     "output_type": "stream",
     "text": [
      "The first 15 numbers in the Fibonacci sequence are: 0 1 1 2 3 5 8 13 21 34 55 89 144 233 377\n"
     ]
    }
   ],
   "source": [
    "def getFibonacci(limit):\n",
    "    num1 = 0\n",
    "    num2 = 1\n",
    "    nums = []\n",
    "\n",
    "    for num in range(1, limit+1):\n",
    "        nums.append(str(num1))\n",
    "        acc = num1 + num2\n",
    "        num1 = num2\n",
    "        num2 = acc\n",
    "\n",
    "    fibonacci = ' '.join(nums)\n",
    "    message = 'The first {} numbers in the Fibonacci sequence are: {}'.format(limit, fibonacci)\n",
    "    print(message)\n",
    "\n",
    "\n",
    "getFibonacci(15)"
   ]
  },
  {
   "cell_type": "markdown",
   "metadata": {},
   "source": [
    "#### 6. Crear una función que reciba un parámetro númerico e imprima el nombre de una fruta:  *Naranjas* si el parámetro es igual a 0, *Manzanas* si el parámetro es igual a 1 y *Peras* si el paráemtro es igual a 2 "
   ]
  },
  {
   "cell_type": "code",
   "execution_count": null,
   "metadata": {},
   "outputs": [],
   "source": [
    "def fruits(num):\n",
    "    if num == 0:\n",
    "        print('Naranjas')\n",
    "    elif num == 1:\n",
    "        print('Manzanas')\n",
    "    elif num == 2:\n",
    "        print('Peras')\n",
    "    else:\n",
    "        print('Invalid number')\n",
    "\n",
    "fruits(2)"
   ]
  },
  {
   "cell_type": "markdown",
   "metadata": {},
   "source": [
    "#### 7. Crear una función la función error: imprima un mensaje que notifique al usuario si existe un error\n"
   ]
  },
  {
   "cell_type": "code",
   "execution_count": 25,
   "metadata": {},
   "outputs": [
    {
     "name": "stdout",
     "output_type": "stream",
     "text": [
      "ERROR: You are under age\n"
     ]
    }
   ],
   "source": [
    "def enterToTheBar(name, age):\n",
    "    assert age > 18, 'You are under age'\n",
    "    print('Welcome, {}'.format(name))\n",
    "\n",
    "try:\n",
    "    enterToTheBar('Gerardo', 15)\n",
    "except AssertionError as e:\n",
    "    print('ERROR: {}'.format(e))"
   ]
  },
  {
   "cell_type": "markdown",
   "metadata": {},
   "source": [
    "#### 8. Definamos la función matemática del valor absoluto de un número:  Si el número de entrada es negativo, devolver el valor e imprimir un mensaje semejante a \"El valor absoluto es:\". Si no, devolver el valor del número introducido e imprimir el mismo mensaje\n",
    "   "
   ]
  },
  {
   "cell_type": "code",
   "execution_count": 27,
   "metadata": {},
   "outputs": [
    {
     "name": "stdout",
     "output_type": "stream",
     "text": [
      "The absolute number of -10 is 10\n",
      "The absolute number of 10 is 10\n",
      "The absolute number of -20 is 20\n",
      "The absolute number of 20 is 20\n"
     ]
    }
   ],
   "source": [
    "def absoluteNumberWithAbs(num):\n",
    "    print('The absolute number of {} is {}'.format(num, abs(num)))\n",
    "\n",
    "def absoluteNumberWithoutAbs(num):\n",
    "    abs_num = num - (num * 2) if num < 0 else num\n",
    "    print('The absolute number of {} is {}'.format(num, abs_num))\n",
    "\n",
    "absoluteNumberWithAbs(-10)\n",
    "absoluteNumberWithAbs(10)\n",
    "absoluteNumberWithoutAbs(-20)\n",
    "absoluteNumberWithoutAbs(20)"
   ]
  },
  {
   "cell_type": "markdown",
   "metadata": {},
   "source": [
    "#### 9.Defininir una función que realice el cambio del valor de dos variables: el valor de la primera se otorga a la segunda y viceversa. \n",
    "\n",
    "\n"
   ]
  },
  {
   "cell_type": "code",
   "execution_count": 28,
   "metadata": {},
   "outputs": [
    {
     "name": "stdout",
     "output_type": "stream",
     "text": [
      "At the beginning:\n",
      "a: 1\n",
      "b: 2\n",
      "\n",
      "At the end:\n",
      "a: 2\n",
      "b: 1\n"
     ]
    }
   ],
   "source": [
    "def changeValues():\n",
    "    a = 1\n",
    "    b = 2\n",
    "    \n",
    "    print('At the beginning:')\n",
    "    print('a: {}'.format(a))\n",
    "    print('b: {}'.format(b))\n",
    "    \n",
    "    temp = a\n",
    "    a = b\n",
    "    b = temp\n",
    "    \n",
    "    print('')\n",
    "    print('At the end:')\n",
    "    print('a: {}'.format(a))\n",
    "    print('b: {}'.format(b))\n",
    "\n",
    "changeValues()"
   ]
  },
  {
   "cell_type": "markdown",
   "metadata": {},
   "source": [
    "#### 10. Cree un programa que le pida al usuario que ingrese su nombre y su edad. Imprima un mensaje dirigido a ellos que les diga el año en que cumplirán 100 años."
   ]
  },
  {
   "cell_type": "code",
   "execution_count": null,
   "metadata": {},
   "outputs": [],
   "source": [
    "def checkWhen100(name, age):\n",
    "    diff_to_100 = 100 - age\n",
    "    print('{}, you will be 100 years old in {} years'.format(name, diff_to_100))\n",
    "\n",
    "\n",
    "checkWhen100('Gerardo', 30)"
   ]
  },
  {
   "cell_type": "markdown",
   "metadata": {},
   "source": [
    "#### 11. Pregunte al usuario por un número. Dependiendo de si el número es par o impar, imprima un mensaje apropiado para el usuario.\n",
    "\n"
   ]
  },
  {
   "cell_type": "code",
   "execution_count": 15,
   "metadata": {},
   "outputs": [
    {
     "name": "stdout",
     "output_type": "stream",
     "text": [
      "10 is even\n",
      "11 is not even\n"
     ]
    }
   ],
   "source": [
    "def isEven(num):\n",
    "    int_num = int(num)\n",
    "    message = '{} is even'.format(num) if int_num % 2 == 0 else '{} is not even'.format(num)\n",
    "    print(message)\n",
    "\n",
    "isEven(10)\n",
    "isEven(11)"
   ]
  },
  {
   "cell_type": "markdown",
   "metadata": {},
   "source": [
    "#### 12. Escriba una función que reciba una lista  como parámetro y devuelva una nueva lista que contenga todos los elementos de la primera lista menos todos los duplicados.\n"
   ]
  },
  {
   "cell_type": "code",
   "execution_count": 31,
   "metadata": {},
   "outputs": [
    {
     "name": "stdout",
     "output_type": "stream",
     "text": [
      "Original numbers: 1 2 3 3 4 4 3 5 4 3 5 6 6 3 1 6\n",
      "Unique numbers: 1 5 3 4 2 6\n"
     ]
    }
   ],
   "source": [
    "def getUniques(things):\n",
    "    str_list = [str(item) for item in things]\n",
    "    print('Original numbers: {}'.format(' '.join(str_list)))\n",
    "    unique_numbers = set(str_list)\n",
    "    print('Unique numbers: {}'.format(' '.join(unique_numbers)))\n",
    "\n",
    "getUniques([1, 2, 3, 3, 4, 4, 3, 5, 4, 3, 5, 6, 6, 3, 1, 6])"
   ]
  },
  {
   "cell_type": "markdown",
   "metadata": {},
   "source": [
    "#### 13. Haz un juego de dos jugadores de piedra, papel y tijeras, Dada una función de dos entradas, compáralas, imprime un mensaje de felicitaciones al ganador."
   ]
  },
  {
   "cell_type": "code",
   "execution_count": 32,
   "metadata": {},
   "outputs": [
    {
     "name": "stdout",
     "output_type": "stream",
     "text": [
      "Player 1, choose: rock, paper or scissors: rock\n",
      "Player 1, choose: rock, paper or scissors: rock\n",
      "rock vs rock > Tie\n"
     ]
    }
   ],
   "source": [
    " def rockPaperScissors():\n",
    "    player1 = input('Player 1, choose: rock, paper or scissors: ')\n",
    "    player2 = input('Player 1, choose: rock, paper or scissors: ')\n",
    "    options = ['rock', 'paper', 'scissors']\n",
    "\n",
    "    assert player1.lower() in options, 'Player 1, you cant play with \"{}\"'.format(player1)\n",
    "    assert player2.lower() in options, 'Player 2, you cant play with \"{}\"'.format(player2)\n",
    "\n",
    "    message = '{} vs {}'.format(player1, player2)\n",
    "\n",
    "    if player1 == 'rock':\n",
    "        if player2 == 'rock':\n",
    "            result = 'Tie'\n",
    "        elif player2 == 'paper':\n",
    "            result = 'Player 2 wins'\n",
    "        else:\n",
    "            result = 'Player 1 wins'\n",
    "    elif player1 == 'paper':\n",
    "        if player2 == 'rock':\n",
    "            result = 'Player 2 wins'\n",
    "        elif player2 == 'paper':\n",
    "            result = 'Tie'\n",
    "        else:\n",
    "            result = 'Player 2 wins'\n",
    "    else:\n",
    "        if player2 == 'rock':\n",
    "            result = 'Player 2 wins'\n",
    "        elif player2 == 'paper':\n",
    "            result = 'Player 1'\n",
    "        else:\n",
    "            result = 'Tie'\n",
    "\n",
    "    print('{} > {}'.format(message, result))\n",
    "\n",
    "\n",
    "try:\n",
    "    rockPaperScissors()\n",
    "except AssertionError as error:\n",
    "    message = 'ERROR: {}'.format(error)\n",
    "    print(message)\n"
   ]
  },
  {
   "cell_type": "markdown",
   "metadata": {},
   "source": [
    "\n",
    "#### 14. Similar al ejercicio pasado, haz un juego de piedra papel y tijeras en una función que: pregunte a los usuarios sobre sus opciones, haga las comparaciones, entregue el resultado. Finalmente pregunte si quieren seguir jugnado y si sí, comience el juego de nuevo. "
   ]
  },
  {
   "cell_type": "code",
   "execution_count": 33,
   "metadata": {},
   "outputs": [
    {
     "name": "stdout",
     "output_type": "stream",
     "text": [
      "Player 1, choose: rock, paper or scissors: rock\n",
      "Player 1, choose: rock, paper or scissors: paper\n",
      "rock vs paper > Player 2 wins\n",
      "\n",
      "Play again? (si, no): si\n",
      "\n",
      "Player 1, choose: rock, paper or scissors: paper\n",
      "Player 1, choose: rock, paper or scissors: rock\n",
      "paper vs rock > Player 2 wins\n",
      "\n",
      "Play again? (si, no): si\n",
      "\n",
      "Player 1, choose: rock, paper or scissors: hola\n",
      "Player 1, choose: rock, paper or scissors: fuchi\n",
      "ERROR: Player 1, you cant play with \"hola\"\n"
     ]
    }
   ],
   "source": [
    "def playRockPaperScissors():\n",
    "    keep_playing = True\n",
    "\n",
    "    while (keep_playing):\n",
    "        playGame()\n",
    "        answer = ''\n",
    "\n",
    "        print('')\n",
    "        while(answer not in ['yes', 'no']):\n",
    "            answer = input('Play again? (yes, no): ')\n",
    "\n",
    "        keep_playing = True if answer == 'yes' else False\n",
    "        print('')\n",
    "\n",
    "\n",
    "def playGame():\n",
    "    player1 = input('Player 1, choose: rock, paper or scissors: ')\n",
    "    player2 = input('Player 1, choose: rock, paper or scissors: ')\n",
    "    options = ['rock', 'paper', 'scissors']\n",
    "\n",
    "    assert player1.lower() in options, 'Player 1, you cant play with \"{}\"'.format(player1)\n",
    "    assert player2.lower() in options, 'Player 2, you cant play with \"{}\"'.format(player2)\n",
    "\n",
    "    message = '{} vs {}'.format(player1, player2)\n",
    "\n",
    "    if player1 == 'rock':\n",
    "        if player2 == 'rock':\n",
    "            result = 'Tie'\n",
    "        elif player2 == 'paper':\n",
    "            result = 'Player 2 wins'\n",
    "        else:\n",
    "            result = 'Player 1 wins'\n",
    "    elif player1 == 'paper':\n",
    "        if player2 == 'rock':\n",
    "            result = 'Player 2 wins'\n",
    "        elif player2 == 'paper':\n",
    "            result = 'Tie'\n",
    "        else:\n",
    "            result = 'Player 2 wins'\n",
    "    else:\n",
    "        if player2 == 'rock':\n",
    "            result = 'Player 2 wins'\n",
    "        elif player2 == 'paper':\n",
    "            result = 'Player 1'\n",
    "        else:\n",
    "            result = 'Tie'\n",
    "\n",
    "    print('{} > {}'.format(message, result))\n",
    "\n",
    "\n",
    "try:\n",
    "    playRockPaperScissors()\n",
    "except AssertionError as error:\n",
    "    message = 'ERROR: {}'.format(error)\n",
    "    print(message)\n"
   ]
  },
  {
   "cell_type": "markdown",
   "metadata": {},
   "source": [
    "#### 15. Dada una oración, realice las operaciones necesarias para invertir el orden de las palabras "
   ]
  },
  {
   "cell_type": "code",
   "execution_count": 34,
   "metadata": {},
   "outputs": [
    {
     "name": "stdout",
     "output_type": "stream",
     "text": [
      "Original String\n",
      "One Two Three Four Five\n",
      "\n",
      "With \"reversed\"\n",
      " Five Four Three Two One\n",
      "\n",
      "With \"loop\"\n",
      " Five Four Three Two One\n"
     ]
    }
   ],
   "source": [
    "sentence = 'One Two Three Four Five'\n",
    "sentence_list = sentence.split(' ')\n",
    "word1 = ''\n",
    "word2 = ''\n",
    "\n",
    "print('Original String')\n",
    "print(sentence)\n",
    "print('')\n",
    "\n",
    "print('With \"reversed\"')\n",
    "for word in reversed(sentence_list):\n",
    "    word1 += ' {}'.format(word)\n",
    "print(word1)\n",
    "\n",
    "print('')\n",
    "print('With \"loop\"')\n",
    "for word in range(len(sentence_list)-1, -1, -1):\n",
    "    word2 += ' {}'.format(sentence_list[word])\n",
    "print(word2)"
   ]
  },
  {
   "cell_type": "markdown",
   "metadata": {},
   "source": [
    "#### 16. Crea un generador de contraseñas, donde la longitud sea un parámetro de entrada para el usuario. Usa letras mayúsculas, minúsculas y números. "
   ]
  },
  {
   "cell_type": "code",
   "execution_count": 16,
   "metadata": {},
   "outputs": [
    {
     "name": "stdout",
     "output_type": "stream",
     "text": [
      "kH4PgDrLmWk3Akn\n"
     ]
    }
   ],
   "source": [
    "import random\n",
    "\n",
    "def generatePassword(length):\n",
    "    values = 'abcdefghijklmnopqrstuvwxyzABCDEFGHIJKLMNOPQRSTUVWXYZ1234567890'\n",
    "    values_list = [character for character in values]\n",
    "    password = ''\n",
    "\n",
    "    for num in range(length):\n",
    "        password += random.choice(values)\n",
    "\n",
    "    print('Your new Password is: {}'.format(password))\n",
    "\n",
    "generatePassword(15)"
   ]
  },
  {
   "cell_type": "markdown",
   "metadata": {},
   "source": [
    "#### 17. Cree un archivo de texto (extensión .txt) con letras aleatorias (incluyendo espacios) con una extensión de 500 caracteres. "
   ]
  },
  {
   "cell_type": "code",
   "execution_count": null,
   "metadata": {},
   "outputs": [],
   "source": [
    "import random\n",
    "\n",
    "\n",
    "def createTxtFile():\n",
    "    values = 'abcdefghijklmnopqrstuvwxyzABCDEFGHIJKLMNOPQRSTUVWXYZ1234567890 '\n",
    "    text = ''\n",
    "\n",
    "    with open('dummy_file.txt', 'a+') as txt_file:\n",
    "        for num in range(500):\n",
    "            text += random.choice(values)\n",
    "\n",
    "        txt_file.write(text)\n",
    "\n",
    "\n",
    "createTxtFile()\n"
   ]
  },
  {
   "cell_type": "markdown",
   "metadata": {},
   "source": [
    "#### 18. Lee el archivo pasado e invierte todo el texto (hola -> aloh) y guardalo con un nombre diferente. "
   ]
  },
  {
   "cell_type": "code",
   "execution_count": null,
   "metadata": {},
   "outputs": [],
   "source": [
    "def reverseTxt():\n",
    "    with open('dummy_file.txt', 'r') as txt_file:\n",
    "        text = txt_file.read()\n",
    "        reverse_text = ''.join(reversed(text))\n",
    "\n",
    "    with open('dummy_file2.txt', 'a+') as another_txt_file:\n",
    "        another_txt_file.write(reverse_text)\n",
    "\n",
    "\n",
    "reverseTxt()"
   ]
  },
  {
   "cell_type": "markdown",
   "metadata": {},
   "source": [
    "#### 19. Compara dos listas (pueden ser de diferentes tamaños. Construye dos listas: una con los elementos en común y otra con el resto de los elementos. \n"
   ]
  },
  {
   "cell_type": "code",
   "execution_count": null,
   "metadata": {},
   "outputs": [],
   "source": [
    "def compareList(list1, list2):\n",
    "    big_list = list1 + list2\n",
    "    diff = []\n",
    "    common = set()\n",
    "\n",
    "    for item in big_list:\n",
    "        if item in list1 and item in list2:\n",
    "            common.add(str(item))\n",
    "        else:\n",
    "            diff.append(str(item))\n",
    "\n",
    "    diff_items = ' '.join(diff)\n",
    "    common_items = ' '.join(common)\n",
    "\n",
    "    print('Common Items: {}'.format(common_items))\n",
    "    print('Different Items: {}'.format(diff_items))\n",
    "\n",
    "compareList([1,2,3,4,5], [3,4,5,6,7])"
   ]
  }
 ],
 "metadata": {
  "kernelspec": {
   "display_name": "Python 3",
   "language": "python",
   "name": "python3"
  },
  "language_info": {
   "codemirror_mode": {
    "name": "ipython",
    "version": 3
   },
   "file_extension": ".py",
   "mimetype": "text/x-python",
   "name": "python",
   "nbconvert_exporter": "python",
   "pygments_lexer": "ipython3",
   "version": "3.6.9"
  }
 },
 "nbformat": 4,
 "nbformat_minor": 2
}
