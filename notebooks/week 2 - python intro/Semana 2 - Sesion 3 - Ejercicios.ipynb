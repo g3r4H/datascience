{
 "cells": [
  {
   "cell_type": "markdown",
   "metadata": {},
   "source": [
    "## Ejercicios Sesión 3"
   ]
  },
  {
   "cell_type": "markdown",
   "metadata": {},
   "source": [
    "1. Escribe un script que tome un número ingresado por el usuario e imprima si es positivo, negativo o cero.\n",
    "\n",
    " Debe imprimirse de la siguiente forma \"El número ingresado es (positivo / negativo / cero)\"."
   ]
  },
  {
   "cell_type": "code",
   "execution_count": null,
   "metadata": {},
   "outputs": [],
   "source": [
    "num = int(input())\n",
    "if num == 0:\n",
    "    print('{} es cero'.format(num))\n",
    "elif num < 0:\n",
    "    print('{} es negativo'.format(num))\n",
    "else:\n",
    "    print('{} es positivo'.format(num))"
   ]
  },
  {
   "cell_type": "markdown",
   "metadata": {},
   "source": [
    "2. Escribe una secuencia de comandos que tome dos números ingresados por el usuario e imprima \"El primer número es mayor\" o \"El segundo número es mayor\" dependiendo de cuál sea mayor. (** Sugerencia **: necesitará usar `input ()` dos veces.)"
   ]
  },
  {
   "cell_type": "code",
   "execution_count": null,
   "metadata": {},
   "outputs": [],
   "source": [
    "num1 = int(input())\n",
    "num2 = int(input())\n",
    "\n",
    "results = 'El primer número es mayor' if num1 > num2 else 'El segundo número es mayor'\n",
    "print(results)"
   ]
  },
  {
   "cell_type": "markdown",
   "metadata": {},
   "source": [
    "3. Escriba un script que calcule la suma de 0 a un número ingresado por el usuario. Sin embargo, esta vez, comience con el número ingresado por el usuario y continúe hacia abajo. Esta respuesta se parecerá mucho al ejemplo anterior, solo tendrá que cambiar un par de cosas."
   ]
  },
  {
   "cell_type": "code",
   "execution_count": null,
   "metadata": {},
   "outputs": [],
   "source": [
    "num = int(input())\n",
    "total = 0\n",
    "for num in range(0, num+1):\n",
    "    total += num\n",
    "\n",
    "message = 'La suma de los números entre 0 y {} es {}'.format(num, total)\n",
    "print(message)"
   ]
  },
  {
   "cell_type": "markdown",
   "metadata": {},
   "source": [
    "4. Escriba un script que calcule el factorial de un número ingresado por el usuario. Si no sabe qué es un factorial o necesita una revisión, consulte el enlace (https://en.wikipedia.org/wiki/Factorial). Una vez más, su solución se parecerá mucho al código anterior. Cosas que debes pensar:\n",
    "    * ¿Cuál es el proceso de calcular un factorial si fuera a calcularlo a mano?\n",
    "    * ¿Cuál es el punto de partida común cuando se trata de calcular el factorial de cualquier número? <br> <br>"
   ]
  },
  {
   "cell_type": "code",
   "execution_count": null,
   "metadata": {},
   "outputs": [],
   "source": [
    "num = int(input())\n",
    "factorial = 1\n",
    "  \n",
    "for item in range(1, num+1): \n",
    "    factorial = factorial * item \n",
    "\n",
    "message = 'El factorial de {} es {}'.format(num, factorial)\n",
    "print(message)"
   ]
  },
  {
   "cell_type": "markdown",
   "metadata": {},
   "source": [
    "5. Escriba un script que calcule e imprima todos los divisores de un número ingresado por el usuario. Si no sabe qué es un divisor o necesita una revisión, consulte el enlace(https://en.wikipedia.org/wiki/Divisor). Cosas para pensar:\n",
    "    * ¿Cómo se determina si un solo número es un divisor de otro?\n",
    "    * ¿Cómo haces esto varias veces (** Sugerencia **: implica un ciclo while)?\n",
    "    * ¿Cuándo detiene el ciclo? <br> <br>"
   ]
  },
  {
   "cell_type": "code",
   "execution_count": null,
   "metadata": {},
   "outputs": [],
   "source": [
    "num = int(input())\n",
    "acc = 1\n",
    "divisors = []\n",
    "\n",
    "for item in range(1, num+1):\n",
    "    if num % item == 0:\n",
    "        divisors.append(str(item))\n",
    "        \n",
    "print('Los divisores de {} son: {}'.format(num, ' '.join(divisors)))"
   ]
  },
  {
   "cell_type": "markdown",
   "metadata": {},
   "source": [
    "6. Escriba un script que calcule el máximo divisor común entre dos números ingresados por el usuario. Si no sabe cuál es el mayor divisor común, consulte el enlace (https://en.wikipedia.org/wiki/Greatest_common_divisor). Cosas para pensar:\n",
    "    * ¿Cómo se obtienen dos números del usuario?\n",
    "    * ¿Dónde debe comenzar su búsqueda del GCD?\n",
    "    * ¿Dónde / cómo debe finalizar su búsqueda? <br> <br>"
   ]
  },
  {
   "cell_type": "code",
   "execution_count": null,
   "metadata": {},
   "outputs": [],
   "source": [
    "num1 = int(input())\n",
    "num2 = int(input())\n",
    "\n",
    "smaller = num2 if num1 > num2 else num1\n",
    "\n",
    "for item in range(1, smaller+1): \n",
    "    if(num1 % item == 0 and num2 % item == 0): \n",
    "        max_divisor = item\n",
    "\n",
    "message = 'El máximo divisor común entre {} y {} es {}'.format(num1, num2, max_divisor)\n",
    "print(message)"
   ]
  },
  {
   "cell_type": "markdown",
   "metadata": {},
   "source": [
    "7. Escribe un script que calcule el mínimo común múltiplo entre dos números ingresados por el usuario. Si no sabes cuál es el mínimo común múltiplo o deseas una revisión, puedes consultar (https://en.wikipedia.org/wiki/Least_common_multiple). Cosas para pensar:\n",
    "    * ¿Cómo se obtienen dos números del usuario?\n",
    "    * ¿Dónde debe comenzar su búsqueda del LCM?\n",
    "    * ¿Dónde / cómo debe finalizar su búsqueda? <br> <br>"
   ]
  },
  {
   "cell_type": "code",
   "execution_count": null,
   "metadata": {},
   "outputs": [],
   "source": [
    "num1 = int(input())\n",
    "num2 = int(input())\n",
    "acc = 1\n",
    "\n",
    "while(True):\n",
    "    if acc % num1 == 0 and acc % num2 == 0:\n",
    "        least_divisor = acc\n",
    "        break\n",
    "    else:\n",
    "        acc += 1\n",
    "\n",
    "message = 'El mínimo común múltiplo de {} y {} es {}'.format(num1, num2, least_divisor)\n",
    "print(message)"
   ]
  },
  {
   "cell_type": "markdown",
   "metadata": {},
   "source": [
    "8. Escribe una secuencia de comandos que determine si un número ingresado por el usuario es un número primo e imprime `` El número que ingresó es (no es) un número primo '', según lo que encuentre su secuencia de comandos. Si no sabes qué es un número primo o necesita una revisión, consulte el enlace (https://en.wikipedia.org/wiki/Prime_number). Cosas para pensar:\n",
    "    * ¿Cómo verifica si un número es divisible por otro número?\n",
    "    * ¿Qué números son divisibles por un número primo?\n",
    "    * ¿Cómo verifica todos los números por los que un número puede ser divisible (** Sugerencia **: use un bucle)?\n",
    "    * ¿Cuándo detiene el ciclo? <br> <br>"
   ]
  },
  {
   "cell_type": "code",
   "execution_count": null,
   "metadata": {},
   "outputs": [],
   "source": [
    "num = int(input())\n",
    "\n",
    "if num < 2:\n",
    "    message = '\"{}\" sí no es primo'.format(num)\n",
    "    print(message)\n",
    "else:\n",
    "    for item in range(2, num):\n",
    "        if (num % item) == 0: \n",
    "            message = '\"{}\" no es primo'.format(num)\n",
    "            print(message) \n",
    "            break\n",
    "    else:\n",
    "        message = '\"{}\" sí es primo'.format(num)\n",
    "        print(message)"
   ]
  }
 ],
 "metadata": {
  "kernelspec": {
   "display_name": "Python 3",
   "language": "python",
   "name": "python3"
  },
  "language_info": {
   "codemirror_mode": {
    "name": "ipython",
    "version": 3
   },
   "file_extension": ".py",
   "mimetype": "text/x-python",
   "name": "python",
   "nbconvert_exporter": "python",
   "pygments_lexer": "ipython3",
   "version": "3.6.9"
  }
 },
 "nbformat": 4,
 "nbformat_minor": 2
}
