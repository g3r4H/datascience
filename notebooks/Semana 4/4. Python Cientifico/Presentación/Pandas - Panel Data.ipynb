{
 "cells": [
  {
   "cell_type": "markdown",
   "metadata": {
    "colab_type": "text",
    "id": "1RH3yvO_SmiT"
   },
   "source": [
    "# ¡Bienvenidos a la segunda sesión: Pandas!\n",
    "\n",
    "### Objetivo de la sesión\n",
    "\n",
    "* Conocer las ventajas de utilizar Pandas.\n",
    "* Cargar un conjunto de datos utilizando Pandas.\n",
    "* Conocer y utlilizar las operaciones básicas de Pandas.\n",
    "* Localizar posibles aplicaciones "
   ]
  },
  {
   "cell_type": "markdown",
   "metadata": {
    "colab_type": "text",
    "id": "-leRIql3kSHC"
   },
   "source": [
    "### Antes de empezar, un repaso\n",
    "En la última sesión vimos como usar arreglos de Numpy.\n",
    "\n",
    "*   ¿Cómo creas una lista en Python?\n",
    "*   ¿Cómo creas un diccionario en Python?\n",
    "*   ¿Qué librería sirve para crear números aleatorios?\n",
    "*   ¿De qué otra forma les llamamos a las listas?\n",
    "*   ¿Cuáles son las ventajas de usar NumPy?\n",
    "*   ¿Cómo importar la librería de NumPy?\n",
    "*   ¿Cómo se creaba un arreglo de una dimensión en Numpy?\n",
    "*   ¿Cómo se creaba un arreglo de dos dimensiones en Numpy?"
   ]
  },
  {
   "cell_type": "markdown",
   "metadata": {
    "colab_type": "text",
    "id": "JaROqmHB1TiM"
   },
   "source": [
    "# 1. Introducción\n"
   ]
  },
  {
   "cell_type": "markdown",
   "metadata": {
    "colab_type": "text",
    "id": "BjN4gATMosOn"
   },
   "source": [
    "## 1.1 Numpy vs Pandas\n",
    "\n",
    "*Pandas* es un librería de Python para el análisis de datos, la cual esta construida sobre múltiples librerías, entre ellas esta NumPy. Ofrece múltiples herramientas para la exploración, limpieza y trasformación de datos, las cuales son procesos críticos al trabajar con datos en Python. \n",
    "\n"
   ]
  },
  {
   "cell_type": "markdown",
   "metadata": {
    "colab_type": "text",
    "id": "JozyQtQloxAt"
   },
   "source": [
    "## 1.2 Recursos externos\n",
    "\n",
    "Al ser una herramienta tan completa, es imposible cubrir todas sus operaciones en la sesión, por ello recomendamos las siguientes fuentes \n",
    "\n",
    "- Documentación oficial: http://pandas.pydata.org/pandas-docs/stable/\n",
    "- *Python for Data Analysis* por *Wes McKinney*\n",
    "- *Python Data Science Handbook* por Jake VanderPlas\n",
    "- A Gentle Visual Intro to Data Analysis in Python Using Pandas [https://jalammar.github.io/gentle-visual-intro-to-data-analysis-python-pandas/]\n",
    "\n",
    "\n"
   ]
  },
  {
   "cell_type": "markdown",
   "metadata": {
    "colab_type": "text",
    "id": "_S3bGxQpo1V-"
   },
   "source": [
    "## 1.3 Antes de empezar\n",
    "\n",
    "### 1.3.1 ¿Cómo importar *pandas*? \n",
    "\n",
    "Podemos hacerlo de la manera tradicional y es comunmnete renombrada como *pd*"
   ]
  },
  {
   "cell_type": "code",
   "execution_count": 0,
   "metadata": {
    "colab": {},
    "colab_type": "code",
    "id": "XwPoxhk_pH48"
   },
   "outputs": [],
   "source": [
    "import pandas as pd\n",
    "\n",
    "#Carguemos tambien Numpy para realizar ciertas operaciones\n",
    "import numpy as np "
   ]
  },
  {
   "cell_type": "markdown",
   "metadata": {
    "colab_type": "text",
    "id": "PsEfjS6urtY6"
   },
   "source": [
    "### 1.3.2 Estructuras: Series, Dataframe, Panel \n",
    "\n",
    "Aquí encontraremos las estructuras básicas que se útilizan en Pandas"
   ]
  },
  {
   "cell_type": "markdown",
   "metadata": {
    "colab_type": "text",
    "id": "9yGckAPppLQA"
   },
   "source": [
    "\n",
    "\n",
    "#### Series\n",
    "\n",
    "Es un arreglo unidimensional capaz que puede conter cualquier tipo de datos y poseen una etiqueta para identificación"
   ]
  },
  {
   "cell_type": "code",
   "execution_count": 0,
   "metadata": {
    "colab": {
     "base_uri": "https://localhost:8080/",
     "height": 121
    },
    "colab_type": "code",
    "executionInfo": {
     "elapsed": 490,
     "status": "ok",
     "timestamp": 1556240164843,
     "user": {
      "displayName": "Ludim Sánchez",
      "photoUrl": "",
      "userId": "12330024355847510363"
     },
     "user_tz": 300
    },
    "id": "SsCMoR-sqHWT",
    "outputId": "7ed54576-da7e-4ceb-bac3-ebc62b462708"
   },
   "outputs": [
    {
     "data": {
      "text/plain": [
       "0   -1.319935\n",
       "1    0.551124\n",
       "2   -0.884899\n",
       "3    0.557154\n",
       "4    1.261286\n",
       "dtype: float64"
      ]
     },
     "execution_count": 38,
     "metadata": {
      "tags": []
     },
     "output_type": "execute_result"
    }
   ],
   "source": [
    "# Creemos nuestra primera Serie desde un arreglo de Numpy\n",
    "s = pd.Series(np.random.randn(5))\n",
    "s"
   ]
  },
  {
   "cell_type": "code",
   "execution_count": 0,
   "metadata": {
    "colab": {
     "base_uri": "https://localhost:8080/",
     "height": 121
    },
    "colab_type": "code",
    "executionInfo": {
     "elapsed": 480,
     "status": "ok",
     "timestamp": 1556240167354,
     "user": {
      "displayName": "Ludim Sánchez",
      "photoUrl": "",
      "userId": "12330024355847510363"
     },
     "user_tz": 300
    },
    "id": "z2ZnMZYjqoFq",
    "outputId": "96eff1a8-e261-4492-e88e-7b05f94ab56b"
   },
   "outputs": [
    {
     "data": {
      "text/plain": [
       "a   -0.376237\n",
       "b   -0.341661\n",
       "c   -1.244833\n",
       "d    0.303086\n",
       "e    1.238952\n",
       "dtype: float64"
      ]
     },
     "execution_count": 39,
     "metadata": {
      "tags": []
     },
     "output_type": "execute_result"
    }
   ],
   "source": [
    "# Podemos indicar la etiqueda(índice) de nuestros datos \n",
    "s = pd.Series(np.random.randn(5), index=['a','b','c','d','e'])\n",
    "s"
   ]
  },
  {
   "cell_type": "code",
   "execution_count": 0,
   "metadata": {
    "colab": {
     "base_uri": "https://localhost:8080/",
     "height": 191
    },
    "colab_type": "code",
    "executionInfo": {
     "elapsed": 6658,
     "status": "ok",
     "timestamp": 1557450547412,
     "user": {
      "displayName": "Ludim Sánchez",
      "photoUrl": "",
      "userId": "12330024355847510363"
     },
     "user_tz": 300
    },
    "id": "ATKdJw-_Owwk",
    "outputId": "0f73598e-e34f-4153-f4de-9819d180c8a0"
   },
   "outputs": [
    {
     "name": "stdout",
     "output_type": "stream",
     "text": [
      "Dame el peso de la persona 1\n",
      "30\n",
      "Dame el peso de la persona 2\n",
      "40\n",
      "Dame el peso de la persona 3\n",
      "0\n"
     ]
    },
    {
     "data": {
      "text/plain": [
       "Adriana    30\n",
       "Gustavo    40\n",
       "Fabiola     0\n",
       "dtype: int64"
      ]
     },
     "execution_count": 15,
     "metadata": {
      "tags": []
     },
     "output_type": "execute_result"
    }
   ],
   "source": [
    "pesos = []\n",
    "for i in range(1,4):\n",
    "  print(\"Dame el peso de la persona %s\"% i)\n",
    "  pesos.append(int(input()))\n",
    "familia = pd.Series(np.array(pesos) ,index=['Adriana', \"Gustavo\", \"Fabiola\"])\n",
    "familia"
   ]
  },
  {
   "cell_type": "code",
   "execution_count": 0,
   "metadata": {
    "colab": {
     "base_uri": "https://localhost:8080/",
     "height": 86
    },
    "colab_type": "code",
    "executionInfo": {
     "elapsed": 395,
     "status": "ok",
     "timestamp": 1557450342698,
     "user": {
      "displayName": "Ludim Sánchez",
      "photoUrl": "",
      "userId": "12330024355847510363"
     },
     "user_tz": 300
    },
    "id": "tr6jYbqHrOb5",
    "outputId": "0860f743-f4ae-41ee-b6dd-12376cb063da"
   },
   "outputs": [
    {
     "data": {
      "text/plain": [
       "b    1\n",
       "a    0\n",
       "c    2\n",
       "dtype: int64"
      ]
     },
     "execution_count": 13,
     "metadata": {
      "tags": []
     },
     "output_type": "execute_result"
    }
   ],
   "source": [
    " # Y tambien podemos crearla desde un diccionario \n",
    "  d = {'b': 1, 'a': 0, 'c': 2}\n",
    "  s2=pd.Series(d)\n",
    "  \n",
    "  # ¡Toma las llaves como los índices!\n",
    "  s2"
   ]
  },
  {
   "cell_type": "code",
   "execution_count": 0,
   "metadata": {
    "colab": {
     "base_uri": "https://localhost:8080/",
     "height": 225
    },
    "colab_type": "code",
    "executionInfo": {
     "elapsed": 457,
     "status": "ok",
     "timestamp": 1557450753441,
     "user": {
      "displayName": "Ludim Sánchez",
      "photoUrl": "",
      "userId": "12330024355847510363"
     },
     "user_tz": 300
    },
    "id": "deSZcZmfsINS",
    "outputId": "34a96d92-3ef5-4e14-ecb2-64225d0bc099"
   },
   "outputs": [
    {
     "name": "stdout",
     "output_type": "stream",
     "text": [
      "20\n",
      "\n",
      "20\n",
      "\n",
      "b    10\n",
      "a     0\n",
      "dtype: int64\n",
      "\n",
      "b    2.718282\n",
      "a    1.000000\n",
      "c    7.389056\n",
      "dtype: float64\n"
     ]
    }
   ],
   "source": [
    "# Operan muy similiarmente a los arreglos de Numpy\n",
    "\n",
    "#Funcionan como un arreglo \n",
    "print(s2[2]*10)\n",
    "print()\n",
    "\n",
    "# Pero tambien funcionan como diccionario\n",
    "print(s2['c']*10)\n",
    "print()\n",
    "\n",
    "# En este caso nos devuelve también el índice\n",
    "print(s2[:2]*10) \n",
    "print()\n",
    "\n",
    "# Y podemos usarlas como vectores para operaciones \n",
    "print(np.exp(s2))"
   ]
  },
  {
   "cell_type": "code",
   "execution_count": 0,
   "metadata": {
    "colab": {
     "base_uri": "https://localhost:8080/",
     "height": 86
    },
    "colab_type": "code",
    "executionInfo": {
     "elapsed": 468,
     "status": "ok",
     "timestamp": 1557450848708,
     "user": {
      "displayName": "Ludim Sánchez",
      "photoUrl": "",
      "userId": "12330024355847510363"
     },
     "user_tz": 300
    },
    "id": "ot-n_6GfFPnv",
    "outputId": "b802a0ee-d88b-4f8b-dc5b-7eff45984194"
   },
   "outputs": [
    {
     "data": {
      "text/plain": [
       "b    1\n",
       "a    0\n",
       "c    2\n",
       "dtype: int64"
      ]
     },
     "execution_count": 20,
     "metadata": {
      "tags": []
     },
     "output_type": "execute_result"
    }
   ],
   "source": [
    "s2"
   ]
  },
  {
   "cell_type": "markdown",
   "metadata": {
    "colab_type": "text",
    "id": "k3y2wO4VDGOt"
   },
   "source": [
    "#####Reto:  Crear una serie con pandas."
   ]
  },
  {
   "cell_type": "markdown",
   "metadata": {
    "colab_type": "text",
    "id": "B-4N1GTivzyB"
   },
   "source": [
    "#### Dataframes \n",
    "\n",
    "Es un arreglo de columnas, puede ser visto como un conjunto series: ahora tenemos índices y columnas\n",
    "\n"
   ]
  },
  {
   "cell_type": "code",
   "execution_count": 0,
   "metadata": {
    "colab": {
     "base_uri": "https://localhost:8080/",
     "height": 175
    },
    "colab_type": "code",
    "executionInfo": {
     "elapsed": 335,
     "status": "ok",
     "timestamp": 1557451136647,
     "user": {
      "displayName": "Ludim Sánchez",
      "photoUrl": "",
      "userId": "12330024355847510363"
     },
     "user_tz": 300
    },
    "id": "7CM70Ebgvy7C",
    "outputId": "a2ce0f52-8731-4893-97be-9180de152c65"
   },
   "outputs": [
    {
     "data": {
      "text/html": [
       "<div>\n",
       "<style scoped>\n",
       "    .dataframe tbody tr th:only-of-type {\n",
       "        vertical-align: middle;\n",
       "    }\n",
       "\n",
       "    .dataframe tbody tr th {\n",
       "        vertical-align: top;\n",
       "    }\n",
       "\n",
       "    .dataframe thead th {\n",
       "        text-align: right;\n",
       "    }\n",
       "</style>\n",
       "<table border=\"1\" class=\"dataframe\">\n",
       "  <thead>\n",
       "    <tr style=\"text-align: right;\">\n",
       "      <th></th>\n",
       "      <th>Uno</th>\n",
       "      <th>Dos</th>\n",
       "    </tr>\n",
       "  </thead>\n",
       "  <tbody>\n",
       "    <tr>\n",
       "      <th>a</th>\n",
       "      <td>1.0</td>\n",
       "      <td>1.0</td>\n",
       "    </tr>\n",
       "    <tr>\n",
       "      <th>b</th>\n",
       "      <td>2.0</td>\n",
       "      <td>2.0</td>\n",
       "    </tr>\n",
       "    <tr>\n",
       "      <th>c</th>\n",
       "      <td>3.0</td>\n",
       "      <td>3.0</td>\n",
       "    </tr>\n",
       "    <tr>\n",
       "      <th>d</th>\n",
       "      <td>NaN</td>\n",
       "      <td>4.0</td>\n",
       "    </tr>\n",
       "  </tbody>\n",
       "</table>\n",
       "</div>"
      ],
      "text/plain": [
       "   Uno  Dos\n",
       "a  1.0  1.0\n",
       "b  2.0  2.0\n",
       "c  3.0  3.0\n",
       "d  NaN  4.0"
      ]
     },
     "execution_count": 24,
     "metadata": {
      "tags": []
     },
     "output_type": "execute_result"
    }
   ],
   "source": [
    "# Creacion desde un diccionario de series \n",
    "d = {\n",
    "    'Uno': pd.Series([1, 2, 3], index=['a', 'b', 'c']),\n",
    "    'Dos': pd.Series([1, 2, 3, 4.], index=['a', 'b', 'c', 'd'])\n",
    "}\n",
    "\n",
    "pd.DataFrame(d)"
   ]
  },
  {
   "cell_type": "code",
   "execution_count": 0,
   "metadata": {
    "colab": {
     "base_uri": "https://localhost:8080/",
     "height": 143
    },
    "colab_type": "code",
    "executionInfo": {
     "elapsed": 322,
     "status": "ok",
     "timestamp": 1557451347450,
     "user": {
      "displayName": "Ludim Sánchez",
      "photoUrl": "",
      "userId": "12330024355847510363"
     },
     "user_tz": 300
    },
    "id": "e7nyeajyyKl7",
    "outputId": "ced69b9b-5536-4e6d-d224-6ba71a825da1"
   },
   "outputs": [
    {
     "data": {
      "text/html": [
       "<div>\n",
       "<style scoped>\n",
       "    .dataframe tbody tr th:only-of-type {\n",
       "        vertical-align: middle;\n",
       "    }\n",
       "\n",
       "    .dataframe tbody tr th {\n",
       "        vertical-align: top;\n",
       "    }\n",
       "\n",
       "    .dataframe thead th {\n",
       "        text-align: right;\n",
       "    }\n",
       "</style>\n",
       "<table border=\"1\" class=\"dataframe\">\n",
       "  <thead>\n",
       "    <tr style=\"text-align: right;\">\n",
       "      <th></th>\n",
       "      <th>Uno</th>\n",
       "      <th>Dos</th>\n",
       "      <th>Tres</th>\n",
       "    </tr>\n",
       "  </thead>\n",
       "  <tbody>\n",
       "    <tr>\n",
       "      <th>a</th>\n",
       "      <td>1.0</td>\n",
       "      <td>1.0</td>\n",
       "      <td>NaN</td>\n",
       "    </tr>\n",
       "    <tr>\n",
       "      <th>b</th>\n",
       "      <td>2.0</td>\n",
       "      <td>2.0</td>\n",
       "      <td>NaN</td>\n",
       "    </tr>\n",
       "    <tr>\n",
       "      <th>f</th>\n",
       "      <td>NaN</td>\n",
       "      <td>NaN</td>\n",
       "      <td>NaN</td>\n",
       "    </tr>\n",
       "  </tbody>\n",
       "</table>\n",
       "</div>"
      ],
      "text/plain": [
       "   Uno  Dos Tres\n",
       "a  1.0  1.0  NaN\n",
       "b  2.0  2.0  NaN\n",
       "f  NaN  NaN  NaN"
      ]
     },
     "execution_count": 29,
     "metadata": {
      "tags": []
     },
     "output_type": "execute_result"
    }
   ],
   "source": [
    "# Creado entradas de indices y columnas, las cuales se llena como NaN (Not A Number)\n",
    "pd.DataFrame(d,index=['a','b','f'], columns=['Uno','Dos','Tres'])"
   ]
  },
  {
   "cell_type": "markdown",
   "metadata": {
    "colab_type": "text",
    "id": "xCeJddl1WU1P"
   },
   "source": [
    "# 2. Uso básico de Pandas\n",
    "\n",
    "A continucación realizaremos algunas operaciones básicas y útiles para usar en nuestra siguiente sección"
   ]
  },
  {
   "cell_type": "code",
   "execution_count": 0,
   "metadata": {
    "colab": {
     "base_uri": "https://localhost:8080/",
     "height": 175
    },
    "colab_type": "code",
    "executionInfo": {
     "elapsed": 393,
     "status": "ok",
     "timestamp": 1557451453949,
     "user": {
      "displayName": "Ludim Sánchez",
      "photoUrl": "",
      "userId": "12330024355847510363"
     },
     "user_tz": 300
    },
    "id": "MR9JV2URzm0T",
    "outputId": "c55e09b2-6d07-4df6-dbaf-949e91824b32"
   },
   "outputs": [
    {
     "data": {
      "text/html": [
       "<div>\n",
       "<style scoped>\n",
       "    .dataframe tbody tr th:only-of-type {\n",
       "        vertical-align: middle;\n",
       "    }\n",
       "\n",
       "    .dataframe tbody tr th {\n",
       "        vertical-align: top;\n",
       "    }\n",
       "\n",
       "    .dataframe thead th {\n",
       "        text-align: right;\n",
       "    }\n",
       "</style>\n",
       "<table border=\"1\" class=\"dataframe\">\n",
       "  <thead>\n",
       "    <tr style=\"text-align: right;\">\n",
       "      <th></th>\n",
       "      <th>A</th>\n",
       "      <th>B</th>\n",
       "    </tr>\n",
       "  </thead>\n",
       "  <tbody>\n",
       "    <tr>\n",
       "      <th>a</th>\n",
       "      <td>100</td>\n",
       "      <td>111.0</td>\n",
       "    </tr>\n",
       "    <tr>\n",
       "      <th>b</th>\n",
       "      <td>200</td>\n",
       "      <td>222.0</td>\n",
       "    </tr>\n",
       "    <tr>\n",
       "      <th>c</th>\n",
       "      <td>300</td>\n",
       "      <td>NaN</td>\n",
       "    </tr>\n",
       "    <tr>\n",
       "      <th>d</th>\n",
       "      <td>400</td>\n",
       "      <td>444.0</td>\n",
       "    </tr>\n",
       "  </tbody>\n",
       "</table>\n",
       "</div>"
      ],
      "text/plain": [
       "     A      B\n",
       "a  100  111.0\n",
       "b  200  222.0\n",
       "c  300    NaN\n",
       "d  400  444.0"
      ]
     },
     "execution_count": 30,
     "metadata": {
      "tags": []
     },
     "output_type": "execute_result"
    }
   ],
   "source": [
    "# Consideremos la creación de un dataframe desde un diccionario\n",
    "\n",
    "D={\n",
    "    'A':pd.Series([100,200,300,400], index=['a','b','c','d']),\n",
    "    'B':pd.Series([111,222,444],index=['a','b','d'])\n",
    "}\n",
    "\n",
    "df=pd.DataFrame(D)\n",
    "df"
   ]
  },
  {
   "cell_type": "code",
   "execution_count": 0,
   "metadata": {
    "colab": {
     "base_uri": "https://localhost:8080/",
     "height": 34
    },
    "colab_type": "code",
    "executionInfo": {
     "elapsed": 310,
     "status": "ok",
     "timestamp": 1557451508006,
     "user": {
      "displayName": "Ludim Sánchez",
      "photoUrl": "",
      "userId": "12330024355847510363"
     },
     "user_tz": 300
    },
    "id": "163XqlFk02sy",
    "outputId": "ab7c9b5c-3303-4951-ef44-bd22b998a773"
   },
   "outputs": [
    {
     "data": {
      "text/plain": [
       "Index(['a', 'b', 'c', 'd'], dtype='object')"
      ]
     },
     "execution_count": 32,
     "metadata": {
      "tags": []
     },
     "output_type": "execute_result"
    }
   ],
   "source": [
    "# Obtengamos los índices del dataframe\n",
    "df.index"
   ]
  },
  {
   "cell_type": "code",
   "execution_count": 0,
   "metadata": {
    "colab": {
     "base_uri": "https://localhost:8080/",
     "height": 34
    },
    "colab_type": "code",
    "executionInfo": {
     "elapsed": 295,
     "status": "ok",
     "timestamp": 1557451510692,
     "user": {
      "displayName": "Ludim Sánchez",
      "photoUrl": "",
      "userId": "12330024355847510363"
     },
     "user_tz": 300
    },
    "id": "U66Bnfj21EhT",
    "outputId": "21d9f133-1dfa-4ddb-eaaf-4384dec17a14"
   },
   "outputs": [
    {
     "data": {
      "text/plain": [
       "Index(['A', 'B'], dtype='object')"
      ]
     },
     "execution_count": 33,
     "metadata": {
      "tags": []
     },
     "output_type": "execute_result"
    }
   ],
   "source": [
    "# Obtengamos las columnas \n",
    "df.columns\n"
   ]
  },
  {
   "cell_type": "code",
   "execution_count": 0,
   "metadata": {
    "colab": {
     "base_uri": "https://localhost:8080/",
     "height": 104
    },
    "colab_type": "code",
    "executionInfo": {
     "elapsed": 470,
     "status": "ok",
     "timestamp": 1556240946879,
     "user": {
      "displayName": "Ludim Sánchez",
      "photoUrl": "",
      "userId": "12330024355847510363"
     },
     "user_tz": 300
    },
    "id": "4j5vzKaa1TdN",
    "outputId": "d16801c8-f489-4f0c-ee61-bc29b7551a74"
   },
   "outputs": [
    {
     "data": {
      "text/plain": [
       "a    100\n",
       "b    200\n",
       "c    300\n",
       "d    400\n",
       "Name: A, dtype: int64"
      ]
     },
     "execution_count": 42,
     "metadata": {
      "tags": []
     },
     "output_type": "execute_result"
    }
   ],
   "source": [
    "# Seleccionemos una columna \n",
    "df['A']"
   ]
  },
  {
   "cell_type": "code",
   "execution_count": 0,
   "metadata": {
    "colab": {
     "base_uri": "https://localhost:8080/",
     "height": 175
    },
    "colab_type": "code",
    "executionInfo": {
     "elapsed": 326,
     "status": "ok",
     "timestamp": 1557451606070,
     "user": {
      "displayName": "Ludim Sánchez",
      "photoUrl": "",
      "userId": "12330024355847510363"
     },
     "user_tz": 300
    },
    "id": "HY6jBEvMWXno",
    "outputId": "b0d9253c-0276-49d7-e9ed-ad5bd7a2e6c7"
   },
   "outputs": [
    {
     "data": {
      "text/html": [
       "<div>\n",
       "<style scoped>\n",
       "    .dataframe tbody tr th:only-of-type {\n",
       "        vertical-align: middle;\n",
       "    }\n",
       "\n",
       "    .dataframe tbody tr th {\n",
       "        vertical-align: top;\n",
       "    }\n",
       "\n",
       "    .dataframe thead th {\n",
       "        text-align: right;\n",
       "    }\n",
       "</style>\n",
       "<table border=\"1\" class=\"dataframe\">\n",
       "  <thead>\n",
       "    <tr style=\"text-align: right;\">\n",
       "      <th></th>\n",
       "      <th>A</th>\n",
       "      <th>B</th>\n",
       "      <th>C</th>\n",
       "      <th>D</th>\n",
       "      <th>E</th>\n",
       "    </tr>\n",
       "  </thead>\n",
       "  <tbody>\n",
       "    <tr>\n",
       "      <th>a</th>\n",
       "      <td>100</td>\n",
       "      <td>111.0</td>\n",
       "      <td>False</td>\n",
       "      <td>11100.0</td>\n",
       "      <td>0</td>\n",
       "    </tr>\n",
       "    <tr>\n",
       "      <th>b</th>\n",
       "      <td>200</td>\n",
       "      <td>222.0</td>\n",
       "      <td>True</td>\n",
       "      <td>44400.0</td>\n",
       "      <td>200</td>\n",
       "    </tr>\n",
       "    <tr>\n",
       "      <th>c</th>\n",
       "      <td>300</td>\n",
       "      <td>NaN</td>\n",
       "      <td>False</td>\n",
       "      <td>NaN</td>\n",
       "      <td>0</td>\n",
       "    </tr>\n",
       "    <tr>\n",
       "      <th>d</th>\n",
       "      <td>400</td>\n",
       "      <td>444.0</td>\n",
       "      <td>True</td>\n",
       "      <td>177600.0</td>\n",
       "      <td>400</td>\n",
       "    </tr>\n",
       "  </tbody>\n",
       "</table>\n",
       "</div>"
      ],
      "text/plain": [
       "     A      B      C         D    E\n",
       "a  100  111.0  False   11100.0    0\n",
       "b  200  222.0   True   44400.0  200\n",
       "c  300    NaN  False       NaN    0\n",
       "d  400  444.0   True  177600.0  400"
      ]
     },
     "execution_count": 35,
     "metadata": {
      "tags": []
     },
     "output_type": "execute_result"
    }
   ],
   "source": [
    "df"
   ]
  },
  {
   "cell_type": "code",
   "execution_count": 0,
   "metadata": {
    "colab": {
     "base_uri": "https://localhost:8080/",
     "height": 175
    },
    "colab_type": "code",
    "executionInfo": {
     "elapsed": 327,
     "status": "ok",
     "timestamp": 1557451819236,
     "user": {
      "displayName": "Ludim Sánchez",
      "photoUrl": "",
      "userId": "12330024355847510363"
     },
     "user_tz": 300
    },
    "id": "nlJDtM9719zU",
    "outputId": "1afd3bfe-8a58-4680-e17d-1e27da1f9307"
   },
   "outputs": [
    {
     "data": {
      "text/html": [
       "<div>\n",
       "<style scoped>\n",
       "    .dataframe tbody tr th:only-of-type {\n",
       "        vertical-align: middle;\n",
       "    }\n",
       "\n",
       "    .dataframe tbody tr th {\n",
       "        vertical-align: top;\n",
       "    }\n",
       "\n",
       "    .dataframe thead th {\n",
       "        text-align: right;\n",
       "    }\n",
       "</style>\n",
       "<table border=\"1\" class=\"dataframe\">\n",
       "  <thead>\n",
       "    <tr style=\"text-align: right;\">\n",
       "      <th></th>\n",
       "      <th>A</th>\n",
       "      <th>B</th>\n",
       "      <th>C</th>\n",
       "      <th>D</th>\n",
       "      <th>E</th>\n",
       "    </tr>\n",
       "  </thead>\n",
       "  <tbody>\n",
       "    <tr>\n",
       "      <th>a</th>\n",
       "      <td>100</td>\n",
       "      <td>111.0</td>\n",
       "      <td>False</td>\n",
       "      <td>11100.0</td>\n",
       "      <td>0</td>\n",
       "    </tr>\n",
       "    <tr>\n",
       "      <th>b</th>\n",
       "      <td>200</td>\n",
       "      <td>222.0</td>\n",
       "      <td>True</td>\n",
       "      <td>44400.0</td>\n",
       "      <td>200</td>\n",
       "    </tr>\n",
       "    <tr>\n",
       "      <th>c</th>\n",
       "      <td>300</td>\n",
       "      <td>NaN</td>\n",
       "      <td>False</td>\n",
       "      <td>NaN</td>\n",
       "      <td>0</td>\n",
       "    </tr>\n",
       "    <tr>\n",
       "      <th>d</th>\n",
       "      <td>400</td>\n",
       "      <td>444.0</td>\n",
       "      <td>True</td>\n",
       "      <td>177600.0</td>\n",
       "      <td>400</td>\n",
       "    </tr>\n",
       "  </tbody>\n",
       "</table>\n",
       "</div>"
      ],
      "text/plain": [
       "     A      B      C         D    E\n",
       "a  100  111.0  False   11100.0    0\n",
       "b  200  222.0   True   44400.0  200\n",
       "c  300    NaN  False       NaN    0\n",
       "d  400  444.0   True  177600.0  400"
      ]
     },
     "execution_count": 39,
     "metadata": {
      "tags": []
     },
     "output_type": "execute_result"
    }
   ],
   "source": [
    "# Creando columnas mediante la operación de columnas \n",
    "df['C'] = df['A'] % 200 == 0 \n",
    "df['D']=df['A']*df['B']\n",
    "df['E']=df['A']*df['C']\n",
    "df"
   ]
  },
  {
   "cell_type": "code",
   "execution_count": 0,
   "metadata": {
    "colab": {},
    "colab_type": "code",
    "id": "B-Q7wvE92SiY"
   },
   "outputs": [],
   "source": [
    "# Borrando columnas de manera rápida \n",
    "#del df['C']\n",
    "#df"
   ]
  },
  {
   "cell_type": "code",
   "execution_count": 0,
   "metadata": {
    "colab": {
     "base_uri": "https://localhost:8080/",
     "height": 112
    },
    "colab_type": "code",
    "executionInfo": {
     "elapsed": 325,
     "status": "ok",
     "timestamp": 1557452257148,
     "user": {
      "displayName": "Ludim Sánchez",
      "photoUrl": "",
      "userId": "12330024355847510363"
     },
     "user_tz": 300
    },
    "id": "kbqmwbX8XZGP",
    "outputId": "89187bb0-f49b-4e4c-c38c-786ec78d3068"
   },
   "outputs": [
    {
     "data": {
      "text/html": [
       "<div>\n",
       "<style scoped>\n",
       "    .dataframe tbody tr th:only-of-type {\n",
       "        vertical-align: middle;\n",
       "    }\n",
       "\n",
       "    .dataframe tbody tr th {\n",
       "        vertical-align: top;\n",
       "    }\n",
       "\n",
       "    .dataframe thead th {\n",
       "        text-align: right;\n",
       "    }\n",
       "</style>\n",
       "<table border=\"1\" class=\"dataframe\">\n",
       "  <thead>\n",
       "    <tr style=\"text-align: right;\">\n",
       "      <th></th>\n",
       "      <th>A</th>\n",
       "      <th>B</th>\n",
       "      <th>D</th>\n",
       "      <th>E</th>\n",
       "    </tr>\n",
       "  </thead>\n",
       "  <tbody>\n",
       "    <tr>\n",
       "      <th>c</th>\n",
       "      <td>300</td>\n",
       "      <td>NaN</td>\n",
       "      <td>NaN</td>\n",
       "      <td>0</td>\n",
       "    </tr>\n",
       "    <tr>\n",
       "      <th>d</th>\n",
       "      <td>400</td>\n",
       "      <td>444.0</td>\n",
       "      <td>177600.0</td>\n",
       "      <td>400</td>\n",
       "    </tr>\n",
       "  </tbody>\n",
       "</table>\n",
       "</div>"
      ],
      "text/plain": [
       "     A      B         D    E\n",
       "c  300    NaN       NaN    0\n",
       "d  400  444.0  177600.0  400"
      ]
     },
     "execution_count": 60,
     "metadata": {
      "tags": []
     },
     "output_type": "execute_result"
    }
   ],
   "source": [
    "df = df.drop(['a','b'])\n",
    "df"
   ]
  },
  {
   "cell_type": "code",
   "execution_count": 0,
   "metadata": {
    "colab": {
     "base_uri": "https://localhost:8080/",
     "height": 175
    },
    "colab_type": "code",
    "executionInfo": {
     "elapsed": 398,
     "status": "ok",
     "timestamp": 1557452261005,
     "user": {
      "displayName": "Ludim Sánchez",
      "photoUrl": "",
      "userId": "12330024355847510363"
     },
     "user_tz": 300
    },
    "id": "1HDVO4iW2pUd",
    "outputId": "7565483d-4e0c-4251-dce6-bedd34df9d88"
   },
   "outputs": [
    {
     "data": {
      "text/html": [
       "<div>\n",
       "<style scoped>\n",
       "    .dataframe tbody tr th:only-of-type {\n",
       "        vertical-align: middle;\n",
       "    }\n",
       "\n",
       "    .dataframe tbody tr th {\n",
       "        vertical-align: top;\n",
       "    }\n",
       "\n",
       "    .dataframe thead th {\n",
       "        text-align: right;\n",
       "    }\n",
       "</style>\n",
       "<table border=\"1\" class=\"dataframe\">\n",
       "  <thead>\n",
       "    <tr style=\"text-align: right;\">\n",
       "      <th></th>\n",
       "      <th>c</th>\n",
       "    </tr>\n",
       "  </thead>\n",
       "  <tbody>\n",
       "    <tr>\n",
       "      <th>A</th>\n",
       "      <td>300.0</td>\n",
       "    </tr>\n",
       "    <tr>\n",
       "      <th>B</th>\n",
       "      <td>NaN</td>\n",
       "    </tr>\n",
       "    <tr>\n",
       "      <th>D</th>\n",
       "      <td>NaN</td>\n",
       "    </tr>\n",
       "    <tr>\n",
       "      <th>E</th>\n",
       "      <td>0.0</td>\n",
       "    </tr>\n",
       "  </tbody>\n",
       "</table>\n",
       "</div>"
      ],
      "text/plain": [
       "       c\n",
       "A  300.0\n",
       "B    NaN\n",
       "D    NaN\n",
       "E    0.0"
      ]
     },
     "execution_count": 61,
     "metadata": {
      "tags": []
     },
     "output_type": "execute_result"
    }
   ],
   "source": [
    "# Podemos traer la una fila mediante su posición \n",
    "pd.DataFrame(df.iloc[0])"
   ]
  },
  {
   "cell_type": "code",
   "execution_count": 0,
   "metadata": {
    "colab": {
     "base_uri": "https://localhost:8080/",
     "height": 175
    },
    "colab_type": "code",
    "executionInfo": {
     "elapsed": 400,
     "status": "ok",
     "timestamp": 1557452299946,
     "user": {
      "displayName": "Ludim Sánchez",
      "photoUrl": "",
      "userId": "12330024355847510363"
     },
     "user_tz": 300
    },
    "id": "ETEsPXCo2uko",
    "outputId": "bc614d20-0713-4d78-bdb3-1e648dfc8b9b"
   },
   "outputs": [
    {
     "data": {
      "text/html": [
       "<div>\n",
       "<style scoped>\n",
       "    .dataframe tbody tr th:only-of-type {\n",
       "        vertical-align: middle;\n",
       "    }\n",
       "\n",
       "    .dataframe tbody tr th {\n",
       "        vertical-align: top;\n",
       "    }\n",
       "\n",
       "    .dataframe thead th {\n",
       "        text-align: right;\n",
       "    }\n",
       "</style>\n",
       "<table border=\"1\" class=\"dataframe\">\n",
       "  <thead>\n",
       "    <tr style=\"text-align: right;\">\n",
       "      <th></th>\n",
       "      <th>c</th>\n",
       "    </tr>\n",
       "  </thead>\n",
       "  <tbody>\n",
       "    <tr>\n",
       "      <th>A</th>\n",
       "      <td>300.0</td>\n",
       "    </tr>\n",
       "    <tr>\n",
       "      <th>B</th>\n",
       "      <td>NaN</td>\n",
       "    </tr>\n",
       "    <tr>\n",
       "      <th>D</th>\n",
       "      <td>NaN</td>\n",
       "    </tr>\n",
       "    <tr>\n",
       "      <th>E</th>\n",
       "      <td>0.0</td>\n",
       "    </tr>\n",
       "  </tbody>\n",
       "</table>\n",
       "</div>"
      ],
      "text/plain": [
       "       c\n",
       "A  300.0\n",
       "B    NaN\n",
       "D    NaN\n",
       "E    0.0"
      ]
     },
     "execution_count": 63,
     "metadata": {
      "tags": []
     },
     "output_type": "execute_result"
    }
   ],
   "source": [
    "# O mediante su índice \n",
    "pd.DataFrame(df.loc['c'])"
   ]
  },
  {
   "cell_type": "markdown",
   "metadata": {
    "colab_type": "text",
    "id": "KysF18MWWd5C"
   },
   "source": [
    "# 3. Ejercicios \n",
    "\n",
    "\n",
    "**Ejercicio 1: ** Películas https://bit.ly/2L2AvyZ\n",
    "\n",
    "Archivos: https://bit.ly/2ZyEI0h\n"
   ]
  },
  {
   "cell_type": "markdown",
   "metadata": {
    "colab_type": "text",
    "id": "9fUbv01kQnFs"
   },
   "source": [
    "## 3.1 Archivo *movies*"
   ]
  },
  {
   "cell_type": "markdown",
   "metadata": {
    "colab_type": "text",
    "id": "PVEPeScNRfAr"
   },
   "source": [
    "### 3.1.1. Crear el dataframe\n",
    "- Si estás ejecutando tu notebook desde Google Colaboratory, comienza en el paso 3.1.1.1\n",
    "- Si estás ejecutando tu notebook en forma local, comienza en el paso 3.1.1.2"
   ]
  },
  {
   "cell_type": "markdown",
   "metadata": {
    "colab_type": "text",
    "id": "qbPafBoyhlnv"
   },
   "source": [
    "#### 3.1-1.1 Descarga de archivos desde Google Colaboratory"
   ]
  },
  {
   "cell_type": "code",
   "execution_count": 1,
   "metadata": {
    "colab": {
     "base_uri": "https://localhost:8080/",
     "height": 52
    },
    "colab_type": "code",
    "executionInfo": {
     "elapsed": 6703,
     "status": "ok",
     "timestamp": 1557605884132,
     "user": {
      "displayName": "Ludim Sánchez",
      "photoUrl": "",
      "userId": "12330024355847510363"
     },
     "user_tz": 300
    },
    "id": "-1nl24Is6xv6",
    "outputId": "a723a066-eede-483e-83be-03ab82063196"
   },
   "outputs": [
    {
     "name": "stdout",
     "output_type": "stream",
     "text": [
      "\u001b[?25l\r",
      "\u001b[K     |▎                               | 10kB 17.9MB/s eta 0:00:01\r",
      "\u001b[K     |▋                               | 20kB 3.3MB/s eta 0:00:01\r",
      "\u001b[K     |█                               | 30kB 4.8MB/s eta 0:00:01\r",
      "\u001b[K     |█▎                              | 40kB 3.0MB/s eta 0:00:01\r",
      "\u001b[K     |█▋                              | 51kB 3.7MB/s eta 0:00:01\r",
      "\u001b[K     |██                              | 61kB 4.4MB/s eta 0:00:01\r",
      "\u001b[K     |██▎                             | 71kB 5.1MB/s eta 0:00:01\r",
      "\u001b[K     |██▋                             | 81kB 5.6MB/s eta 0:00:01\r",
      "\u001b[K     |███                             | 92kB 6.2MB/s eta 0:00:01\r",
      "\u001b[K     |███▎                            | 102kB 4.9MB/s eta 0:00:01\r",
      "\u001b[K     |███▋                            | 112kB 4.9MB/s eta 0:00:01\r",
      "\u001b[K     |████                            | 122kB 4.9MB/s eta 0:00:01\r",
      "\u001b[K     |████▎                           | 133kB 4.9MB/s eta 0:00:01\r",
      "\u001b[K     |████▋                           | 143kB 4.9MB/s eta 0:00:01\r",
      "\u001b[K     |█████                           | 153kB 4.9MB/s eta 0:00:01\r",
      "\u001b[K     |█████▎                          | 163kB 4.9MB/s eta 0:00:01\r",
      "\u001b[K     |█████▋                          | 174kB 4.9MB/s eta 0:00:01\r",
      "\u001b[K     |██████                          | 184kB 4.9MB/s eta 0:00:01\r",
      "\u001b[K     |██████▎                         | 194kB 4.9MB/s eta 0:00:01\r",
      "\u001b[K     |██████▋                         | 204kB 4.9MB/s eta 0:00:01\r",
      "\u001b[K     |███████                         | 215kB 4.9MB/s eta 0:00:01\r",
      "\u001b[K     |███████▎                        | 225kB 4.9MB/s eta 0:00:01\r",
      "\u001b[K     |███████▋                        | 235kB 4.9MB/s eta 0:00:01\r",
      "\u001b[K     |████████                        | 245kB 4.9MB/s eta 0:00:01\r",
      "\u001b[K     |████████▎                       | 256kB 4.9MB/s eta 0:00:01\r",
      "\u001b[K     |████████▋                       | 266kB 4.9MB/s eta 0:00:01\r",
      "\u001b[K     |█████████                       | 276kB 4.9MB/s eta 0:00:01\r",
      "\u001b[K     |█████████▎                      | 286kB 4.9MB/s eta 0:00:01\r",
      "\u001b[K     |█████████▋                      | 296kB 4.9MB/s eta 0:00:01\r",
      "\u001b[K     |██████████                      | 307kB 4.9MB/s eta 0:00:01\r",
      "\u001b[K     |██████████▎                     | 317kB 4.9MB/s eta 0:00:01\r",
      "\u001b[K     |██████████▋                     | 327kB 4.9MB/s eta 0:00:01\r",
      "\u001b[K     |███████████                     | 337kB 4.9MB/s eta 0:00:01\r",
      "\u001b[K     |███████████▎                    | 348kB 4.9MB/s eta 0:00:01\r",
      "\u001b[K     |███████████▋                    | 358kB 4.9MB/s eta 0:00:01\r",
      "\u001b[K     |████████████                    | 368kB 4.9MB/s eta 0:00:01\r",
      "\u001b[K     |████████████▎                   | 378kB 4.9MB/s eta 0:00:01\r",
      "\u001b[K     |████████████▋                   | 389kB 4.9MB/s eta 0:00:01\r",
      "\u001b[K     |█████████████                   | 399kB 4.9MB/s eta 0:00:01\r",
      "\u001b[K     |█████████████▎                  | 409kB 4.9MB/s eta 0:00:01\r",
      "\u001b[K     |█████████████▋                  | 419kB 4.9MB/s eta 0:00:01\r",
      "\u001b[K     |██████████████                  | 430kB 4.9MB/s eta 0:00:01\r",
      "\u001b[K     |██████████████▎                 | 440kB 4.9MB/s eta 0:00:01\r",
      "\u001b[K     |██████████████▋                 | 450kB 4.9MB/s eta 0:00:01\r",
      "\u001b[K     |███████████████                 | 460kB 4.9MB/s eta 0:00:01\r",
      "\u001b[K     |███████████████▎                | 471kB 4.9MB/s eta 0:00:01\r",
      "\u001b[K     |███████████████▋                | 481kB 4.9MB/s eta 0:00:01\r",
      "\u001b[K     |████████████████                | 491kB 4.9MB/s eta 0:00:01\r",
      "\u001b[K     |████████████████▎               | 501kB 4.9MB/s eta 0:00:01\r",
      "\u001b[K     |████████████████▋               | 512kB 4.9MB/s eta 0:00:01\r",
      "\u001b[K     |█████████████████               | 522kB 4.9MB/s eta 0:00:01\r",
      "\u001b[K     |█████████████████▎              | 532kB 4.9MB/s eta 0:00:01\r",
      "\u001b[K     |█████████████████▋              | 542kB 4.9MB/s eta 0:00:01\r",
      "\u001b[K     |██████████████████              | 552kB 4.9MB/s eta 0:00:01\r",
      "\u001b[K     |██████████████████▎             | 563kB 4.9MB/s eta 0:00:01\r",
      "\u001b[K     |██████████████████▋             | 573kB 4.9MB/s eta 0:00:01\r",
      "\u001b[K     |███████████████████             | 583kB 4.9MB/s eta 0:00:01\r",
      "\u001b[K     |███████████████████▎            | 593kB 4.9MB/s eta 0:00:01\r",
      "\u001b[K     |███████████████████▋            | 604kB 4.9MB/s eta 0:00:01\r",
      "\u001b[K     |████████████████████            | 614kB 4.9MB/s eta 0:00:01\r",
      "\u001b[K     |████████████████████▎           | 624kB 4.9MB/s eta 0:00:01\r",
      "\u001b[K     |████████████████████▋           | 634kB 4.9MB/s eta 0:00:01\r",
      "\u001b[K     |█████████████████████           | 645kB 4.9MB/s eta 0:00:01\r",
      "\u001b[K     |█████████████████████▎          | 655kB 4.9MB/s eta 0:00:01\r",
      "\u001b[K     |█████████████████████▋          | 665kB 4.9MB/s eta 0:00:01\r",
      "\u001b[K     |██████████████████████          | 675kB 4.9MB/s eta 0:00:01\r",
      "\u001b[K     |██████████████████████▎         | 686kB 4.9MB/s eta 0:00:01\r",
      "\u001b[K     |██████████████████████▋         | 696kB 4.9MB/s eta 0:00:01\r",
      "\u001b[K     |███████████████████████         | 706kB 4.9MB/s eta 0:00:01\r",
      "\u001b[K     |███████████████████████▎        | 716kB 4.9MB/s eta 0:00:01\r",
      "\u001b[K     |███████████████████████▋        | 727kB 4.9MB/s eta 0:00:01\r",
      "\u001b[K     |████████████████████████        | 737kB 4.9MB/s eta 0:00:01\r",
      "\u001b[K     |████████████████████████▎       | 747kB 4.9MB/s eta 0:00:01\r",
      "\u001b[K     |████████████████████████▋       | 757kB 4.9MB/s eta 0:00:01\r",
      "\u001b[K     |████████████████████████▉       | 768kB 4.9MB/s eta 0:00:01\r",
      "\u001b[K     |█████████████████████████▏      | 778kB 4.9MB/s eta 0:00:01\r",
      "\u001b[K     |█████████████████████████▌      | 788kB 4.9MB/s eta 0:00:01\r",
      "\u001b[K     |█████████████████████████▉      | 798kB 4.9MB/s eta 0:00:01\r",
      "\u001b[K     |██████████████████████████▏     | 808kB 4.9MB/s eta 0:00:01\r",
      "\u001b[K     |██████████████████████████▌     | 819kB 4.9MB/s eta 0:00:01\r",
      "\u001b[K     |██████████████████████████▉     | 829kB 4.9MB/s eta 0:00:01\r",
      "\u001b[K     |███████████████████████████▏    | 839kB 4.9MB/s eta 0:00:01\r",
      "\u001b[K     |███████████████████████████▌    | 849kB 4.9MB/s eta 0:00:01\r",
      "\u001b[K     |███████████████████████████▉    | 860kB 4.9MB/s eta 0:00:01\r",
      "\u001b[K     |████████████████████████████▏   | 870kB 4.9MB/s eta 0:00:01\r",
      "\u001b[K     |████████████████████████████▌   | 880kB 4.9MB/s eta 0:00:01\r",
      "\u001b[K     |████████████████████████████▉   | 890kB 4.9MB/s eta 0:00:01\r",
      "\u001b[K     |█████████████████████████████▏  | 901kB 4.9MB/s eta 0:00:01\r",
      "\u001b[K     |█████████████████████████████▌  | 911kB 4.9MB/s eta 0:00:01\r",
      "\u001b[K     |█████████████████████████████▉  | 921kB 4.9MB/s eta 0:00:01\r",
      "\u001b[K     |██████████████████████████████▏ | 931kB 4.9MB/s eta 0:00:01\r",
      "\u001b[K     |██████████████████████████████▌ | 942kB 4.9MB/s eta 0:00:01\r",
      "\u001b[K     |██████████████████████████████▉ | 952kB 4.9MB/s eta 0:00:01\r",
      "\u001b[K     |███████████████████████████████▏| 962kB 4.9MB/s eta 0:00:01\r",
      "\u001b[K     |███████████████████████████████▌| 972kB 4.9MB/s eta 0:00:01\r",
      "\u001b[K     |███████████████████████████████▉| 983kB 4.9MB/s eta 0:00:01\r",
      "\u001b[K     |████████████████████████████████| 993kB 4.9MB/s \n",
      "\u001b[?25h  Building wheel for PyDrive (setup.py) ... \u001b[?25l\u001b[?25hdone\n"
     ]
    }
   ],
   "source": [
    "# Install the PyDrive wrapper & import libraries.\n",
    "# This only needs to be done once per notebook.\n",
    "!pip install -U -q PyDrive\n",
    "from pydrive.auth import GoogleAuth\n",
    "from pydrive.drive import GoogleDrive\n",
    "from google.colab import auth\n",
    "from oauth2client.client import GoogleCredentials"
   ]
  },
  {
   "cell_type": "code",
   "execution_count": 0,
   "metadata": {
    "colab": {},
    "colab_type": "code",
    "id": "K-LVZmRER-ED"
   },
   "outputs": [],
   "source": [
    "# Authenticate and create the PyDrive client.\n",
    "# This only needs to be done once per notebook.\n",
    "auth.authenticate_user()\n",
    "gauth = GoogleAuth()\n",
    "gauth.credentials = GoogleCredentials.get_application_default()\n",
    "drive = GoogleDrive(gauth)"
   ]
  },
  {
   "cell_type": "code",
   "execution_count": 0,
   "metadata": {
    "colab": {},
    "colab_type": "code",
    "id": "17fgq16fSG4w"
   },
   "outputs": [],
   "source": [
    "# Download a zip file based on its file ID.\n",
    "#\n",
    "# A file ID looks like: 1tDF08XYh1HnRDcY2dJxvP5ab14Q8L_9i\n",
    "# https://drive.google.com/open?id=1tDF08XYh1HnRDcY2dJxvP5ab14Q8L_9i\n",
    "file_id = '1tDF08XYh1HnRDcY2dJxvP5ab14Q8L_9i' # Get sharable link from file in Google Drive\n",
    "downloaded = drive.CreateFile({'id': file_id})\n",
    "downloaded.GetContentFile(downloaded['title'])\n"
   ]
  },
  {
   "cell_type": "markdown",
   "metadata": {
    "colab_type": "text",
    "id": "qbPafBoyhlnv"
   },
   "source": [
    "#### 3.1.1.2 Carga de archivos"
   ]
  },
  {
   "attachments": {
    "imagen.png": {
     "image/png": "[encoded data removed]"
    }
   },
   "cell_type": "markdown",
   "metadata": {},
   "source": [
    "![https://jalammar.github.io/images/pandas-intro/0%20excel-to-pandas.png](attachment:imagen.png)\n",
    "Créditos: Jay Alammar https://jalammar.github.io/gentle-visual-intro-to-data-analysis-python-pandas/"
   ]
  },
  {
   "cell_type": "code",
   "execution_count": 1,
   "metadata": {
    "colab": {
     "base_uri": "https://localhost:8080/",
     "height": 34
    },
    "colab_type": "code",
    "executionInfo": {
     "elapsed": 2065,
     "status": "ok",
     "timestamp": 1557606161719,
     "user": {
      "displayName": "Ludim Sánchez",
      "photoUrl": "",
      "userId": "12330024355847510363"
     },
     "user_tz": 300
    },
    "id": "eH9oLPdhSX5W",
    "outputId": "f0914710-8de8-4865-c5d3-eccf327f73d2"
   },
   "outputs": [
    {
     "name": "stdout",
     "output_type": "stream",
     "text": [
      " El volumen de la unidad C es Windows\n",
      " El n£mero de serie del volumen es: 5695-1FCD\n",
      "\n",
      " Directorio de C:\\Users\\Desarrollador\\Documents\\code\\geggen\\teaching\\data-science\\01DSOnline\\4. Python Cientifico\\Presentaci¢n\n",
      "\n",
      "17/02/2020  04:09 p. m.    <DIR>          .\n",
      "17/02/2020  04:09 p. m.    <DIR>          ..\n",
      "17/02/2020  03:48 p. m.    <DIR>          .ipynb_checkpoints\n",
      "16/02/2020  05:44 p. m.            22,254 Autodiagn¢stico.ipynb\n",
      "17/02/2020  04:02 p. m.           130,261 NumPy - Creaci¢n y manipulaci¢n de datos num‚ricos.ipynb\n",
      "17/02/2020  04:09 p. m.           310,624 Pandas - Panel Data.ipynb\n",
      "16/02/2020  04:54 p. m.               176 ReadMe.md\n",
      "               4 archivos        463,315 bytes\n",
      "               3 dirs  715,661,611,008 bytes libres\n"
     ]
    }
   ],
   "source": [
    "ls"
   ]
  },
  {
   "cell_type": "code",
   "execution_count": 0,
   "metadata": {
    "colab": {
     "base_uri": "https://localhost:8080/",
     "height": 34
    },
    "colab_type": "code",
    "executionInfo": {
     "elapsed": 439,
     "status": "ok",
     "timestamp": 1556242815667,
     "user": {
      "displayName": "Ludim Sánchez",
      "photoUrl": "",
      "userId": "12330024355847510363"
     },
     "user_tz": 300
    },
    "id": "c3hmoQBRSczv",
    "outputId": "deea4587-05b5-40ae-dbba-2b0d1306057e"
   },
   "outputs": [
    {
     "name": "stdout",
     "output_type": "stream",
     "text": [
      "<class 'pandas.core.frame.DataFrame'>\n"
     ]
    }
   ],
   "source": [
    "movies = pd.read_csv('movies.csv')\n",
    "print(type(movies))"
   ]
  },
  {
   "cell_type": "code",
   "execution_count": 0,
   "metadata": {
    "colab": {
     "base_uri": "https://localhost:8080/",
     "height": 191
    },
    "colab_type": "code",
    "executionInfo": {
     "elapsed": 1935,
     "status": "ok",
     "timestamp": 1556246049981,
     "user": {
      "displayName": "Ludim Sánchez",
      "photoUrl": "",
      "userId": "12330024355847510363"
     },
     "user_tz": 300
    },
    "id": "c9udivzuffAp",
    "outputId": "8f22f913-e377-4e0c-80df-dac14df439a9"
   },
   "outputs": [
    {
     "name": "stdout",
     "output_type": "stream",
     "text": [
      "movieId,title,genres\r\n",
      "1,Toy Story (1995),Adventure|Animation|Children|Comedy|Fantasy\r\n",
      "2,Jumanji (1995),Adventure|Children|Fantasy\r\n",
      "3,Grumpier Old Men (1995),Comedy|Romance\r\n",
      "4,Waiting to Exhale (1995),Comedy|Drama|Romance\r\n",
      "5,Father of the Bride Part II (1995),Comedy\r\n",
      "6,Heat (1995),Action|Crime|Thriller\r\n",
      "7,Sabrina (1995),Comedy|Romance\r\n",
      "8,Tom and Huck (1995),Adventure|Children\r\n",
      "9,Sudden Death (1995),Action\r\n"
     ]
    }
   ],
   "source": [
    "!head movies.csv"
   ]
  },
  {
   "cell_type": "code",
   "execution_count": 0,
   "metadata": {
    "colab": {
     "base_uri": "https://localhost:8080/",
     "height": 206
    },
    "colab_type": "code",
    "executionInfo": {
     "elapsed": 513,
     "status": "ok",
     "timestamp": 1556246072681,
     "user": {
      "displayName": "Ludim Sánchez",
      "photoUrl": "",
      "userId": "12330024355847510363"
     },
     "user_tz": 300
    },
    "id": "JuSqY9pwfmsk",
    "outputId": "0813a993-3f64-4df4-a605-10ddeaebcdc0"
   },
   "outputs": [
    {
     "data": {
      "text/html": [
       "<div>\n",
       "<style scoped>\n",
       "    .dataframe tbody tr th:only-of-type {\n",
       "        vertical-align: middle;\n",
       "    }\n",
       "\n",
       "    .dataframe tbody tr th {\n",
       "        vertical-align: top;\n",
       "    }\n",
       "\n",
       "    .dataframe thead th {\n",
       "        text-align: right;\n",
       "    }\n",
       "</style>\n",
       "<table border=\"1\" class=\"dataframe\">\n",
       "  <thead>\n",
       "    <tr style=\"text-align: right;\">\n",
       "      <th></th>\n",
       "      <th>movieId</th>\n",
       "      <th>title</th>\n",
       "      <th>genres</th>\n",
       "    </tr>\n",
       "  </thead>\n",
       "  <tbody>\n",
       "    <tr>\n",
       "      <th>0</th>\n",
       "      <td>1</td>\n",
       "      <td>Toy Story (1995)</td>\n",
       "      <td>Adventure|Animation|Children|Comedy|Fantasy</td>\n",
       "    </tr>\n",
       "    <tr>\n",
       "      <th>1</th>\n",
       "      <td>2</td>\n",
       "      <td>Jumanji (1995)</td>\n",
       "      <td>Adventure|Children|Fantasy</td>\n",
       "    </tr>\n",
       "    <tr>\n",
       "      <th>2</th>\n",
       "      <td>3</td>\n",
       "      <td>Grumpier Old Men (1995)</td>\n",
       "      <td>Comedy|Romance</td>\n",
       "    </tr>\n",
       "    <tr>\n",
       "      <th>3</th>\n",
       "      <td>4</td>\n",
       "      <td>Waiting to Exhale (1995)</td>\n",
       "      <td>Comedy|Drama|Romance</td>\n",
       "    </tr>\n",
       "    <tr>\n",
       "      <th>4</th>\n",
       "      <td>5</td>\n",
       "      <td>Father of the Bride Part II (1995)</td>\n",
       "      <td>Comedy</td>\n",
       "    </tr>\n",
       "  </tbody>\n",
       "</table>\n",
       "</div>"
      ],
      "text/plain": [
       "   movieId                               title  \\\n",
       "0        1                    Toy Story (1995)   \n",
       "1        2                      Jumanji (1995)   \n",
       "2        3             Grumpier Old Men (1995)   \n",
       "3        4            Waiting to Exhale (1995)   \n",
       "4        5  Father of the Bride Part II (1995)   \n",
       "\n",
       "                                        genres  \n",
       "0  Adventure|Animation|Children|Comedy|Fantasy  \n",
       "1                   Adventure|Children|Fantasy  \n",
       "2                               Comedy|Romance  \n",
       "3                         Comedy|Drama|Romance  \n",
       "4                                       Comedy  "
      ]
     },
     "execution_count": 86,
     "metadata": {
      "tags": []
     },
     "output_type": "execute_result"
    }
   ],
   "source": [
    "movies.head()"
   ]
  },
  {
   "cell_type": "markdown",
   "metadata": {
    "colab_type": "text",
    "id": "C0ao5S5fTePu"
   },
   "source": [
    "###  2. ¿Conocemos los datos?"
   ]
  },
  {
   "cell_type": "markdown",
   "metadata": {
    "colab_type": "text",
    "id": "rSwyTFEbdHPq"
   },
   "source": [
    "#### Columnas"
   ]
  },
  {
   "cell_type": "code",
   "execution_count": 0,
   "metadata": {
    "colab": {
     "base_uri": "https://localhost:8080/",
     "height": 34
    },
    "colab_type": "code",
    "executionInfo": {
     "elapsed": 526,
     "status": "ok",
     "timestamp": 1556243507050,
     "user": {
      "displayName": "Ludim Sánchez",
      "photoUrl": "",
      "userId": "12330024355847510363"
     },
     "user_tz": 300
    },
    "id": "_ns3R98iVyUI",
    "outputId": "1cf105f7-1a2d-46ab-e0f4-bc8e3449ccc2"
   },
   "outputs": [
    {
     "data": {
      "text/plain": [
       "Index(['movieId', 'title', 'genres'], dtype='object')"
      ]
     },
     "execution_count": 74,
     "metadata": {
      "tags": []
     },
     "output_type": "execute_result"
    }
   ],
   "source": []
  },
  {
   "cell_type": "markdown",
   "metadata": {
    "colab_type": "text",
    "id": "KprZHBRdcf1j"
   },
   "source": [
    "#### Tamaño"
   ]
  },
  {
   "cell_type": "code",
   "execution_count": 0,
   "metadata": {
    "colab": {
     "base_uri": "https://localhost:8080/",
     "height": 34
    },
    "colab_type": "code",
    "executionInfo": {
     "elapsed": 473,
     "status": "ok",
     "timestamp": 1556245202604,
     "user": {
      "displayName": "Ludim Sánchez",
      "photoUrl": "",
      "userId": "12330024355847510363"
     },
     "user_tz": 300
    },
    "id": "fBzKfTEPcTRD",
    "outputId": "3d91ca10-4f89-4d18-9225-bf4e7e2a90b6"
   },
   "outputs": [
    {
     "data": {
      "text/plain": [
       "(9742, 3)"
      ]
     },
     "execution_count": 82,
     "metadata": {
      "tags": []
     },
     "output_type": "execute_result"
    }
   ],
   "source": []
  },
  {
   "cell_type": "markdown",
   "metadata": {
    "colab_type": "text",
    "id": "MywxN1cNcqTc"
   },
   "source": [
    "#### Tipos de datos"
   ]
  },
  {
   "cell_type": "code",
   "execution_count": 0,
   "metadata": {
    "colab": {
     "base_uri": "https://localhost:8080/",
     "height": 86
    },
    "colab_type": "code",
    "executionInfo": {
     "elapsed": 465,
     "status": "ok",
     "timestamp": 1556245338135,
     "user": {
      "displayName": "Ludim Sánchez",
      "photoUrl": "",
      "userId": "12330024355847510363"
     },
     "user_tz": 300
    },
    "id": "bCP-msLcczAv",
    "outputId": "15244f2c-3a7b-4539-ff1b-cafd8cf014ed"
   },
   "outputs": [
    {
     "data": {
      "text/plain": [
       "movieId     int64\n",
       "title      object\n",
       "genres     object\n",
       "dtype: object"
      ]
     },
     "execution_count": 83,
     "metadata": {
      "tags": []
     },
     "output_type": "execute_result"
    }
   ],
   "source": []
  },
  {
   "cell_type": "markdown",
   "metadata": {
    "colab_type": "text",
    "id": "YjVwQkmOT3xe"
   },
   "source": [
    "###  3. Renombrar las columnas ID, Titulo, Genero"
   ]
  },
  {
   "cell_type": "code",
   "execution_count": null,
   "metadata": {
    "colab": {},
    "colab_type": "code",
    "id": "7O9L_UQsfb3j"
   },
   "outputs": [],
   "source": []
  },
  {
   "cell_type": "markdown",
   "metadata": {
    "colab_type": "text",
    "id": "3CI-n9i9c3db"
   },
   "source": [
    "###  4. ¿Hay Valores nulos (NaN) en las columnas?"
   ]
  },
  {
   "cell_type": "code",
   "execution_count": null,
   "metadata": {},
   "outputs": [],
   "source": []
  },
  {
   "cell_type": "markdown",
   "metadata": {
    "colab_type": "text",
    "id": "c7lRSJM9c9JM"
   },
   "source": [
    "###  5. ¿Hay valores repetidos? ¿Cuáles?"
   ]
  },
  {
   "cell_type": "code",
   "execution_count": null,
   "metadata": {},
   "outputs": [],
   "source": []
  },
  {
   "cell_type": "markdown",
   "metadata": {
    "colab_type": "text",
    "id": "ilkYgePtc9D0"
   },
   "source": [
    "## 3.2. Archivo ratings"
   ]
  },
  {
   "cell_type": "markdown",
   "metadata": {},
   "source": [
    "### 1. ¿Conocemos los datos? ¿Entendemos todos?"
   ]
  },
  {
   "cell_type": "code",
   "execution_count": null,
   "metadata": {},
   "outputs": [],
   "source": []
  },
  {
   "cell_type": "markdown",
   "metadata": {},
   "source": [
    "### 2. Obtengamos los estadísticos básicos de las calificaciones "
   ]
  },
  {
   "cell_type": "code",
   "execution_count": null,
   "metadata": {},
   "outputs": [],
   "source": []
  },
  {
   "cell_type": "markdown",
   "metadata": {},
   "source": [
    "### 3. Cambiemos la escala de las calificaciones de un máximo de 5 a 100"
   ]
  },
  {
   "cell_type": "code",
   "execution_count": null,
   "metadata": {},
   "outputs": [],
   "source": []
  },
  {
   "cell_type": "markdown",
   "metadata": {},
   "source": [
    "### 4. ¿Cuántas calificaciones tiene cada película? ¿Cuál es la calificación media de cada uno?  Nota: agrupen las calificaciones y cuenten las clasificaciones "
   ]
  },
  {
   "cell_type": "code",
   "execution_count": null,
   "metadata": {},
   "outputs": [],
   "source": []
  },
  {
   "cell_type": "markdown",
   "metadata": {},
   "source": [
    "### 5. ¿cuáles son las películas son las 20 mejores  y peores según las calificaciones? ¿Cuáles son las más calificadas? "
   ]
  },
  {
   "cell_type": "code",
   "execution_count": null,
   "metadata": {},
   "outputs": [],
   "source": []
  },
  {
   "cell_type": "markdown",
   "metadata": {},
   "source": [
    "### 6. La columna de género en el DataFrame tiene divisiones, ¿podemos poner cada genero en una columna? "
   ]
  },
  {
   "cell_type": "code",
   "execution_count": null,
   "metadata": {},
   "outputs": [],
   "source": []
  },
  {
   "cell_type": "markdown",
   "metadata": {},
   "source": [
    "### 7. Concatena las nuevas columnas y quita la columna vieja"
   ]
  },
  {
   "cell_type": "code",
   "execution_count": null,
   "metadata": {},
   "outputs": [],
   "source": []
  }
 ],
 "metadata": {
  "colab": {
   "collapsed_sections": [],
   "name": "Sesión 2 - Pandas.ipynb",
   "provenance": [],
   "version": "0.3.2"
  },
  "kernelspec": {
   "display_name": "Python 3",
   "language": "python",
   "name": "python3"
  },
  "language_info": {
   "codemirror_mode": {
    "name": "ipython",
    "version": 3
   },
   "file_extension": ".py",
   "mimetype": "text/x-python",
   "name": "python",
   "nbconvert_exporter": "python",
   "pygments_lexer": "ipython3",
   "version": "3.6.9"
  }
 },
 "nbformat": 4,
 "nbformat_minor": 1
}
