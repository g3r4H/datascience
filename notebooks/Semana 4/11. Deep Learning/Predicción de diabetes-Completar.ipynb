{
 "cells": [
  {
   "cell_type": "code",
   "execution_count": 62,
   "metadata": {},
   "outputs": [],
   "source": [
    "import pandas as pd\n",
    "import numpy as np\n",
    "from keras.models import Sequential\n",
    "from keras.layers import Dense, Dropout"
   ]
  },
  {
   "cell_type": "code",
   "execution_count": 119,
   "metadata": {},
   "outputs": [
    {
     "data": {
      "text/html": [
       "<div>\n",
       "<style scoped>\n",
       "    .dataframe tbody tr th:only-of-type {\n",
       "        vertical-align: middle;\n",
       "    }\n",
       "\n",
       "    .dataframe tbody tr th {\n",
       "        vertical-align: top;\n",
       "    }\n",
       "\n",
       "    .dataframe thead th {\n",
       "        text-align: right;\n",
       "    }\n",
       "</style>\n",
       "<table border=\"1\" class=\"dataframe\">\n",
       "  <thead>\n",
       "    <tr style=\"text-align: right;\">\n",
       "      <th></th>\n",
       "      <th>Times_Pregnant</th>\n",
       "      <th>Glucose_Conc</th>\n",
       "      <th>Diastolic_Pressure</th>\n",
       "      <th>Triceps_Thickness</th>\n",
       "      <th>Insulin</th>\n",
       "      <th>Body_Mass_Index</th>\n",
       "      <th>Diabetes_Pedigree</th>\n",
       "      <th>Age</th>\n",
       "      <th>Diabetes</th>\n",
       "    </tr>\n",
       "  </thead>\n",
       "  <tbody>\n",
       "    <tr>\n",
       "      <th>0</th>\n",
       "      <td>6</td>\n",
       "      <td>148</td>\n",
       "      <td>72</td>\n",
       "      <td>35</td>\n",
       "      <td>0</td>\n",
       "      <td>33.6</td>\n",
       "      <td>0.627</td>\n",
       "      <td>50</td>\n",
       "      <td>1</td>\n",
       "    </tr>\n",
       "    <tr>\n",
       "      <th>1</th>\n",
       "      <td>1</td>\n",
       "      <td>85</td>\n",
       "      <td>66</td>\n",
       "      <td>29</td>\n",
       "      <td>0</td>\n",
       "      <td>26.6</td>\n",
       "      <td>0.351</td>\n",
       "      <td>31</td>\n",
       "      <td>0</td>\n",
       "    </tr>\n",
       "    <tr>\n",
       "      <th>2</th>\n",
       "      <td>8</td>\n",
       "      <td>183</td>\n",
       "      <td>64</td>\n",
       "      <td>0</td>\n",
       "      <td>0</td>\n",
       "      <td>23.3</td>\n",
       "      <td>0.672</td>\n",
       "      <td>32</td>\n",
       "      <td>1</td>\n",
       "    </tr>\n",
       "    <tr>\n",
       "      <th>3</th>\n",
       "      <td>1</td>\n",
       "      <td>89</td>\n",
       "      <td>66</td>\n",
       "      <td>23</td>\n",
       "      <td>94</td>\n",
       "      <td>28.1</td>\n",
       "      <td>0.167</td>\n",
       "      <td>21</td>\n",
       "      <td>0</td>\n",
       "    </tr>\n",
       "    <tr>\n",
       "      <th>4</th>\n",
       "      <td>0</td>\n",
       "      <td>137</td>\n",
       "      <td>40</td>\n",
       "      <td>35</td>\n",
       "      <td>168</td>\n",
       "      <td>43.1</td>\n",
       "      <td>2.288</td>\n",
       "      <td>33</td>\n",
       "      <td>1</td>\n",
       "    </tr>\n",
       "  </tbody>\n",
       "</table>\n",
       "</div>"
      ],
      "text/plain": [
       "   Times_Pregnant  Glucose_Conc  Diastolic_Pressure  Triceps_Thickness  \\\n",
       "0               6           148                  72                 35   \n",
       "1               1            85                  66                 29   \n",
       "2               8           183                  64                  0   \n",
       "3               1            89                  66                 23   \n",
       "4               0           137                  40                 35   \n",
       "\n",
       "   Insulin  Body_Mass_Index  Diabetes_Pedigree  Age  Diabetes  \n",
       "0        0             33.6              0.627   50         1  \n",
       "1        0             26.6              0.351   31         0  \n",
       "2        0             23.3              0.672   32         1  \n",
       "3       94             28.1              0.167   21         0  \n",
       "4      168             43.1              2.288   33         1  "
      ]
     },
     "execution_count": 119,
     "metadata": {},
     "output_type": "execute_result"
    }
   ],
   "source": [
    "# PIMA INDIANS DATASET\n",
    "\n",
    "# Escribe el código para cargar el archivo. Se llama 'pima-indians-diabetes.csv'\n",
    "diabetes  = pd.read_csv('datasets/pima-indians-diabetes.csv')\n",
    "\n",
    "# Muestra los primeros renglones de la tabla\n",
    "diabetes.head()"
   ]
  },
  {
   "cell_type": "code",
   "execution_count": 120,
   "metadata": {},
   "outputs": [
    {
     "data": {
      "text/html": [
       "<div>\n",
       "<style scoped>\n",
       "    .dataframe tbody tr th:only-of-type {\n",
       "        vertical-align: middle;\n",
       "    }\n",
       "\n",
       "    .dataframe tbody tr th {\n",
       "        vertical-align: top;\n",
       "    }\n",
       "\n",
       "    .dataframe thead th {\n",
       "        text-align: right;\n",
       "    }\n",
       "</style>\n",
       "<table border=\"1\" class=\"dataframe\">\n",
       "  <thead>\n",
       "    <tr style=\"text-align: right;\">\n",
       "      <th></th>\n",
       "      <th>Times_Pregnant</th>\n",
       "      <th>Glucose_Conc</th>\n",
       "      <th>Diastolic_Pressure</th>\n",
       "      <th>Triceps_Thickness</th>\n",
       "      <th>Body_Mass_Index</th>\n",
       "      <th>Diabetes_Pedigree</th>\n",
       "      <th>Age</th>\n",
       "      <th>Diabetes</th>\n",
       "    </tr>\n",
       "  </thead>\n",
       "  <tbody>\n",
       "    <tr>\n",
       "      <th>0</th>\n",
       "      <td>6</td>\n",
       "      <td>148</td>\n",
       "      <td>72</td>\n",
       "      <td>35</td>\n",
       "      <td>33.6</td>\n",
       "      <td>0.627</td>\n",
       "      <td>50</td>\n",
       "      <td>1</td>\n",
       "    </tr>\n",
       "    <tr>\n",
       "      <th>1</th>\n",
       "      <td>1</td>\n",
       "      <td>85</td>\n",
       "      <td>66</td>\n",
       "      <td>29</td>\n",
       "      <td>26.6</td>\n",
       "      <td>0.351</td>\n",
       "      <td>31</td>\n",
       "      <td>0</td>\n",
       "    </tr>\n",
       "    <tr>\n",
       "      <th>3</th>\n",
       "      <td>1</td>\n",
       "      <td>89</td>\n",
       "      <td>66</td>\n",
       "      <td>23</td>\n",
       "      <td>28.1</td>\n",
       "      <td>0.167</td>\n",
       "      <td>21</td>\n",
       "      <td>0</td>\n",
       "    </tr>\n",
       "    <tr>\n",
       "      <th>4</th>\n",
       "      <td>0</td>\n",
       "      <td>137</td>\n",
       "      <td>40</td>\n",
       "      <td>35</td>\n",
       "      <td>43.1</td>\n",
       "      <td>2.288</td>\n",
       "      <td>33</td>\n",
       "      <td>1</td>\n",
       "    </tr>\n",
       "    <tr>\n",
       "      <th>6</th>\n",
       "      <td>3</td>\n",
       "      <td>78</td>\n",
       "      <td>50</td>\n",
       "      <td>32</td>\n",
       "      <td>31.0</td>\n",
       "      <td>0.248</td>\n",
       "      <td>26</td>\n",
       "      <td>1</td>\n",
       "    </tr>\n",
       "  </tbody>\n",
       "</table>\n",
       "</div>"
      ],
      "text/plain": [
       "   Times_Pregnant  Glucose_Conc  Diastolic_Pressure  Triceps_Thickness  \\\n",
       "0               6           148                  72                 35   \n",
       "1               1            85                  66                 29   \n",
       "3               1            89                  66                 23   \n",
       "4               0           137                  40                 35   \n",
       "6               3            78                  50                 32   \n",
       "\n",
       "   Body_Mass_Index  Diabetes_Pedigree  Age  Diabetes  \n",
       "0             33.6              0.627   50         1  \n",
       "1             26.6              0.351   31         0  \n",
       "3             28.1              0.167   21         0  \n",
       "4             43.1              2.288   33         1  \n",
       "6             31.0              0.248   26         1  "
      ]
     },
     "execution_count": 120,
     "metadata": {},
     "output_type": "execute_result"
    }
   ],
   "source": [
    "interest = diabetes.columns[2:4]\n",
    "diabetes = diabetes.drop(columns = 'Insulin')\n",
    "diabetes = diabetes[diabetes[interest[0]] > 0]\n",
    "diabetes = diabetes[diabetes[interest[1]] > 0]\n",
    "diabetes.head()"
   ]
  },
  {
   "cell_type": "code",
   "execution_count": 121,
   "metadata": {},
   "outputs": [
    {
     "name": "stdout",
     "output_type": "stream",
     "text": [
      "renglones: 539\n",
      "columnas: 8\n"
     ]
    }
   ],
   "source": [
    "# ¿Cuántos renglones y cuántas columnas tiene la tabla?\n",
    "# Imprime el resultado\n",
    "print('renglones:',  diabetes.shape[0] )\n",
    "print('columnas:',  diabetes.shape[1])"
   ]
  },
  {
   "cell_type": "code",
   "execution_count": 122,
   "metadata": {},
   "outputs": [],
   "source": [
    "# La variable a predecir es si la persona presenta diabetes (es la última columna)\n",
    "# Guarda las primeras columnas en una variable llamada X y la variable a predecir en una variable llamada Y.\n",
    "X = diabetes.drop(columns='Diabetes')\n",
    "Y = diabetes['Diabetes']"
   ]
  },
  {
   "cell_type": "code",
   "execution_count": 123,
   "metadata": {},
   "outputs": [],
   "source": [
    "# Ahora separa en grupos de entrenamiento y grupos de prueba\n",
    "# Usa la función train_test_split de sklearn\n",
    "from sklearn.model_selection import train_test_split\n",
    "X_train, X_test, y_train, y_test = train_test_split(X, Y, test_size = 0.3, random_state = 52 )"
   ]
  },
  {
   "cell_type": "markdown",
   "metadata": {},
   "source": [
    "# Crea un modelo de red neuronal sequencial"
   ]
  },
  {
   "cell_type": "code",
   "execution_count": 130,
   "metadata": {},
   "outputs": [],
   "source": [
    "input_shape = 7"
   ]
  },
  {
   "cell_type": "code",
   "execution_count": 155,
   "metadata": {},
   "outputs": [],
   "source": [
    "# Crea un modelo secuencial \n",
    "modelo = Sequential()\n",
    "\n",
    "# Agrega la primera capa. Recuerda que la primera capa necesita saber cuántos atributos de entrada hay.\n",
    "# Usa una función de activación ReLu\n",
    "modelo.add(Dense(units=16, activation='relu', input_shape= (input_shape, )))\n",
    "\n",
    "# Agrega más capas al modelo. Puedes poner las capas y neuronas que creas convenientes.\n",
    "modelo.add(Dense(units=8, activation='relu'))\n",
    "modelo.add(Dense(units=4, activation='relu'))\n",
    "\n",
    "# Agrega la capa de salida. Es un problema de clasificación binaria. ¿Cuál es la función de activación correcta?\n",
    "modelo.add(Dense(units=1, activation='sigmoid'))"
   ]
  },
  {
   "cell_type": "code",
   "execution_count": 156,
   "metadata": {},
   "outputs": [
    {
     "name": "stdout",
     "output_type": "stream",
     "text": [
      "_________________________________________________________________\n",
      "Layer (type)                 Output Shape              Param #   \n",
      "=================================================================\n",
      "dense_45 (Dense)             (None, 16)                128       \n",
      "_________________________________________________________________\n",
      "dense_46 (Dense)             (None, 8)                 136       \n",
      "_________________________________________________________________\n",
      "dense_47 (Dense)             (None, 4)                 36        \n",
      "_________________________________________________________________\n",
      "dense_48 (Dense)             (None, 1)                 5         \n",
      "=================================================================\n",
      "Total params: 305\n",
      "Trainable params: 305\n",
      "Non-trainable params: 0\n",
      "_________________________________________________________________\n"
     ]
    }
   ],
   "source": [
    "# Revisa tu modelo. Utiliza la función summary para ver cómo quedó.\n",
    "modelo.summary()"
   ]
  },
  {
   "cell_type": "code",
   "execution_count": 157,
   "metadata": {},
   "outputs": [],
   "source": [
    "# Es hora de compilar el modelo. Hay que decidir el optimizador, la función de costo y las métricas.\n",
    "# Completa la siguiente línea con los parámetros requeridos.\n",
    "\n",
    "# Los optimizadores pueden ser 'adam' o 'sgd'\n",
    "# En métricas utilizamos ['accuracy']\n",
    "# Es un problema de clasificación. ¿Cómo se llama la función de costo para este caso? \n",
    "# Las opciones son ('mse', 'categorical_crossentropy' o 'binary_crossentropy')\n",
    "\n",
    "modelo.compile(loss= 'binary_crossentropy'   , optimizer= 'adam'  , metrics= ['accuracy']  )"
   ]
  },
  {
   "cell_type": "code",
   "execution_count": 158,
   "metadata": {},
   "outputs": [],
   "source": [
    "# Ahora entrena el modelo. Usa el 10 porciento de los datos para ver cómo va mejorando la métrica.\n",
    "# Hay que definir también un tamaño de paso 'batch_size' y las épocas ('epochs')\n",
    "history = modelo.fit(X_train, y_train, epochs= 40  , batch_size= 10  , verbose=False, validation_split=  0.1 )"
   ]
  },
  {
   "cell_type": "code",
   "execution_count": 159,
   "metadata": {},
   "outputs": [
    {
     "data": {
      "image/png": "[encoded data removed]",
      "text/plain": [
       "<Figure size 576x432 with 1 Axes>"
      ]
     },
     "metadata": {},
     "output_type": "display_data"
    },
    {
     "name": "stdout",
     "output_type": "stream",
     "text": [
      "Precisión en datos de prueba: 0.71\n"
     ]
    }
   ],
   "source": [
    "# Vamos a ver cómo quedó el modelo.\n",
    "# Completa los datos que hay que mandar a la función de evaluar\n",
    "costo, precisión  = modelo.evaluate( X_test, y_test , verbose=False)\n",
    "\n",
    "## Graficar los resultados\n",
    "import matplotlib.pyplot as plt\n",
    "import seaborn as sns\n",
    "\n",
    "sns.set()\n",
    "plt.figure(figsize=(8,6))\n",
    "plt.plot(history.history['acc'])\n",
    "plt.plot(history.history['val_acc'])\n",
    "plt.title('Precisión del modelo durante entrenamiento')\n",
    "plt.ylabel('Precisión')\n",
    "plt.xlabel('Época')\n",
    "plt.legend(['Entrenamiento', 'Validación'], loc='best')\n",
    "plt.show()\n",
    "\n",
    "print(f'Precisión en datos de prueba: {precisión:.3}')"
   ]
  },
  {
   "cell_type": "markdown",
   "metadata": {},
   "source": [
    "# Predicciones"
   ]
  },
  {
   "cell_type": "code",
   "execution_count": 170,
   "metadata": {},
   "outputs": [],
   "source": [
    "# Ahora vamos a utilizar los datos de prueba para ver que tan bueno es el modelo\n",
    "# Usa el método predict para obtener los resultados de los datos X_tes\n",
    "prediccion = modelo.predict( X_test   )\n",
    "\n",
    "# Ahora define un punto de corte para asignar si la persona tiene diabetes o no\n",
    "corte = 0.65\n",
    "\n",
    "prediccion_si_no = np.squeeze(1*(prediccion>corte))"
   ]
  },
  {
   "cell_type": "code",
   "execution_count": 171,
   "metadata": {},
   "outputs": [
    {
     "data": {
      "text/html": [
       "<div>\n",
       "<style scoped>\n",
       "    .dataframe tbody tr th:only-of-type {\n",
       "        vertical-align: middle;\n",
       "    }\n",
       "\n",
       "    .dataframe tbody tr th {\n",
       "        vertical-align: top;\n",
       "    }\n",
       "\n",
       "    .dataframe thead th {\n",
       "        text-align: right;\n",
       "    }\n",
       "</style>\n",
       "<table border=\"1\" class=\"dataframe\">\n",
       "  <thead>\n",
       "    <tr style=\"text-align: right;\">\n",
       "      <th>Valor Real</th>\n",
       "      <th>0</th>\n",
       "      <th>1</th>\n",
       "    </tr>\n",
       "    <tr>\n",
       "      <th>Predicción</th>\n",
       "      <th></th>\n",
       "      <th></th>\n",
       "    </tr>\n",
       "  </thead>\n",
       "  <tbody>\n",
       "    <tr>\n",
       "      <th>0</th>\n",
       "      <td>107</td>\n",
       "      <td>40</td>\n",
       "    </tr>\n",
       "    <tr>\n",
       "      <th>1</th>\n",
       "      <td>5</td>\n",
       "      <td>10</td>\n",
       "    </tr>\n",
       "  </tbody>\n",
       "</table>\n",
       "</div>"
      ],
      "text/plain": [
       "Valor Real    0   1\n",
       "Predicción         \n",
       "0           107  40\n",
       "1             5  10"
      ]
     },
     "execution_count": 171,
     "metadata": {},
     "output_type": "execute_result"
    }
   ],
   "source": [
    "# Ahora veamos cómo se comparan los valores reales contra los predichos.\n",
    "pd.crosstab(prediccion_si_no, y_test, rownames=['Predicción'], colnames=['Valor Real'])\n",
    "\n",
    "# Qué pasa si cambias el punto de corte? Cambia el valor en la celda anterior y prueba otra vez,"
   ]
  },
  {
   "cell_type": "code",
   "execution_count": null,
   "metadata": {},
   "outputs": [],
   "source": []
  }
 ],
 "metadata": {
  "kernelspec": {
   "display_name": "Python 3",
   "language": "python",
   "name": "python3"
  },
  "language_info": {
   "codemirror_mode": {
    "name": "ipython",
    "version": 3
   },
   "file_extension": ".py",
   "mimetype": "text/x-python",
   "name": "python",
   "nbconvert_exporter": "python",
   "pygments_lexer": "ipython3",
   "version": "3.7.3"
  },
  "toc": {
   "base_numbering": 1,
   "nav_menu": {},
   "number_sections": true,
   "sideBar": true,
   "skip_h1_title": false,
   "title_cell": "Table of Contents",
   "title_sidebar": "Contents",
   "toc_cell": false,
   "toc_position": {},
   "toc_section_display": true,
   "toc_window_display": false
  },
  "varInspector": {
   "cols": {
    "lenName": 16,
    "lenType": 16,
    "lenVar": 40
   },
   "kernels_config": {
    "python": {
     "delete_cmd_postfix": "",
     "delete_cmd_prefix": "del ",
     "library": "var_list.py",
     "varRefreshCmd": "print(var_dic_list())"
    },
    "r": {
     "delete_cmd_postfix": ") ",
     "delete_cmd_prefix": "rm(",
     "library": "var_list.r",
     "varRefreshCmd": "cat(var_dic_list()) "
    }
   },
   "types_to_exclude": [
    "module",
    "function",
    "builtin_function_or_method",
    "instance",
    "_Feature"
   ],
   "window_display": false
  }
 },
 "nbformat": 4,
 "nbformat_minor": 4
}
