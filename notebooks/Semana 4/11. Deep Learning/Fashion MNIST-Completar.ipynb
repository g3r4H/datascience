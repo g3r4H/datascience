{
 "cells": [
  {
   "cell_type": "code",
   "execution_count": 2,
   "metadata": {},
   "outputs": [
    {
     "name": "stderr",
     "output_type": "stream",
     "text": [
      "Using TensorFlow backend.\n"
     ]
    }
   ],
   "source": [
    "import numpy as np\n",
    "import pandas as pd\n",
    "import matplotlib.pyplot as plt\n",
    "import seaborn as sns\n",
    "\n",
    "import tensorflow as tf\n",
    "import keras\n",
    "from keras.datasets import fashion_mnist"
   ]
  },
  {
   "cell_type": "code",
   "execution_count": 27,
   "metadata": {},
   "outputs": [
    {
     "name": "stdout",
     "output_type": "stream",
     "text": [
      "Datos de entrenamiento: (60000, 28, 28)\n",
      "Datos de prueba: (10000, 28, 28)\n",
      "[9 0 0 ... 3 0 5]\n"
     ]
    }
   ],
   "source": [
    "# Obtener los datos de fashion mnist y guárdalos en las variables correspondientes\n",
    "(x_train, y_train), (x_test, y_test) = fashion_mnist.load_data()\n",
    "# Imprime las dimensiones de los datos de entrenamiento\n",
    "print('Datos de entrenamiento:', x_train.shape   )\n",
    "print('Datos de prueba:', x_test.shape  )\n",
    "print(y_train)"
   ]
  },
  {
   "cell_type": "markdown",
   "metadata": {},
   "source": [
    "<img src=\"https://www.pyimagesearch.com/wp-content/uploads/2019/02/fashion_mnist_obtaining.jpg\" alt=\"Drawing\" style=\"width: 600px;\"/>"
   ]
  },
  {
   "cell_type": "code",
   "execution_count": 29,
   "metadata": {},
   "outputs": [],
   "source": [
    "prenda = ['T-shirt','Trouser','Pullover', 'Press','Coat','Sandal','Shirt','Sneaker','Ankle boot']"
   ]
  },
  {
   "cell_type": "code",
   "execution_count": 30,
   "metadata": {},
   "outputs": [
    {
     "name": "stdout",
     "output_type": "stream",
     "text": [
      "La imagen es: Press\n"
     ]
    },
    {
     "data": {
      "image/png": "[encoded data removed]",
      "text/plain": [
       "<Figure size 432x288 with 1 Axes>"
      ]
     },
     "metadata": {},
     "output_type": "display_data"
    }
   ],
   "source": [
    "## Ver un ejemplo.\n",
    "# Aquí estamos seleccionando una imagen al azar\n",
    "sample = np.random.choice(x_train.shape[0])\n",
    "\n",
    "print('La imagen es:', prenda[y_train[sample]])\n",
    "sns.set_style('whitegrid')\n",
    "plt.imshow(x_train[sample,:,:], cmap='Greys')\n",
    "plt.show()"
   ]
  },
  {
   "cell_type": "markdown",
   "metadata": {},
   "source": [
    "Para empezar, la red neuronal que hemos visto hasta ahora no acepta imágenes como datos de entrada. Para ello, tenemos que convertir las matrices que representan la imagen a vectores. Además, como queremos hacer una clasificación de más de dos categorías, hay que codificar las etiquetas con un one-hot-encoding.\n",
    "\n",
    "Esto último lo podemos hacer con pandas, scikit learn o el mismo keras."
   ]
  },
  {
   "cell_type": "code",
   "execution_count": 32,
   "metadata": {},
   "outputs": [
    {
     "name": "stdout",
     "output_type": "stream",
     "text": [
      "(10000, 28, 28, 1)\n",
      "(60000, 28, 28, 1)\n"
     ]
    }
   ],
   "source": [
    "# Convierte a 3 dimensiones el tamaño de las imágenes\n",
    "x_train  = x_train.reshape(x_train.shape[0], 28, 28, 1)\n",
    "x_test   = x_test.reshape(x_test.shape[0], 28, 28, 1)\n",
    "\n",
    "# Imprime el tamaño de las imágenes\n",
    "print( x_test.shape )\n",
    "print( x_train.shape )"
   ]
  },
  {
   "cell_type": "code",
   "execution_count": 37,
   "metadata": {},
   "outputs": [],
   "source": [
    "# Guardar la forma de los datos de entrada\n",
    "input_shape = (28, 28, 1)"
   ]
  },
  {
   "cell_type": "code",
   "execution_count": 33,
   "metadata": {},
   "outputs": [],
   "source": [
    "# Vamos a cambiar los datos de entero a decimal para poder hacer la división\n",
    "x_train = x_train.astype('float32')\n",
    "x_test  = x_test.astype('float32')\n",
    "\n",
    "# Cambia la escala de los datos de entrada de 0-255 a 0-1\n",
    "x_train = x_train/255\n",
    "x_test  = x_test/255"
   ]
  },
  {
   "cell_type": "code",
   "execution_count": 34,
   "metadata": {},
   "outputs": [],
   "source": [
    "# Cambiamos a one.hot encoding las variables de etiqueta. ¿Cuántas categorías diferentes hay para clasificar las imágenes?\n",
    "num_classes = 10\n",
    "\n",
    "# Utiliza la variable anterior para codificar los datos de etiqueta\n",
    "y_train = keras.utils.to_categorical( y_train , num_classes )\n",
    "y_test  = keras.utils.to_categorical( y_test , num_classes )"
   ]
  },
  {
   "cell_type": "code",
   "execution_count": 47,
   "metadata": {},
   "outputs": [
    {
     "name": "stdout",
     "output_type": "stream",
     "text": [
      "_________________________________________________________________\n",
      "Layer (type)                 Output Shape              Param #   \n",
      "=================================================================\n",
      "conv2d_2 (Conv2D)            (None, 28, 28, 32)        320       \n",
      "_________________________________________________________________\n",
      "max_pooling2d_2 (MaxPooling2 (None, 14, 14, 32)        0         \n",
      "_________________________________________________________________\n",
      "flatten_2 (Flatten)          (None, 6272)              0         \n",
      "_________________________________________________________________\n",
      "dense_3 (Dense)              (None, 100)               627300    \n",
      "_________________________________________________________________\n",
      "dense_4 (Dense)              (None, 10)                1010      \n",
      "=================================================================\n",
      "Total params: 628,630\n",
      "Trainable params: 628,630\n",
      "Non-trainable params: 0\n",
      "_________________________________________________________________\n"
     ]
    }
   ],
   "source": [
    "# Importamos las funciones necesarias de Keras.\n",
    "# Una capa de convolución usamos Conv2D\n",
    "# Una capa de pooling (con la operación max) la usamos como MaxPooling2D\n",
    "# Para convertir el resultado de la convolución y pooling a un vector, usamos Flatten\n",
    "\n",
    "from keras.models import Sequential\n",
    "from keras.layers import Dense, Conv2D, Flatten, MaxPooling2D\n",
    "\n",
    "# Creamos un modelo secuencial como en el ejemplo anterior\n",
    "redConv = Sequential()\n",
    "\n",
    "# Agregamos una capa de 32 filtros de 3x3 con función de activación ReLu\n",
    "redConv.add( Conv2D(32, (3, 3), activation='relu', input_shape = input_shape, padding = 'same'   ))\n",
    "\n",
    "# Agregamos una capa de pooling de 2x2\n",
    "redConv.add(MaxPooling2D((2, 2)) )\n",
    "\n",
    "## Para convertir la capa anterior a un vector, usamos flatten\n",
    "redConv.add(Flatten()  )\n",
    "\n",
    "## Agregamos una capa de 100 nodos con activación relu\n",
    "redConv.add(Dense(100, activation= 'relu' )    )\n",
    "\n",
    "## Como queremos clasificar en muchas categorías, ¿cuál función de activación utilizamos?\n",
    "## El tipo de capa es Dense como en una red normal.\n",
    "redConv.add(Dense(10, activation= 'softmax' ))\n",
    "\n",
    "## Mostrar el resumen \n",
    "redConv.summary()"
   ]
  },
  {
   "cell_type": "code",
   "execution_count": 48,
   "metadata": {},
   "outputs": [],
   "source": [
    "## Entrenamos el modelo con un optimizador sgd. Ahora vamos a personalizar el optimizador\n",
    "optimizador = keras.optimizers.SGD(lr=0.01, momentum=0.9)\n",
    "\n",
    "# Utiliza el optimizador anterior para compilar el modelo\n",
    "redConv.compile(loss=  'categorical_crossentropy', optimizer=optimizador, metrics=['accuracy'])"
   ]
  },
  {
   "cell_type": "code",
   "execution_count": 49,
   "metadata": {},
   "outputs": [
    {
     "name": "stdout",
     "output_type": "stream",
     "text": [
      "Train on 54000 samples, validate on 6000 samples\n",
      "Epoch 1/10\n",
      "54000/54000 [==============================] - 21s 398us/step - loss: 0.4812 - acc: 0.8274 - val_loss: 0.3316 - val_acc: 0.8758\n",
      "Epoch 2/10\n",
      "54000/54000 [==============================] - 21s 395us/step - loss: 0.3153 - acc: 0.8848 - val_loss: 0.3078 - val_acc: 0.8887\n",
      "Epoch 3/10\n",
      "54000/54000 [==============================] - 21s 394us/step - loss: 0.2688 - acc: 0.9015 - val_loss: 0.2837 - val_acc: 0.8978\n",
      "Epoch 4/10\n",
      "54000/54000 [==============================] - 21s 392us/step - loss: 0.2389 - acc: 0.9117 - val_loss: 0.2853 - val_acc: 0.9023\n",
      "Epoch 5/10\n",
      "54000/54000 [==============================] - 21s 398us/step - loss: 0.2154 - acc: 0.9216 - val_loss: 0.2590 - val_acc: 0.9047\n",
      "Epoch 6/10\n",
      "54000/54000 [==============================] - 24s 443us/step - loss: 0.1946 - acc: 0.9285 - val_loss: 0.2571 - val_acc: 0.9050\n",
      "Epoch 7/10\n",
      "54000/54000 [==============================] - 22s 406us/step - loss: 0.1774 - acc: 0.9338 - val_loss: 0.2507 - val_acc: 0.9105\n",
      "Epoch 8/10\n",
      "54000/54000 [==============================] - 24s 454us/step - loss: 0.1616 - acc: 0.9403 - val_loss: 0.2568 - val_acc: 0.9093\n",
      "Epoch 9/10\n",
      "54000/54000 [==============================] - 22s 411us/step - loss: 0.1493 - acc: 0.9447 - val_loss: 0.2778 - val_acc: 0.9047\n",
      "Epoch 10/10\n",
      "54000/54000 [==============================] - 23s 418us/step - loss: 0.1343 - acc: 0.9499 - val_loss: 0.2688 - val_acc: 0.9097\n"
     ]
    }
   ],
   "source": [
    "# Corre el modelo con .fit con lotes de 32 y 10 epocas\n",
    "history = redConv.fit(x_train, y_train, batch_size= 32 , epochs= 10 , validation_split=0.1, verbose=True)"
   ]
  },
  {
   "cell_type": "code",
   "execution_count": 50,
   "metadata": {},
   "outputs": [
    {
     "data": {
      "image/png": "[encoded data removed]",
      "text/plain": [
       "<Figure size 576x432 with 1 Axes>"
      ]
     },
     "metadata": {},
     "output_type": "display_data"
    },
    {
     "name": "stdout",
     "output_type": "stream",
     "text": [
      "Precisión en datos de prueba: 0.906\n"
     ]
    }
   ],
   "source": [
    "# Utiliza la función evalate para ver el error y la precisión del modelo entrenado\n",
    "loss, accuracy  = redConv.evaluate(x_test, y_test, verbose=False)\n",
    "\n",
    "# Graficar resultados\n",
    "sns.set()\n",
    "plt.figure(figsize=(8,6))\n",
    "plt.plot(history.history['acc'])\n",
    "plt.plot(history.history['val_acc'])\n",
    "plt.title('Precisión del modelo durante entrenamiento')\n",
    "plt.ylabel('Precisión')\n",
    "plt.xlabel('Época')\n",
    "plt.legend(['Entrenamiento', 'Validación'], loc='best')\n",
    "plt.show()\n",
    "\n",
    "print(f'Precisión en datos de prueba: {accuracy:.3}')"
   ]
  },
  {
   "cell_type": "code",
   "execution_count": 58,
   "metadata": {},
   "outputs": [
    {
     "name": "stdout",
     "output_type": "stream",
     "text": [
      "La imagen predicha es: Pullover \n",
      "\n",
      "El imagen real es: Pullover\n"
     ]
    },
    {
     "data": {
      "image/png": "[encoded data removed]",
      "text/plain": [
       "<Figure size 432x288 with 1 Axes>"
      ]
     },
     "metadata": {},
     "output_type": "display_data"
    }
   ],
   "source": [
    "index   = np.random.choice(x_test.shape[0])\n",
    "x_index = x_test[index,:].reshape(1,28,28,1)\n",
    "prediccion = np.squeeze(redConv.predict(x_index))\n",
    "\n",
    "# El vector de predicción contiene los valores de las probabilidades de que sea uno de los dígitos de (0,1,2,...,8,9) en ese\n",
    "# orden. Para encontrar el valor predicho hay que buscar la POSICIÓN con el valor más alto.\n",
    "max_index = np.squeeze(np.where(prediccion==prediccion.max()))\n",
    "y_index   = np.squeeze(np.where(y_test[index,:]==1))\n",
    "\n",
    "# Mostrar el resultado\n",
    "print('La imagen predicha es:', prenda[max_index], '\\n')\n",
    "print('El imagen real es:', prenda[y_index])\n",
    "\n",
    "sns.set_style('whitegrid')\n",
    "plt.imshow(np.reshape(x_test[index,:],(28,28)), cmap='Greys')\n",
    "plt.show()"
   ]
  },
  {
   "cell_type": "code",
   "execution_count": 54,
   "metadata": {},
   "outputs": [],
   "source": [
    "# Hay una opción en las capas de convolución que se llama 'padding'.\n",
    "# Esta opción rellena la imagen de tal manera que el resultado después de aplicar el filtro tiene el mismo tamaño que\n",
    "# la imagen original.\n",
    "\n",
    "# Utiliza la opción padding='same' para ver cómo mejora o empeora el modelo."
   ]
  },
  {
   "cell_type": "code",
   "execution_count": null,
   "metadata": {},
   "outputs": [],
   "source": []
  }
 ],
 "metadata": {
  "kernelspec": {
   "display_name": "Python 3",
   "language": "python",
   "name": "python3"
  },
  "language_info": {
   "codemirror_mode": {
    "name": "ipython",
    "version": 3
   },
   "file_extension": ".py",
   "mimetype": "text/x-python",
   "name": "python",
   "nbconvert_exporter": "python",
   "pygments_lexer": "ipython3",
   "version": "3.7.3"
  },
  "toc": {
   "base_numbering": 1,
   "nav_menu": {},
   "number_sections": true,
   "sideBar": true,
   "skip_h1_title": false,
   "title_cell": "Table of Contents",
   "title_sidebar": "Contents",
   "toc_cell": false,
   "toc_position": {},
   "toc_section_display": true,
   "toc_window_display": false
  },
  "varInspector": {
   "cols": {
    "lenName": 16,
    "lenType": 16,
    "lenVar": 40
   },
   "kernels_config": {
    "python": {
     "delete_cmd_postfix": "",
     "delete_cmd_prefix": "del ",
     "library": "var_list.py",
     "varRefreshCmd": "print(var_dic_list())"
    },
    "r": {
     "delete_cmd_postfix": ") ",
     "delete_cmd_prefix": "rm(",
     "library": "var_list.r",
     "varRefreshCmd": "cat(var_dic_list()) "
    }
   },
   "types_to_exclude": [
    "module",
    "function",
    "builtin_function_or_method",
    "instance",
    "_Feature"
   ],
   "window_display": false
  }
 },
 "nbformat": 4,
 "nbformat_minor": 4
}
