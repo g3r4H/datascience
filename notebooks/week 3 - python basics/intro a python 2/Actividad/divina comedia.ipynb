{
 "cells": [
  {
   "cell_type": "markdown",
   "metadata": {},
   "source": [
    "# Proyecto - La Divina comedia\n",
    "## 1. Antes de empezar\n",
    "- Planea tu código: Antes de escribir código debemos sentarnos, pensar que hacer, hacer un plan (se le llama pseudocódigo) y luego ya tienes permiso de escribir código. \n",
    "- ¿No se que hacer? Google it! Seguramente en internet tiene seguramente las respuesta\n",
    "- Divide y conquistaras: trabaja segmentando el código en celdas y revisa que cada acción importante se realice la manera correcta\n",
    "- Si crees que usaras recurrentemente la sección de código que hace algo, sería conveniente hacer una función ¿no? \n",
    "\n",
    "\n",
    "## 2. Descripción \n",
    "\n",
    "Para este ejemplo usaremos del texto en ingles de *La Divina Comedia* escrita por Dante Alighieri y fue descargado desde *Project Gutenberg* con nombre **8800.txt**. Existen muchas maneras de realizar este ejercicio, no te preocupes por lo que hacen los demas. Realiza mediante comandos, no uses funciones hasta que se te pida. \n",
    "\n",
    "\n",
    "**Preguntas**\n",
    "\n",
    "\n",
    "- ¿Cuántas palabras existen en los primeros 5,000 caracteres? \n",
    "- ¿Cuántas palabras únicas existen en el mismo rango? \n",
    "- ¿Importan las mayúsculas y minúsculas? \n",
    "- ¿Cuántas veces aparece la palabra **the** en ese rango? \n",
    "- ¿Puedo saber cuantas veces existe una palabra en el texto cargado? \n",
    "- Crea un diccionario donde asignes el número de apariciones a la palabra existente\n",
    "- ¿Qué pasa con los signos de puntuación, es decir, 'me', 'me;', 'me.', 'me?' y 'me,' son iguales? \n",
    "    - ¿Cuáles existen? ¿Estan todos en la misma posición? \n",
    "- Elimina los signos de puntuación y realiza el mismo ejercicio \n",
    "\n",
    "\n",
    "Ahora crea funciones para realizar las mismas preguntas y usalas para analizar el texto completo (todo un reto). \n",
    "\n",
    "## 3. Comparación de resultados y métodos\n",
    "\n",
    "¡Comparemos la lógica de sus códigos! Nadie piensa igual y la diversidad nos permite encontrar mejores soluciones mediante el diálogo. \n"
   ]
  },
  {
   "cell_type": "markdown",
   "metadata": {},
   "source": [
    "## 4. ¿Quieren más? - Recursos de apoyo \n",
    "\n",
    "- Platarformas: EDX, Coursera, Udemy, DataCamp\n",
    "- Empresas: IBM, Microsoft\n",
    "- Millones de páginas web \n",
    "- Cientos de libros (como los que ya les pasamos) "
   ]
  },
  {
   "cell_type": "markdown",
   "metadata": {},
   "source": [
    "# Ejercicios con la Divina Comedia"
   ]
  },
  {
   "cell_type": "code",
   "execution_count": 1,
   "metadata": {},
   "outputs": [],
   "source": [
    "def getTextFromFirstDivineComedyLine():\n",
    "    \"\"\"Get all file lines starting at line 109.\n",
    "\n",
    "    Returns:\n",
    "        [string]\n",
    "    \"\"\"\n",
    "    with open('Semana 3 - Sesion 3 - 8800.txt') as filename:\n",
    "        lines = filename.readlines()[109:]\n",
    "\n",
    "    return lines"
   ]
  },
  {
   "cell_type": "code",
   "execution_count": 2,
   "metadata": {},
   "outputs": [],
   "source": [
    "def cleanData(text_list):\n",
    "    \"\"\"Clean text.\n",
    "\n",
    "    Remove double spaces, line breaks & return cars.\n",
    "    Then convert to string.\n",
    "\n",
    "    Args:\n",
    "        text_list ([string]): A list of words\n",
    "\n",
    "    Returns:\n",
    "        string\n",
    "    \"\"\"\n",
    "    text_string = ' '.join(text_list)\n",
    "    no_line_breaks = text_string.replace('\\n', '')\n",
    "    no_returns = no_line_breaks.replace('\\r', '')\n",
    "    no_double_spaces = no_returns.replace('  ', ' ')\n",
    "    \n",
    "    return no_double_spaces[:5000]"
   ]
  },
  {
   "cell_type": "code",
   "execution_count": 3,
   "metadata": {},
   "outputs": [],
   "source": [
    "def getFirst5000Characters(text):\n",
    "    \"\"\"Get the first 5,000 characters of string.\n",
    "\n",
    "    Params:\n",
    "        text (string): a clean string\n",
    "\n",
    "    Returns:\n",
    "        string\n",
    "    \"\"\"\n",
    "    return text[:5000]"
   ]
  },
  {
   "cell_type": "code",
   "execution_count": 4,
   "metadata": {},
   "outputs": [],
   "source": [
    "def countWords(words_list):\n",
    "    \"\"\"Count the total words in a list & also, count unique words.\n",
    "\n",
    "    Params:\n",
    "        words_list ([string]): a list of words\n",
    "    \"\"\"\n",
    "    unique_words = set(words_list)\n",
    "    message = 'There are a total of {} words, of which {} are unique.'.format(\n",
    "        len(words_list), len(unique_words))\n",
    "    print(message)"
   ]
  },
  {
   "cell_type": "code",
   "execution_count": 5,
   "metadata": {},
   "outputs": [],
   "source": [
    "def countWordsInLowercase(text):\n",
    "    \"\"\"Convert a text to lowercase & count words & unique words.\n",
    "\n",
    "    Params:\n",
    "        text (string): a clean text\n",
    "    \"\"\"\n",
    "    text_lower = text.lower()\n",
    "    words_list = text_lower.split(' ')\n",
    "    unique_words = set(words_list)\n",
    "    message = 'There are a total of {} lowercase words, of which {} are unique.'.format(\n",
    "        len(words_list), len(unique_words))\n",
    "    print(message)"
   ]
  },
  {
   "cell_type": "code",
   "execution_count": 6,
   "metadata": {},
   "outputs": [],
   "source": [
    "def searchAndCountWord(words_list, word_to_look):\n",
    "    \"\"\"How many timea a word appears in a list.\n",
    "\n",
    "    Params:\n",
    "        words_list ([string]): a list of words\n",
    "        word_to_look (string): the word to look\n",
    "    \"\"\"\n",
    "    word_exists = True if word_to_look in words_list else False\n",
    "    message = 'The word \"{}\" does not appear in the list'.format(word_to_look)\n",
    "    if word_exists:\n",
    "        total_occurrences = words_list.count(word_to_look)\n",
    "        message = 'The word \"{}\" appears {} times in the list'.format(\n",
    "            word_to_look, total_occurrences)\n",
    "    print(message)"
   ]
  },
  {
   "cell_type": "code",
   "execution_count": 7,
   "metadata": {},
   "outputs": [],
   "source": [
    "def createDictionary(words_list, only_first_ten=True):\n",
    "    \"\"\"Create a dictionary from a list of words.\n",
    "\n",
    "    The key will be the word & the value will be its number of occurrences\n",
    "\n",
    "    Params:\n",
    "        words_list ([string]): a list of words\n",
    "    \"\"\"\n",
    "    dictionary = {}\n",
    "    for word in words_list:\n",
    "        if word in dictionary:\n",
    "            dictionary[word] += 1\n",
    "        else:\n",
    "            dictionary[word] = 1\n",
    "\n",
    "    sorted_dictionary = sorted(dictionary.items(),\n",
    "                               key=lambda item: item[1], reverse=True)\n",
    "\n",
    "    if only_first_ten:\n",
    "        print_this = sorted_dictionary[:10]\n",
    "        disclaimer = '**We are going to show only the Top 10**'\n",
    "    else:\n",
    "        print_this = sorted_dictionary\n",
    "        disclaimer = '**We are going to show all Dictionary**'\n",
    "\n",
    "    print(disclaimer)\n",
    "    for entry in print_this:\n",
    "        message = '{}: {}'.format(entry[0], entry[1])\n",
    "        print(message)"
   ]
  },
  {
   "cell_type": "code",
   "execution_count": 8,
   "metadata": {},
   "outputs": [],
   "source": [
    "def showAndRemovePunctuation(text):\n",
    "    \"\"\"Extract all punctuation from text & return it withot punctuation.\n",
    "\n",
    "    Params:\n",
    "        text (string): a long text\n",
    "\n",
    "    Returns:\n",
    "        text (string): the text param without punctuation\n",
    "    \"\"\"\n",
    "    ok_characters = \"abcdefghijklmnopqrstuvwxyzABCDEFGHIJKLMNOPQRSTUVWXYZ1234567890 \"\n",
    "    punctuation = []\n",
    "    for character in text:\n",
    "        if character not in ok_characters:\n",
    "            punctuation.append(character)\n",
    "            text = text.replace(character, '')\n",
    "    unique_punctuation = set(punctuation)\n",
    "    punctuation_string = ' '.join(unique_punctuation)\n",
    "    message = 'The punctuation present in the text are: {}'.format(\n",
    "        punctuation_string)\n",
    "    print(message)\n",
    "    return text"
   ]
  },
  {
   "cell_type": "code",
   "execution_count": 9,
   "metadata": {},
   "outputs": [],
   "source": [
    "all_lines = getTextFromFirstDivineComedyLine()\n",
    "clean_data = cleanData(all_lines)\n",
    "five_thousand_chars = getFirst5000Characters(clean_data)\n",
    "words_list = five_thousand_chars.split(' ')"
   ]
  },
  {
   "cell_type": "code",
   "execution_count": 10,
   "metadata": {},
   "outputs": [
    {
     "name": "stdout",
     "output_type": "stream",
     "text": [
      "How many words are & how many are unique?\n",
      "------------------------------\n",
      "\n",
      "There are a total of 904 words, of which 553 are unique.\n"
     ]
    }
   ],
   "source": [
    "print('How many words are & how many are unique?')\n",
    "print('------------------------------')\n",
    "print('')\n",
    "countWords(words_list)"
   ]
  },
  {
   "cell_type": "code",
   "execution_count": 11,
   "metadata": {},
   "outputs": [
    {
     "name": "stdout",
     "output_type": "stream",
     "text": [
      "When converted to lowercase. How many words are & how many are unique?\n",
      "------------------------------\n",
      "\n",
      "There are a total of 904 lowercase words, of which 512 are unique.\n"
     ]
    }
   ],
   "source": [
    "print('When converted to lowercase. How many words are & how many are unique?')\n",
    "print('------------------------------')\n",
    "print('')\n",
    "countWordsInLowercase(five_thousand_chars)"
   ]
  },
  {
   "cell_type": "code",
   "execution_count": 12,
   "metadata": {},
   "outputs": [
    {
     "name": "stdout",
     "output_type": "stream",
     "text": [
      "How many times the word \"the\" appears?\n",
      "------------------------------\n",
      "\n",
      "The word \"the\" appears 41 times in the list\n"
     ]
    }
   ],
   "source": [
    "print('How many times the word \"the\" appears?')\n",
    "print('------------------------------')\n",
    "print('')\n",
    "searchAndCountWord(words_list, 'the')"
   ]
  },
  {
   "cell_type": "code",
   "execution_count": 13,
   "metadata": {},
   "outputs": [
    {
     "name": "stdout",
     "output_type": "stream",
     "text": [
      "Does the word \"table\" exist in the text? How many times does it appears?\n",
      "------------------------------\n",
      "\n",
      "The word \"table\" does not appear in the list\n"
     ]
    }
   ],
   "source": [
    "word_to_look = 'table'\n",
    "print('Does the word \"{}\" exist in the text? How many times does it appears?'.format(word_to_look))\n",
    "print('------------------------------')\n",
    "print('')\n",
    "searchAndCountWord(words_list, word_to_look)"
   ]
  },
  {
   "cell_type": "code",
   "execution_count": 14,
   "metadata": {},
   "outputs": [
    {
     "name": "stdout",
     "output_type": "stream",
     "text": [
      "What are the punctuation used in the text?\n",
      "------------------------------\n",
      "\n",
      "The punctuation present in the text are: - . ' ; ! : \" , ) (\n"
     ]
    }
   ],
   "source": [
    "print('What are the punctuation used in the text?')\n",
    "print('------------------------------')\n",
    "print('')\n",
    "text_without_punctuation = showAndRemovePunctuation(five_thousand_chars)"
   ]
  },
  {
   "cell_type": "code",
   "execution_count": 15,
   "metadata": {},
   "outputs": [
    {
     "name": "stdout",
     "output_type": "stream",
     "text": [
      "After removing punctuation from text, how many words are & how many are unique?\n",
      "------------------------------\n",
      "\n",
      "There are a total of 904 words, of which 508 are unique.\n"
     ]
    }
   ],
   "source": [
    "print('After removing punctuation from text, how many words are & how many are unique?')\n",
    "print('------------------------------')\n",
    "print('')\n",
    "text_without_punctuation_list = text_without_punctuation.split(' ')\n",
    "countWords(text_without_punctuation_list)"
   ]
  }
 ],
 "metadata": {
  "kernelspec": {
   "display_name": "Python 3",
   "language": "python",
   "name": "python3"
  },
  "language_info": {
   "codemirror_mode": {
    "name": "ipython",
    "version": 3
   },
   "file_extension": ".py",
   "mimetype": "text/x-python",
   "name": "python",
   "nbconvert_exporter": "python",
   "pygments_lexer": "ipython3",
   "version": "3.6.9"
  }
 },
 "nbformat": 4,
 "nbformat_minor": 2
}
