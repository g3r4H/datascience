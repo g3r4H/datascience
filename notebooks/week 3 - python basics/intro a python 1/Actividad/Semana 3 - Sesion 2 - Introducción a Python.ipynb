{
 "cells": [
  {
   "cell_type": "code",
   "execution_count": 1,
   "metadata": {},
   "outputs": [
    {
     "name": "stdout",
     "output_type": "stream",
     "text": [
      "De que tamaño es la contraseña que quieres generar10\n"
     ]
    },
    {
     "data": {
      "text/plain": [
       "'e9gfGSL7T6'"
      ]
     },
     "execution_count": 1,
     "metadata": {},
     "output_type": "execute_result"
    }
   ],
   "source": [
    "def generar(*args):\n",
    "  cadena=[]\n",
    "  for i in range (1,len+1):\n",
    "    cadena.append(random.choice([\"a\",\"b\",\"c\",\"d\",\"e\",\"f\",\"g\",\"h\",\"i\",\"j\",\"k\",\"l\",\"m\",\"n\",\"ñ\",\"o\",\"p\",\"q\",\"r\",\"s\",\"t\",\"v\",\"w\",\"x\",\"y\",\"z\",\"A\",\"B\",\"C\",\"D\",\"E\",\"F\",\"G\",\"H\",\"I\",\"J\",\"K\",\"L\",\"M\",\"N\",\"Ñ\",\"O\",\"P\",\"Q\",\"R\",\"S\",\"T\",\"V\",\"W\",\"X\",\"Y\",\"Z\",\"0\",\"1\",\"2\",\"3\",\"4\",\"5\",\"6\",\"7\",\"8\",\"9\"]))\n",
    "  contraseña = \"\".join(cadena)\n",
    "  return contraseña\n",
    "\n",
    "import random\n",
    "len = int (input (\"De que tamaño es la contraseña que quieres generar\") )\n",
    "generar (len)\n"
   ]
  },
  {
   "cell_type": "markdown",
   "metadata": {},
   "source": [
    "## EJERCICIOS EN CLASE"
   ]
  },
  {
   "cell_type": "code",
   "execution_count": null,
   "metadata": {},
   "outputs": [],
   "source": [
    "#Para los siguientes ejercicios , resolverlos generando una función"
   ]
  },
  {
   "cell_type": "markdown",
   "metadata": {},
   "source": [
    "1. Escribe una función que nos diga cuantos refrescos quedan en la nevera\n"
   ]
  },
  {
   "cell_type": "code",
   "execution_count": 2,
   "metadata": {},
   "outputs": [
    {
     "name": "stdout",
     "output_type": "stream",
     "text": [
      "There are 25 drinks left\n"
     ]
    }
   ],
   "source": [
    "#argumentos deben ser n= int\n",
    "#que diga el número de refresoc\n",
    "#debe imprimir el número de refrescos que quedan en la nevera\n",
    "\n",
    "def drinksRemaining(quantity):\n",
    "    message = 'There are {} drinks left'.format(int(quantity))\n",
    "    print(message)\n",
    "\n",
    "\n",
    "drinksRemaining(25)"
   ]
  },
  {
   "cell_type": "markdown",
   "metadata": {},
   "source": [
    "2. Imprimir un saludo al nombre que el usuario ingrese"
   ]
  },
  {
   "cell_type": "code",
   "execution_count": 5,
   "metadata": {},
   "outputs": [
    {
     "name": "stdout",
     "output_type": "stream",
     "text": [
      "Hi, Gerardo\n"
     ]
    }
   ],
   "source": [
    "def sayHi(name):\n",
    "    message = 'Hi, {}'.format(name)\n",
    "    print(message)\n",
    "\n",
    "sayHi('Gerardo')"
   ]
  },
  {
   "cell_type": "markdown",
   "metadata": {},
   "source": [
    "3. Encuentra todos los divisores del número que ingrese el usuario"
   ]
  },
  {
   "cell_type": "code",
   "execution_count": 6,
   "metadata": {},
   "outputs": [
    {
     "name": "stdout",
     "output_type": "stream",
     "text": [
      "The divisors of 20 are: 1 2 4 5 10 20\n"
     ]
    }
   ],
   "source": [
    "def findAllDivisors(number):\n",
    "    divisors_found = []\n",
    "    for num in range(1, number + 1):\n",
    "        if number % num == 0:\n",
    "            divisors_found.append(str(num))\n",
    "\n",
    "    numbers = ' '.join(divisors_found)\n",
    "    message = 'The divisors of {} are: {}'.format(number, numbers)\n",
    "    print(message)\n",
    "\n",
    "\n",
    "findAllDivisors(20)"
   ]
  },
  {
   "cell_type": "markdown",
   "metadata": {},
   "source": [
    "4. Crea una función que imprima si quedan refrescos en la nevera"
   ]
  },
  {
   "cell_type": "code",
   "execution_count": null,
   "metadata": {},
   "outputs": [],
   "source": [
    "#El resultado debe imprimirte \"Quedan refrescos\"  o \"No hay refrescos\""
   ]
  },
  {
   "cell_type": "code",
   "execution_count": 7,
   "metadata": {},
   "outputs": [
    {
     "name": "stdout",
     "output_type": "stream",
     "text": [
      "There are still 10 drinks left\n"
     ]
    }
   ],
   "source": [
    "def areDrinksLet(quantity):\n",
    "    message = 'There are none drinks left' if int(quantity) < 1 else 'There are still {} drinks left'.format(\n",
    "        quantity)\n",
    "    print(message)\n",
    "\n",
    "\n",
    "areDrinksLet(10)"
   ]
  },
  {
   "cell_type": "markdown",
   "metadata": {},
   "source": [
    "5. Calcula la suma de todos los números ingresados en una lista"
   ]
  },
  {
   "cell_type": "code",
   "execution_count": 8,
   "metadata": {},
   "outputs": [
    {
     "name": "stdout",
     "output_type": "stream",
     "text": [
      "45\n"
     ]
    }
   ],
   "source": [
    "def sumList(numbers):\n",
    "    print(sum(numbers))\n",
    "\n",
    "sumList([1, 2, 3, 4, 5, 6, 7, 8, 9])"
   ]
  },
  {
   "cell_type": "markdown",
   "metadata": {},
   "source": [
    "6. Genera una función que te regrese el producto de todos los números de una lista\n",
    "\n",
    "Ej. 1x2x3 = 6"
   ]
  },
  {
   "cell_type": "code",
   "execution_count": 9,
   "metadata": {},
   "outputs": [
    {
     "name": "stdout",
     "output_type": "stream",
     "text": [
      "362880\n"
     ]
    }
   ],
   "source": [
    "def multiplyList(numbers):\n",
    "    total = 1\n",
    "    for num in numbers:\n",
    "        total *= num\n",
    "\n",
    "    print(total)\n",
    "\n",
    "\n",
    "multiplyList([1, 2, 3, 4, 5, 6, 7, 8, 9])"
   ]
  },
  {
   "cell_type": "markdown",
   "metadata": {},
   "source": [
    "7. Crea una función que te regrese la longitud de un string"
   ]
  },
  {
   "cell_type": "code",
   "execution_count": 10,
   "metadata": {},
   "outputs": [
    {
     "name": "stdout",
     "output_type": "stream",
     "text": [
      "The string \"gerardo\" is 7 characters long\n"
     ]
    }
   ],
   "source": [
    "def stringLen(text):\n",
    "    length = 0\n",
    "    for char in text:\n",
    "        length += 1\n",
    "\n",
    "    message = 'The string \"{}\" is {} characters long'.format(text, length)\n",
    "    print(message)\n",
    "\n",
    "\n",
    "stringLen('gerardo')"
   ]
  },
  {
   "cell_type": "markdown",
   "metadata": {},
   "source": [
    "8. Crea una función que te calcule el factorial del número que ingreses \n",
    "#### def factorial(n=0):"
   ]
  },
  {
   "cell_type": "code",
   "execution_count": 11,
   "metadata": {},
   "outputs": [
    {
     "name": "stdout",
     "output_type": "stream",
     "text": [
      "The factorial of 10 is 3628800\n"
     ]
    }
   ],
   "source": [
    "def getFactorial(number):\n",
    "    factorial = 1\n",
    "    for num in range(1, number + 1):\n",
    "        factorial *= num\n",
    "\n",
    "    message = 'The factorial of {} is {}'.format(number, factorial)\n",
    "    print(message)\n",
    "\n",
    "\n",
    "getFactorial(10)"
   ]
  },
  {
   "cell_type": "code",
   "execution_count": null,
   "metadata": {},
   "outputs": [],
   "source": [
    "### Otros metodos de tipo string"
   ]
  },
  {
   "cell_type": "code",
   "execution_count": 12,
   "metadata": {},
   "outputs": [
    {
     "name": "stdout",
     "output_type": "stream",
     "text": [
      "Hola este es un enunciado.\n"
     ]
    }
   ],
   "source": [
    "my_str = \"hola este es un enunciado.\"\n",
    "\n",
    "my_enun = my_str.capitalize()\n",
    "\n",
    "print (my_enun)"
   ]
  },
  {
   "cell_type": "code",
   "execution_count": 13,
   "metadata": {},
   "outputs": [
    {
     "name": "stdout",
     "output_type": "stream",
     "text": [
      "True\n"
     ]
    }
   ],
   "source": [
    "my_str = \"hola este es un enunciado.\"\n",
    "\n",
    "my_enum = my_str.endswith(\".\")\n",
    "\n",
    "print(my_enum)"
   ]
  },
  {
   "cell_type": "code",
   "execution_count": 14,
   "metadata": {},
   "outputs": [
    {
     "name": "stdout",
     "output_type": "stream",
     "text": [
      " Hola me llamo: Escribe aqui tu nombre\n"
     ]
    }
   ],
   "source": [
    "n ='Escribe aqui tu nombre'\n",
    "print(' Hola me llamo: {}'.format(n))"
   ]
  },
  {
   "cell_type": "code",
   "execution_count": null,
   "metadata": {},
   "outputs": [],
   "source": []
  }
 ],
 "metadata": {
  "kernelspec": {
   "display_name": "Python 3",
   "language": "python",
   "name": "python3"
  },
  "language_info": {
   "codemirror_mode": {
    "name": "ipython",
    "version": 3
   },
   "file_extension": ".py",
   "mimetype": "text/x-python",
   "name": "python",
   "nbconvert_exporter": "python",
   "pygments_lexer": "ipython3",
   "version": "3.6.9"
  }
 },
 "nbformat": 4,
 "nbformat_minor": 2
}
