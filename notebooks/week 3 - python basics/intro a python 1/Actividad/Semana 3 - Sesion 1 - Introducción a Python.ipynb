{
 "cells": [
  {
   "cell_type": "markdown",
   "metadata": {},
   "source": [
    "# ¡Bienvenidos a la Tercera Semana del Mastery Data Science!\n",
    "\n",
    "## ¡Antes de empezar! \n",
    "\n",
    " 1. Abran Conda Prompt (Windows)/Terminal (MacOs/Linx)\n",
    " 2. Activen el ambiente que crearon *conda activate* y el nombre del ambiente\n",
    "     - Si no se acuerdan pueden usar el comando *conda list* para ver los ambientes posibles \n",
    " 3. Abran Jupyter y comencemos\n",
    "     \n"
   ]
  },
  {
   "cell_type": "markdown",
   "metadata": {},
   "source": [
    "## 5. Estructurando el código \n",
    "\n",
    "Imaginemos que tenemos que hacer una cierta operación múltiples veces dentro de nuestro código o esta operación se realizará en algunos otros programas. Para ayudarnos a segmentar nuestro código, podemos usar funciones y módulos para simplificarnos la vida. \n",
    "\n",
    "### 5.1 Funciones \n",
    "Hoy vamos a aprender sobre funciones. En términos informáticos, las funciones se conocen como subrutinas. Una subrutina se define como una secuencia de instrucciones que realizan una tarea específica, agrupadas como una unidad, es decir, un pequeño fragmento de código independiente. Antes de hablar sobre cómo definir y usar funciones, es importante saber por qué queremos usarlas.\n",
    "\n",
    "Nuestra primera razón para usar funciones es la reutilización. Se deriva de una metodología llamada Don't Repeat Yourself (DRY para abreviar). Esta metodología se reduce a la idea de que queremos ser lo más concisos posible al escribir código: no queremos escribir instrucciones innecesarias y queremos evitar repetir las mismas o similares instrucciones una y otra vez. Las funciones nos permiten lograr este objetivo al brindarnos una herramienta que podemos usar para envolver un conjunto de instrucciones en una sola unidad independiente. Esa unidad independiente se puede utilizar para realizar una tarea específica una y otra vez, sin necesidad de reescribir esas instrucciones. Se escriben solo una vez, en la función.\n",
    "\n",
    "La segunda razón por la que queremos usar funciones es la abstracción. Considere la función type () que hemos usado. Para usarlo necesitábamos saber:\n",
    "\n",
    "1. Cuál es la función, es decir, su nombre\n",
    "2. Lo que la función espera que le pase, es decir, los argumentos\n",
    "3. ¿Qué hace la función?\n",
    "4. Lo que la función nos devuelve, es decir, devuelve\n",
    "\n",
    "Eso es todo lo que sabíamos sobre type (), y lo usamos sin ningún problema. La conclusión clave aquí es que no necesitamos saber nada sobre cómo type () hace lo que dice que se supone que debe hacer. Esta es la idea de la abstracción: la implementación dentro de una función está oculta para la persona que llama (abstraída, si lo desea). Hay varias razones por las cuales este rasgo es deseable.\n",
    "\n",
    "Primero, permite a los llamadores de la función no preocuparse por cómo funciona la función en sí. Por el contrario, se mantienen seguros asumiendo que la función funcionará (sepa, sin embargo, que esta suposición no siempre es cierta, en cuyo caso tendrá que resolver sus propios problemas). Esto permite que la funcionalidad se comparta fácilmente y facilita la creación de cosas más complejas. Mediante el uso de funciones que otras personas han creado, puede pararse sobre sus hombros y crear programas más complejos.\n",
    "\n",
    "En segundo lugar, dado que la implementación está oculta para la persona que llama, esa implementación real puede cambiar (siempre y cuando las cuatro cosas enumeradas anteriormente permanezcan iguales) y la persona que llama no notará la diferencia. Esto facilita la división de los problemas en piezas más pequeñas, y cuando algo en una de esas piezas necesita cambiar, no afectará al resto de las piezas.\n",
    "\n",
    "\n",
    "\n",
    "\n",
    "#### Definiciones de funciones: Parte 1\n",
    "\n",
    "Lo primero que vamos a descubrir es cómo definir funciones. Para construir esto, echemos un vistazo al código que escribimos previamente para generar una lista de todos los elementos pares en `some_collection`.\n",
    "\n",
    "```python\n",
    "evens = []\n",
    "para elemento en datos:\n",
    "     si el elemento% 2 == 0:\n",
    "         evens.append (elemento)\n",
    "```\n",
    "\n",
    "Ahora, imaginemos que `datos` es en realidad solo una lista de números del 0 al 9 (es decir,` [0, 1, 2, 3, 4, 5, 6, 7, 8, 9] `). Recuerde, podemos usar la función `range ()` para crear esta lista. Para obtener una lista de todos los números pares del 0 al 9, podemos modificar nuestro código de la siguiente manera."
   ]
  },
  {
   "cell_type": "code",
   "execution_count": 2,
   "metadata": {},
   "outputs": [
    {
     "name": "stdout",
     "output_type": "stream",
     "text": [
      "[0, 2, 4, 6, 8]\n"
     ]
    }
   ],
   "source": [
    "pares = []\n",
    "for elemento in range(10):\n",
    "    if elemento % 2 == 0:\n",
    "        evens.append(elemento)\n",
    "print(evens)"
   ]
  },
  {
   "cell_type": "code",
   "execution_count": 3,
   "metadata": {},
   "outputs": [
    {
     "name": "stdout",
     "output_type": "stream",
     "text": [
      "Variable   Type    Data/Info\n",
      "----------------------------\n",
      "elemento   int     9\n",
      "evens      list    n=5\n"
     ]
    }
   ],
   "source": [
    "whos"
   ]
  },
  {
   "cell_type": "markdown",
   "metadata": {},
   "source": [
    "#### 5.1.1 Estructura de una función \n",
    "\n",
    "Siempre una función sera construida de la siguiente manera:\n",
    "\n",
    "$$\\textbf{def } \\text{nombre}(\\textit{parámetros}):$$\n",
    "$$ \\textit{Cuerpo de la función}$$\n",
    "$$ \\textbf{return } \\text{objeto}$$\n",
    "\n",
    "- **def** indica que estamos creando una función \n",
    "- **nombre** sera el nombre que usaremos para llamar la función más adelante nuestro código\n",
    "- **parámetros**  entradas necesarias para que nuestro código realice ciertas operaciones\n",
    "- **Cuerpo** Aquí se especifica que las acciones a realizar con los parámetros\n",
    "- **return** Devuelve el objeto que se indica para poder ser usado en nuestro código "
   ]
  },
  {
   "cell_type": "code",
   "execution_count": 4,
   "metadata": {},
   "outputs": [],
   "source": [
    "def my_func():\n",
    "    pass #Esto sirve como relleno en este momento"
   ]
  },
  {
   "cell_type": "code",
   "execution_count": 5,
   "metadata": {},
   "outputs": [
    {
     "name": "stdout",
     "output_type": "stream",
     "text": [
      "Esto es una prueba\n",
      "Esto es una prueba\n"
     ]
    }
   ],
   "source": [
    "#Ejemplo 1: Definamos nuestra primera función: que solo imprima un texto al ser llamada\n",
    "def prueba():\n",
    "    print('Esto es una prueba')\n",
    "\n",
    "prueba()   \n",
    "prueba()   \n",
    "    "
   ]
  },
  {
   "cell_type": "markdown",
   "metadata": {},
   "source": [
    "Ejemplos de funciones que ya conocemos:\n",
    "1. type() \n",
    "2. len()\n",
    "3. range()"
   ]
  },
  {
   "cell_type": "code",
   "execution_count": 11,
   "metadata": {},
   "outputs": [],
   "source": [
    "#Convertiremos la operacion anterior a una funcion:\n",
    "def obtener_pares(): \n",
    "    pares = []\n",
    "    for elemento in range(10): \n",
    "        if elemento % 2 == 0: \n",
    "            pares.append(elemento)\n",
    "    return evens\n",
    "#     print(evens)"
   ]
  },
  {
   "cell_type": "code",
   "execution_count": 13,
   "metadata": {},
   "outputs": [
    {
     "name": "stdout",
     "output_type": "stream",
     "text": [
      "[0, 2, 4, 6, 8]\n"
     ]
    }
   ],
   "source": [
    "#Ahora vamos a mandar a llamar a esta funcion:\n",
    "print(obtener_pares())"
   ]
  },
  {
   "cell_type": "markdown",
   "metadata": {},
   "source": [
    "### EJERCICIOS"
   ]
  },
  {
   "cell_type": "markdown",
   "metadata": {},
   "source": [
    "1. Reescribe la función obtener_pares() "
   ]
  },
  {
   "cell_type": "code",
   "execution_count": 1,
   "metadata": {},
   "outputs": [
    {
     "data": {
      "text/plain": [
       "[0, 2, 4, 6, 8]"
      ]
     },
     "execution_count": 1,
     "metadata": {},
     "output_type": "execute_result"
    }
   ],
   "source": [
    "def obtener_pares_2(): \n",
    "    pares = []\n",
    "    for elemento in range(10): \n",
    "        if elemento % 2 == 0: \n",
    "            pares.append(elemento)\n",
    "    return pares\n",
    "\n",
    "obtener_pares_2()"
   ]
  },
  {
   "cell_type": "markdown",
   "metadata": {},
   "source": [
    "2. Modifica la función de modo que ahora en lugar de regresar pares del 0 al 8, nos regrese los números pares del 0 al 20."
   ]
  },
  {
   "cell_type": "code",
   "execution_count": 2,
   "metadata": {},
   "outputs": [
    {
     "data": {
      "text/plain": [
       "[0, 2, 4, 6, 8, 10, 12, 14, 16, 18, 20]"
      ]
     },
     "execution_count": 2,
     "metadata": {},
     "output_type": "execute_result"
    }
   ],
   "source": [
    "def obtener_pares_3(): \n",
    "    pares = []\n",
    "    for elemento in range(21):\n",
    "        if elemento % 2 == 0:\n",
    "            pares.append(elemento)\n",
    "    return pares\n",
    "\n",
    "obtener_pares_3()"
   ]
  },
  {
   "cell_type": "markdown",
   "metadata": {},
   "source": [
    "3. Modifica la función para que ahora nos regrese los multiplos de 3."
   ]
  },
  {
   "cell_type": "code",
   "execution_count": 3,
   "metadata": {},
   "outputs": [
    {
     "data": {
      "text/plain": [
       "[0, 3, 6, 9, 12, 15, 18]"
      ]
     },
     "execution_count": 3,
     "metadata": {},
     "output_type": "execute_result"
    }
   ],
   "source": [
    "def obtener_pares_4(): \n",
    "    pares = []\n",
    "    for elemento in range(21):\n",
    "        if elemento % 3 == 0:\n",
    "            pares.append(elemento)\n",
    "    return pares\n",
    "\n",
    "obtener_pares_4()"
   ]
  },
  {
   "cell_type": "markdown",
   "metadata": {},
   "source": [
    "4. Manda a llamar la funcion que acaba de crear"
   ]
  },
  {
   "cell_type": "code",
   "execution_count": 4,
   "metadata": {},
   "outputs": [
    {
     "data": {
      "text/plain": [
       "[0, 3, 6, 9, 12, 15, 18]"
      ]
     },
     "execution_count": 4,
     "metadata": {},
     "output_type": "execute_result"
    }
   ],
   "source": [
    "obtener_pares_4()"
   ]
  },
  {
   "cell_type": "code",
   "execution_count": 5,
   "metadata": {},
   "outputs": [
    {
     "name": "stdout",
     "output_type": "stream",
     "text": [
      "The triangle area is 100.0 when its base is 10 & its height is 20\n"
     ]
    }
   ],
   "source": [
    "# Área de un Triángulo\n",
    "\n",
    "def triangle_area(base, height):\n",
    "    area = (base * height) / 2\n",
    "    return 'The triangle area is {} when its base is {} & its height is {}'.format(area, base, height)\n",
    "\n",
    "area_1 = triangle_area(10, 20)\n",
    "print(area_1)"
   ]
  },
  {
   "cell_type": "markdown",
   "metadata": {},
   "source": [
    "## EJEMPLO"
   ]
  },
  {
   "cell_type": "code",
   "execution_count": 15,
   "metadata": {},
   "outputs": [
    {
     "name": "stdout",
     "output_type": "stream",
     "text": [
      "El área es igual a 12.566370616\n",
      "\n",
      "El área es igual a 615.752160184\n",
      "12.566370616\n"
     ]
    }
   ],
   "source": [
    "\n",
    "#Ejercicio 2: Función que calcula el área de un círculo al ingresar el radio de éste\n",
    "def area_cir(rad): \n",
    "    A=3.141592654*rad**2\n",
    "    print('El área es igual a '+str(A))\n",
    "    return A\n",
    "\n",
    "#Asignamos el valor a una variable \n",
    "K=area_cir(2)\n",
    "print()\n",
    "\n",
    "area_cir(14)\n",
    "\n",
    "#Imprimimos el valor asignado a la variable\n",
    "print(K) "
   ]
  },
  {
   "cell_type": "markdown",
   "metadata": {},
   "source": [
    "### 5.2 Métodos\n",
    "\n",
    "Cada uno de los objetos creados poseen ciertas funciones propias dependiendo del tipo de \n",
    "\n",
    " ¿Como podemos saber cuales existen? Podemos escribir el **nombre del objeto.** y presionar la tecla tab \n",
    " \n",
    " Para mayor referencia: https://www.programiz.com/python-programming/methods/"
   ]
  },
  {
   "cell_type": "code",
   "execution_count": 1,
   "metadata": {},
   "outputs": [
    {
     "name": "stdout",
     "output_type": "stream",
     "text": [
      "A=[0, 1, 2, 3, 4, 5, 6, 7, 8, 9, 10]\n",
      "B=[9, 10, 11, 12, 13]\n",
      "\n",
      "A=[0, 1, 2, 3, 4, 5, 6, 7, 8, 9, 10, 5]\n",
      "\n",
      "A=[0, 1, 2, 3, 4, 5, 6, 7, 8, 9, 10, 5, 9, 10, 11, 12, 13]\n"
     ]
    }
   ],
   "source": [
    "A=list(range(11))\n",
    "B=list(range(9,14))\n",
    "print('A='+str(A))\n",
    "print('B='+str(B))\n",
    "print()\n",
    "\n",
    "# Agregar un elemento \n",
    "A.append(5)\n",
    "print('A='+str(A))\n",
    "print()\n",
    "\n",
    "# Agrega los elementos de B en A \n",
    "A.extend(B)\n",
    "print('A='+str(A))\n"
   ]
  },
  {
   "cell_type": "markdown",
   "metadata": {},
   "source": [
    "### 6 Paquetes\n",
    "\n",
    "Es un conjunto de módulos y funciones ya incluidas en Python con el fin de realizar operaciones sencillas y comunes. \n",
    "\n",
    "#### 6.1 Importando un paquete \n",
    "\n",
    "La importación de un paquete se realiza mediante el uso del comando **import**. Ciertos paquetes poseen nombres muy largos, por lo que suelen ser renombrados mediante el uso del complemento **as**: \n",
    "\n",
    "$$\\textbf{import }\\text{paquete }\\textbf{as }\\text{renobramiento}$$\n",
    "\n",
    "Dentro de los paquetes existen módulos o funciones espcíficas, a los cuales podemos acceder mediante el uso de la sintaxis **paquete.modulo()**\n",
    "\n",
    "\n",
    "### 6.2 Instalacion de paquetes \n",
    "\n",
    "Algunos paquetes no son incluidos directamente en la ditribución de Python por lo que debemos instarlas mediante el uso de herramientos de manejo de directorios como *pip* o *conda* \n",
    "\n",
    "- Usando *conda*, el propio sistema de manejo de la suite anaconda, en Anaconda prompt o terminal, dependiendo del caso, escribimos **conda install paquete 1 paquete 2 ...**. \n",
    "\n",
    "- Usando *pip*\n",
    "\n",
    "**Nota:** Cuando realicemos la instalación de un cierto paquete, debemos recordar instarlo en el ambiente que estemos utilizando para el proyecto. \n",
    "\n",
    "### 6.3 Paquetes importantes para la ciencia de Datos \n",
    "\n",
    "Aunque existen múltiples paquetes relacionados a una sección de la ciencia de datos, entre los más usados podemos mencionar \n",
    "\n",
    "\n",
    "1. **NumPy:** permite la integración de arreglos númericos de manera semenjante a MATLAB u Octave. Realmente es una manera de utilizar librerias de C, C++ y Fortran para realizar cálculos de manera rápida y eficiente. Información: http://www.numpy.org/\n",
    "\n",
    "\n",
    "2. **PyTorch**: es una de las librerias principales para el manejo de datos, aprendizaje automático, redes neuronales, ente otros. Represeta el peldaño de entrada para mucha gente sobre a estos temas por su simpleza. Información: https://pytorch.org/\n",
    "\n",
    "\n",
    "3. **SciPy:** Proporciona estadísticas, optimizaciones, integración y paquetes de álgebra lineal para computación. Se basa en el concepto NumPy para tratar problemas matemáticos complejos. Información: https://www.scipy.org/\n",
    "\n",
    "4. **Pandas:** Es una biblioteca de código abierto de Python para disponer de estructuras de datos de alto rendimiento y herramientas de análisis la cual se desarrolla sobre el paquete Numpy. Información: https://pandas.pydata.org/\n",
    "\n",
    "5. **SciKit-Learn:** Es una herramienta simple para el análisis de datos y tareas relacionadas con la minería. Es de código abierto y licenciado bajo el BSD. Información: https://scikit-learn.org/stable/\n",
    "\n",
    "6. **Matplotlib:** Esta biblioteca de gráficos 2D es muy famosa entre los científicos de datos por diseñar variedades de figuras en múltiples formatos que son compatible con múltiples plataformas. Información: https://matplotlib.org/\n",
    "\n",
    "7. **Bokeh:** Es una biblioteca de visualización más para diseñar gráficas más atractivas e interactivas. Información: https://bokeh.pydata.org/en/latest/\n",
    "\n",
    "8. **Tensorflow:** Esta biblioteca de código abierto fue diseñada por Google para calcular gráficos de datos bajos con los algoritmos de aprendizaje automático habilitados. Fue diseñado para satisfacer la alta demanda del trabajo de redes neuronales de capacitación. Información: https://www.tensorflow.org/\n",
    "\n"
   ]
  },
  {
   "cell_type": "markdown",
   "metadata": {},
   "source": [
    "## Material de práctica: \n",
    "\n",
    "1. Data Camp https://www.datacamp.com\n",
    "2. Python Scientific lecture notes (documento pdf incluido en la carpeta) "
   ]
  },
  {
   "cell_type": "markdown",
   "metadata": {},
   "source": [
    "## Preparandonos para el proyecto final\n",
    "Algunas preguntas para pensar...\n",
    "\n",
    "Título del Proyecto\n",
    "\n",
    "¿Cuál es el tema de tu proyecto?\n",
    "\n",
    "Resumen ejecutivo de su solución\n",
    "-1 párrafo \n",
    "\n",
    "Declaración del problema y caso de negocios\n",
    "\n",
    "¿Cuál es el problema técnico que está resolviendo?\n",
    "\n",
    "¿Cuál es el caso comercial aplicado para este problema?\n",
    "\n",
    "Perspectiva comercial (es decir, probabilidad, sentimiento, demanda, precio, estrategia de mercado, grupos, automatización)"
   ]
  },
  {
   "cell_type": "code",
   "execution_count": null,
   "metadata": {},
   "outputs": [],
   "source": []
  }
 ],
 "metadata": {
  "kernelspec": {
   "display_name": "Python 3",
   "language": "python",
   "name": "python3"
  },
  "language_info": {
   "codemirror_mode": {
    "name": "ipython",
    "version": 3
   },
   "file_extension": ".py",
   "mimetype": "text/x-python",
   "name": "python",
   "nbconvert_exporter": "python",
   "pygments_lexer": "ipython3",
   "version": "3.6.9"
  }
 },
 "nbformat": 4,
 "nbformat_minor": 2
}
